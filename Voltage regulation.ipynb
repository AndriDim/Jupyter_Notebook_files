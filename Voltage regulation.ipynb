{
 "cells": [
  {
   "cell_type": "markdown",
   "metadata": {},
   "source": [
    "<h2><center>Η συμβολή της Διεσπαρμένης Παραγωγής στη ρύθμιση τάσης</center></h2>\n",
    "\n",
    "\n",
    "<p>Τα  σύγχρονα  συστήματα  διανομής  έχουν  σχεδιαστεί  για να  διανέμουν το ρεύμα στους καταναλωτές, με  τη ροή της  πραγματικής και  της  άεργου  ισχύος να είναι  πάντα  από  το υψηλότερο προς στο  χαμηλότερο  επίπεδο  τάσης.<p> \n",
    "<p>Ωστόσο,  με τη σημαντική  διείσδυση  της Διεσπαρμένης Παραγωγής (ΔΠ), η ροή της ισχύος μπορεί να αντιστραφεί με αποτέλεσμα την ανύψωση τάσης. Έτσι, σε ορισμένες περιπτώσεις, η τάση μπορεί να ξεπεράσει το  ανώτατο  όριο.<p>\n",
    "\n",
    "<div>\n",
    "<img src=\"https://i.ibb.co/Vt7G5cr/Screenshot-from-2020-06-24-18-57-44.png\" alt=\"Screenshot-from-2020-06-24-18-57-44\" border=\"0\" width=\"500\"/>\n",
    "</div>\n",
    "\n",
    "<center> Σχήμα 1:Δίκτυο με διείσδυση ΔΠ</center>\n",
    "\n",
    "Στο Σχήμα 1 φαίνεται το φορτίο με ενεργό και άεργο ισχύ ($P_L$ , $Q_L$) και η μονάδα ΔΠ με ενεργό και άεργο ισχύ ($P_{DG}$ , $Q_{DG}$) που συνδέονται στο δίκτυο μέσω γραμμής ωμικής αντίστασης $R$ και επαγωγικής αντίδρασης $X$.\n",
    "\n",
    "$V_G$ είναι η τάση του δικτύου και $V_{PCC}$ η τάση του ζυγού φορτίου.\n",
    "\n",
    "$P_{PCC}$ και $Q_{PCC}$ είναι η συνολική ενεργός και άεργος ισχύς που ρέει από τον ζυγό φορτίου.\n",
    "\n",
    "Στην παρακάτω προσομοίωση θα μελετήσουμε τη συμβολή της ΔΠ στη ρύθμιση του φαινομένου της ανύψωσης τάσης. \n",
    "\n",
    "* Θα δούμε ότι η ανάστροφη ενεργού ισχύος από μια μονάδα ΔΠ ($P_{DG}$) στη γραμμή διανομής τείνει να αυξήσει την τάση στο σημείο σύνδεσης της μονάδας ΔΠ ($V_{PCC}$). \n",
    "* Η έγχυση αέργου ισχύος από τη μονάδα ΔΠ ($Q_{DG}$), μέσω της ρύθμισης του χωρητικού συντελεστή ισχύος ($\\cosφ$), αυξάνει περεταίρω την τάση,  \n",
    "* ενώ αντίθετα η απορρόφηση άεργου ισχύος από τη μονάδα ΔΠ ($Q_{DG}$), μέσω της ρύθμισης του επαγωγικού συντελεστή ισχύος ($\\cosφ$) βοηθάει στον περιορισμό της ανύψωσης τάσης.\n",
    "\n",
    "Στο παρακάτω τμήμα κώδικα δηλώνονται οι απαραίτητες βιβλιοθήκες της Python για την εκτέλεση του πειράματος. Χάρην συντομίας παρουσιάζουμε αυτό το κελί αναδιπλωμένο, αλλά το περιεχόμενό του μπορεί να εμφανιστεί πατώντας το βελάκι δεξιά ή αριστερά από το σχόλιο.  "
   ]
  },
  {
   "cell_type": "code",
   "execution_count": 1,
   "metadata": {
    "code_folding": []
   },
   "outputs": [],
   "source": [
    "# Imports\n",
    "import matplotlib.pylab as plt\n",
    "import pandas\n",
    "import math\n",
    "\n",
    "import numpy as np\n",
    "import time\n",
    "import pylab as pl\n",
    "from IPython import display\n",
    "\n",
    "import matplotlib.dates as md\n",
    "from datetime import datetime\n",
    "import datetime as dt\n",
    "\n",
    "import threading\n",
    "\n",
    "import ipywidgets as widgets\n",
    "from ipywidgets import IntSlider\n",
    "from ipywidgets import FloatSlider\n",
    "\n",
    "from IPython.display import clear_output\n",
    "from IPython.display import display\n",
    "\n",
    "from ipywidgets import interactive, interactive_output\n",
    "from ipywidgets import HBox\n",
    "\n",
    "# Enable inline plotting\n",
    "%matplotlib inline"
   ]
  },
  {
   "cell_type": "markdown",
   "metadata": {},
   "source": [
    "Στη συνέχεια ορίζονται οι μεταβλητές που θα χρησιμοποιηθούν.\n",
    "* $R= 2.35Ω$, $Χ = 1.71Ω$, $P_L= 300kW$, $Q_L= 227kVAr$ \n",
    "* Η τάση του δικτύου θεωρείται ότι έχει την ονομαστική της τιμή $V_{G}= 230kV$"
   ]
  },
  {
   "cell_type": "code",
   "execution_count": 2,
   "metadata": {
    "code_folding": []
   },
   "outputs": [],
   "source": [
    "global Pdg\n",
    "global Qdg\n",
    "global Pl\n",
    "global Ql\n",
    "global Ppcc\n",
    "global Qpcc\n",
    "global past_pf_in \n",
    "global past_pf_ca \n",
    "\n",
    "R = 2.35  \n",
    "X = 1.17\n",
    "Pl = 300\n",
    "Ql = 227\n",
    "Vg = 230 "
   ]
  },
  {
   "cell_type": "markdown",
   "metadata": {},
   "source": [
    "<p>Το παρακάτω τμήμα κώδικα δημιουργεί και εμφανίζει 3 διαδραστικά στοιχεία εισόδου χρήστη για την χειροκίνητη ρύθμιση των τιμών της ενεργού ισχύος της μονάδας ΔΠ ($P_{DG}$), του επαγωγικού και του χωρητικού συντελεστή ισχύος ($\\cosφ$).<p>\n",
    "<p>Μέσα σε ένα while loop υπολογίζονται κάθε στιγμή οι τιμές των $V_{PCC}$,$P_{PCC}$ και $Q_{PCC}$ από τις παρακάτω σχέσεις και οι αυξομοιώσεις τους παρουσιάζονται σε τρεις γραφικές παραστάσεις σε συνάρτηση με τον χρόνο.<p> \n",
    "\n",
    "Η γωνία $φ$ υπολογίζεται από τη σχέση:\n",
    "\n",
    "$$φ= \\cos^{-1}φ  \\quad (1) $$\n",
    "\n",
    "Από τις σχέσεις:\n",
    "\n",
    "$$P_{DG} = V_{PCC}\\cdot I \\cdot \\cosφ \\quad (2α) $$\n",
    "\n",
    "$$Q_{DG} = V_{PCC}\\cdot I \\cdot \\sinφ \\quad (2β) $$\n",
    "\n",
    "προκύπτει η σχέση:\n",
    "\n",
    "$$Q_{DG} = P_{DG}\\cdot \\tanφ \\quad (2) $$\n",
    "\n",
    "H ενεργός και άεργος ισχύς της μονάδας ΔΠ δίνεται από τις σχέσεις:\n",
    "\n",
    "$$P_{PCC} = P_{DG} - P_L \\quad (3) $$\n",
    "\n",
    "$$Q_{PCC} = - Q_{DG}- Q_L \\quad (4α) $$\n",
    "\n",
    "$$Q_{PCC} = Q_{DG}- Q_L \\quad (4β) $$\n",
    "\n",
    "<pr>Η σχέση $(4α)$ ισχύει όταν η μονάδα ΔΠ λειτουργεί με επαγωγικό ΣΙ, οπότε απορροφά άεργο ισχύ. <pr>\n",
    "<pr>Αντίστοιχα η σχέση $(4β)$ ισχύει όταν η μονάδα λειτουργεί με χωρητικό ΣΙ, όπότε παράγει άεργο ισχύ.<pr>\n",
    "\n",
    "Επομένως: \n",
    "\n",
    "H μεταβολή της τάσης υπολογίζεται προσεγγιστικά ως:\n",
    "\n",
    "$$ΔV \\approx \\frac{P_{PCC}\\cdot R + Q_{PCC}\\cdot Χ}{V_{PCC}}\\approx \\frac{P_{PCC}\\cdot R + Q_{PCC}\\cdot Χ}{V_{G}}  \\quad (5)$$\n",
    "\n",
    "Από τη σχέση $(6)$ υπολογίζεται η τάση του ζυγού φορτίου:\n",
    "\n",
    "$$ΔV = V_{PCC} - V_{G} \\Rightarrow  V_{PCC}= ΔV + V_{G} \\quad (6) $$ \n",
    "\n",
    "Ακολουθώντας τα παρακάτω βήματα μπορούμε να παρατηρήσουμε την επίδραση της μόνάδας ΔΠ στη ρύθμιση τάσης:\n",
    "1. Αρχικά η ενεργός ισχύς που παράγει η ΔΠ είναι $P_{DG} =300 KW$ και $cosφ=1$ άρα $Q_{DG} =0$. \n",
    "\n",
    "2. Αυξάνουμε την ενεργό ισχύ στην τιμή $P_{DG} =350 KW$ διατηρώντας το $cosφ$ σταθερό και παρατηρούμε την αύξηση της τάσης $V_{PCC}$, λόγω της αντίθετης ροής ενεργού ισχύος πάνω στη γραμμή διανομής.\n",
    "\n",
    "3. Διατηρώντας σταθερή την ενεργό ισχύ και ρυθμίζοντας το $cosφ=0.9$ χωρητικό παρατηρούμε ότι η τάση $V_{PCC}$ αυξάνεται περεταίρω, λόγω της έγχυσης αέργου ισχύος από τη μονάδα ΔΠ.\n",
    "\n",
    "4. Διατηρώντας σταθερή την ενεργό ισχύ και ρυθμίζοντας το $cosφ=0.9$ επαγωγικό παρατηρούμε μείωση της τάσης $V_{PCC}$, καθώς απορροφάται άεργος ισχύς από τη μονάδα ΔΠ.    \n"
   ]
  },
  {
   "cell_type": "code",
   "execution_count": 3,
   "metadata": {
    "code_folding": []
   },
   "outputs": [
    {
     "data": {
      "application/vnd.jupyter.widget-view+json": {
       "model_id": "6462af054181423eb508555d5f32775e",
       "version_major": 2,
       "version_minor": 0
      },
      "text/plain": [
       "HBox(children=(IntSlider(value=300, description='Pdg', max=400, min=200, step=50), FloatSlider(value=1.0, desc…"
      ]
     },
     "metadata": {},
     "output_type": "display_data"
    },
    {
     "data": {
      "application/vnd.jupyter.widget-view+json": {
       "model_id": "4bd2ee276fbd4f929d707f3d3d856916",
       "version_major": 2,
       "version_minor": 0
      },
      "text/plain": [
       "Output()"
      ]
     },
     "metadata": {},
     "output_type": "display_data"
    }
   ],
   "source": [
    "# Slider variables\n",
    "w = widgets.IntSlider(value=300, description='Pdg', min=200,max=400,step=50)\n",
    "pf_in = FloatSlider(value=1, description='cosφ επαγ.', min=0.8,max=1,step=0.1)\n",
    "pf_ca = FloatSlider(value=1, description='cosφ χωρ.', min=0.8,max=1,step=0.1)\n",
    "\n",
    "ui = widgets.HBox([w, pf_in, pf_ca])\n",
    "\n",
    "def f(w, pf_in, pf_ca):\n",
    "    display((w, pf_in, pf_ca))\n",
    "\n",
    "\n",
    "def on_value_change_Pdg(change):\n",
    "    Pdg = change['new']\n",
    "    \n",
    "def on_value_change_pf_in(change):\n",
    "    pf_in = change['new']\n",
    "    \n",
    "def on_value_change_pf_ca(change):\n",
    "    pf_ca = change['new']    \n",
    "            \n",
    "w.observe(on_value_change_Pdg, names='value')\n",
    "pf_in.observe(on_value_change_pf_in, names='value')\n",
    "pf_ca.observe(on_value_change_pf_ca, names='value')   \n",
    "\n",
    "past_pf_in = pf_in.value\n",
    "past_pf_ca = pf_ca.value\n",
    "\n",
    "        \n",
    "# Plot \n",
    "def plot(stime,stemp,stemp1,stemp2):   \n",
    "    f, axarr = plt.subplots(3, sharex=True, figsize=(7,7))\n",
    "    axarr[0].step(stime,stemp)\n",
    "    axarr[0].set_ylim(227, 231)\n",
    "    \n",
    "    axarr[1].step(stime,stemp1,'r')\n",
    "    axarr[1].set_ylim(-100,150)\n",
    "    \n",
    "    axarr[2].step(stime,stemp2,'g')\n",
    "    axarr[2].set_ylim(-500,0)\n",
    "\n",
    "    axarr[0].set_ylabel(\"Vpcc(KV)\")\n",
    "    axarr[1].set_ylabel(\"Ppcc(KW)\")\n",
    "    axarr[2].set_ylabel(\"Qpcc(KVar)\")\n",
    "    \n",
    "    axarr[2].set_xlabel(\"Time\")\n",
    "    \n",
    "    axarr[0].set_title(\"Voltage\")\n",
    "    axarr[1].set_title(\"Active Power\")\n",
    "    axarr[2].set_title(\"Reactive Power\")\n",
    "    \n",
    "    clear_output(wait=True)\n",
    "    display(plt.gcf())\n",
    "    plt.gcf().clear()\n",
    "    time.sleep(2)"
   ]
  },
  {
   "cell_type": "code",
   "execution_count": 4,
   "metadata": {
    "code_folding": []
   },
   "outputs": [
    {
     "data": {
      "application/vnd.jupyter.widget-view+json": {
       "model_id": "6462af054181423eb508555d5f32775e",
       "version_major": 2,
       "version_minor": 0
      },
      "text/plain": [
       "HBox(children=(IntSlider(value=300, description='Pdg', max=400, min=200, step=50), FloatSlider(value=1.0, desc…"
      ]
     },
     "metadata": {},
     "output_type": "display_data"
    },
    {
     "data": {
      "application/vnd.jupyter.widget-view+json": {
       "model_id": "fbca6b5404ba4fbc8846e3a37c83778f",
       "version_major": 2,
       "version_minor": 0
      },
      "text/plain": [
       "Output()"
      ]
     },
     "metadata": {},
     "output_type": "display_data"
    },
    {
     "name": "stdout",
     "output_type": "stream",
     "text": [
      "Vpcc = 228.8452608695652 kV , Ppcc = 0 kW , Qpcc = -227.0 KVAr\n"
     ]
    }
   ],
   "source": [
    "out = widgets.interactive_output(f, {'w': w, 'pf_in': pf_in, 'pf_ca': pf_ca})\n",
    "\n",
    "display(ui, out)\n",
    "\n",
    "\n",
    "def train():\n",
    "    stime = np.array([])  \n",
    "    stemp = np.array([])\n",
    "    stemp1 = np.array([])\n",
    "    stemp2 = np.array([])\n",
    "    \n",
    "    \n",
    "    while True:\n",
    "        try: \n",
    "            # Αν cosφ επαγωγικός ή cosφ = 1\n",
    "            if (pf_in.value ==1 and pf_ca.value ==1) or (pf_in.value != past_pf_in):\n",
    "                φ = math.acos(pf_in.value)   # (1)   \n",
    "                Pdg = w.value\n",
    "                Qdg =Pdg*math.tan(φ)         # (2)\n",
    "                Qpcc = - Qdg - Ql            # (4α)\n",
    "                \n",
    "            # Αν cosφ χωρητικός\n",
    "            elif pf_ca.value != past_pf_ca: \n",
    "                φ = math.acos(pf_ca.value)   # (1)\n",
    "                Pdg = w.value\n",
    "                Qdg =Pdg*math.tan(φ)         # (2)\n",
    "                Qpcc = Qdg - Ql              # (4β)\n",
    "\n",
    "            \n",
    "            Ppcc = Pdg - Pl                  # (3)    \n",
    "            ΔV = (Ppcc*R + Qpcc*X)/Vg        # (5)\n",
    "            Vpcc = Vg + ΔV                   # (6)\n",
    "            \n",
    "            print(\"Vpcc =\", Vpcc, \"kV\", \", Ppcc =\", Ppcc, \"kW\", \", Qpcc =\", Qpcc, \"KVAr\")\n",
    "            \n",
    "            newTime = datetime.now()\n",
    "            temp = Vpcc\n",
    "            stime = np.append(stime,newTime)    # Store the values\n",
    "            stemp = np.append(stemp,temp)\n",
    "            stemp1 = np.append(stemp1,Ppcc)\n",
    "            stemp2 = np.append(stemp2,Qpcc)\n",
    "            plot(stime,stemp,stemp1,stemp2)\n",
    "            \n",
    "        except KeyboardInterrupt:\n",
    "            break  \n",
    "\n",
    "try:\n",
    "    thread = threading.Thread(target=train, args=())\n",
    "    thread.start()\n",
    "except:\n",
    "    print(\"error\")"
   ]
  },
  {
   "cell_type": "code",
   "execution_count": null,
   "metadata": {},
   "outputs": [],
   "source": []
  },
  {
   "cell_type": "code",
   "execution_count": null,
   "metadata": {},
   "outputs": [],
   "source": []
  }
 ],
 "metadata": {
  "kernelspec": {
   "display_name": "Python 3",
   "language": "python",
   "name": "python3"
  },
  "language_info": {
   "codemirror_mode": {
    "name": "ipython",
    "version": 3
   },
   "file_extension": ".py",
   "mimetype": "text/x-python",
   "name": "python",
   "nbconvert_exporter": "python",
   "pygments_lexer": "ipython3",
   "version": "3.6.9"
  }
 },
 "nbformat": 4,
 "nbformat_minor": 2
}
