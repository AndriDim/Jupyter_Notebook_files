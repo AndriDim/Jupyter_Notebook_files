{
  "nbformat": 4,
  "nbformat_minor": 0,
  "metadata": {
    "colab": {
      "name": "Newton-Raphson method in python lab.ipynb",
      "provenance": [],
      "collapsed_sections": []
    },
    "kernelspec": {
      "name": "python3",
      "display_name": "Python 3"
    }
  },
  "cells": [
    {
      "cell_type": "markdown",
      "metadata": {
        "id": "Oyvt3gI4dr63"
      },
      "source": [
        "<h1><center>Ανάλυση Συστημάτων Ηλεκτρικής Ενέργειας - Μόνιμη Κατάσταση Λειτουργίας</center></h1>\n",
        "\n",
        "<h1><center> ΡΟΗ ΦΟΡΤΙΟΥ</center></h1>\n",
        "\n",
        "<center><img src=\"https://i.ibb.co/879pWFg/line-diagram-image.png\" alt=\"line-diagram-image\" border=\"0\" /><center>\n",
        "\n",
        "<h4><center> Σχήμα 1: Σύστημα τεσσάρων ζυγών</center></h4>\n",
        "\n",
        "\n"
      ]
    },
    {
      "cell_type": "markdown",
      "metadata": {
        "id": "CWNhxwuKYkGA"
      },
      "source": [
        "Για το σύστημα ηλεκτρικής ενέργειας με την τοπολογία του παραπάνω σχήματος δίνονται τα ακόλουθα δεδομένα:\n",
        "1. Επαγωγικές αντιδράσεις των γραμμών μεταφοράς: $Z_{AB(1)} =  Z_{AB(2)} = j0,2$ α.μ.,$\\quad Z_{CD} = j0,1$ α.μ.,$\\quad Z_{DA} = Z_{BC} = j0,2$ α.μ.  \n",
        "\n",
        "2. Στοιχεία ζυγών:\n",
        "\n",
        "    * A: Τάση ${V_{A} = 1,0}$ α.μ.\n",
        "    * B: Παραγωγή ${P_{B} = 0,3}$ α.μ., Tάση $V_{Β} = 1,0$ α.μ\n",
        "    * C: Φορτίο ${P_{C} = 0,3}$ α.μ.,$\\quad{Q_{B} = 0,05}$ α.μ.\n",
        "    * D: Φορτίο ${P_{D} = 0,4}$ α.μ.,$\\quad{Q_{D} = 0,1}$ α.μ.\n",
        "\n",
        "Εισαγωγή των βιβλιοθηκών της Python που θα χρησιμοποιηθούν:"
      ]
    },
    {
      "cell_type": "code",
      "metadata": {
        "id": "2i5tzMcMa3Fj"
      },
      "source": [
        "import numpy as np\n",
        "import math\n",
        "from math import cos, sin\n",
        "import matplotlib.pyplot as plt\n",
        "%matplotlib inline"
      ],
      "execution_count": null,
      "outputs": []
    },
    {
      "cell_type": "markdown",
      "metadata": {
        "id": "G9zyFbANa83p"
      },
      "source": [
        "#### Δεδομένα εισόδου\n",
        "Δεδομένα των ζυγών: \n"
      ]
    },
    {
      "cell_type": "code",
      "metadata": {
        "id": "UhH1ySWpXvPT"
      },
      "source": [
        "def define_bus_data():\n",
        "    bdataname =['NUM', 'TYPE', 'VOLT', 'DEGREE', 'PLOAD', 'QLOAD','PGER', 'QGER', 'QMIN','QMAX', 'INJMVAR']\n",
        "    busdata= np.array([[1,   1,  1.00,    0.0,     0,    0,     0,   0,   0,     0,      0],\n",
        "                       [2,   2,  1.05,    0.0,     0,    0,    30,   0,   0,   500,      0],\n",
        "                       [3,   0,  1.00,    0.0,    30,    5,     0,   0,   0,   500,      0],\n",
        "                       [4,   0,  1.00,    0.0,    40,   10,     0,   0,   0,     0,      0]])\n",
        "    num_bus = busdata.shape[0]\n",
        "    return busdata, num_bus\n",
        "\n",
        "busdata, num_bus = define_bus_data()"
      ],
      "execution_count": null,
      "outputs": []
    },
    {
      "cell_type": "markdown",
      "metadata": {
        "id": "ZOL6tcMWeBKZ"
      },
      "source": [
        "Δεδομένα των γραμμών μεταφοράς και μετασχηματιστών:\n"
      ]
    },
    {
      "cell_type": "code",
      "metadata": {
        "id": "h32kEsUBeAFF"
      },
      "source": [
        "def define_line_data():\n",
        "  ldataname= ['NL', 'NR',     'R',     'X', '1/2Bc', 'TAP']\n",
        "  linedata= np.array([[1,  2,   0.0,   0.1,    0.0,     1],\n",
        "                      [1,  4,   0.0,   0.2,    0.0,     1],\n",
        "                      [2,  3,   0.0,   0.2,    0.0,     1],\n",
        "                      [3,  4,   0.0,   0.1,    0.0,     1]])\n",
        "  num_lin = linedata.shape[0]\n",
        "  return linedata, num_lin\n",
        "\n",
        "linedata, num_lin = define_line_data()"
      ],
      "execution_count": null,
      "outputs": []
    },
    {
      "cell_type": "markdown",
      "metadata": {
        "id": "lSTE-LS3leA4"
      },
      "source": [
        "Στο παρακάτω τμήμα κώδικα γίνεται ανάθεση των δεδομένων των ζυγών στις αντίστοιχες μεταβλητές. \n",
        "<br>Οι γωνίες μετατρέπονται από μοίρες σε ακτίνια από τη σχέση: $$ (rad)= \\frac{\\pi}{180^\\circ}\\cdot δ^\\circ \\quad (1)$$\n",
        "<br>Γίνεται το ισοζύγιο ισχύος για κάθε ζυγό $k$ ξεχωριστά και υπολογίζονται οι ανά μονάδα τιμές της έγχυσης ενεργού και αέργου ισχύος από τις σχέσεις:\n",
        "$$P_{sp,k} = \\frac{P_{G,k} -P_{D,k}}{S_{base}}\\quad (2)$$\n",
        "$$Q_{sp,k} = \\frac{Q_{G,k} -Q_{D,k}}{S_{base}}\\quad (3) $$"
      ]
    },
    {
      "cell_type": "code",
      "metadata": {
        "id": "Ckyje5ATiiqg",
        "outputId": "c9465c94-5906-4488-d2bd-ecff514a7852",
        "colab": {
          "base_uri": "https://localhost:8080/",
          "height": 69
        }
      },
      "source": [
        "bus_type = [bus[1] for bus in busdata]\n",
        "Vm = [bus[2] for bus in busdata]\n",
        "Pd = [bus[4] for bus in busdata]\n",
        "Qd = [bus[5] for bus in busdata]\n",
        "Pg = [bus[6] for bus in busdata]\n",
        "Qg = [bus[7] for bus in busdata]\n",
        "Qsh = [bus[10] for bus in busdata]\n",
        "\n",
        "delta = [math.pi/180*bus[3] for bus in busdata]      # (1)\n",
        "print ('delta=', delta)\n",
        "\n",
        "basemva = 100\n",
        "# Initialize Psp, Qsp\n",
        "Psp = [(bus[6] - bus[4])/basemva for bus in busdata] # (2)\n",
        "Qsp = [(bus[7] - bus[5])/basemva for bus in busdata] # (3)\n",
        "print ('Psp=', Psp)\n",
        "print ('Qsp=', Qsp)\n",
        "\n"
      ],
      "execution_count": null,
      "outputs": [
        {
          "output_type": "stream",
          "text": [
            "delta= [0.0, 0.0, 0.0, 0.0]\n",
            "Psp= [0.0, 0.3, -0.3, -0.4]\n",
            "Qsp= [0.0, 0.0, -0.05, -0.1]\n"
          ],
          "name": "stdout"
        }
      ]
    },
    {
      "cell_type": "markdown",
      "metadata": {
        "id": "NihOEpkiecPE"
      },
      "source": [
        "### Υπολογισμός του πίνακα αγωγιμοτήτων του συστήματος\n",
        "\n",
        "Η συνάρτηση calculation_ybus υπολογίζει τον πίνακα αγωγιμοτήτων του συστήματος.\n",
        "* Αρχικά όλες οι σύνθετες αντιστάσεις μετατρέπονται σε σύνθετες αγωγιμότητες από τη σχέση $(5)$:\n",
        "$${Z_{km} = R_{km} + jX_{km}} \\quad (4)$$  \n",
        "$${y_{km} = \\frac{1}{Z_{km}}} \\quad (5)$$\n",
        "* και στη συνέχεια υπολογίζονται τα διαγώνια και τα μη διαγώνια στοιχεία του πίνακα αγωγιμοτήτων από τις παρακάάτω σχέσεις.\n",
        "$$\\boxed{Y_{kk}= {y}_{k}+\\sum_{m\\in A(k)}({y}_{skm}+{y}_{km})\\quad (6) \\\\ Y_{km}=-{y}_{km}\\quad (7)}$$\n",
        "Ο πίνακας αγωγιμοτήτων έχει μέγεθος $(nxn)$ όπου $n$ ο αριθμός των ζυγών του συστήματος που εξετάζουμε.\n",
        "\n",
        "Στo παράδειγμα αυτόό ο πίνακας αγωγιμοτήτων έχει μέγεθος $(4x4)$.\n",
        "\n",
        "$$Y_{bus} = \\begin{bmatrix} Y_{11} & Y_{12} & Y_{13} & Y_{14}\\\\ Y_{21} & Y_{22} & Y_{23} & Y_{24}\\\\ Y_{31} & Y_{32} & Y_{33} & Y_{34}\\\\ Y_{41} & Y_{42} & Y_{43} & Y_{44} \\end{bmatrix}$$ \n"
      ]
    },
    {
      "cell_type": "code",
      "metadata": {
        "id": "0o2xl7-QYwBf",
        "outputId": "e427d8fb-13a5-43f6-9976-a109d7d3b31c",
        "colab": {
          "base_uri": "https://localhost:8080/",
          "height": 104
        }
      },
      "source": [
        "# Function for calculation of admittance matrix\n",
        "def calculation_ybus(nbus, line_data):\n",
        "  #Initialize a matrix, nbus x nbus , coplex type\n",
        "  y_bus = np.zeros([nbus, nbus], dtype=np.complex)\n",
        "\n",
        "  # Calculation of elements of the lines\n",
        "  for linedata in line_data:\n",
        "    p = int(linedata[0]) - 1\n",
        "    q = int(linedata[1]) - 1\n",
        "            \n",
        "    zkm = complex(linedata[2], linedata[3]) # (4)\n",
        "    bsh = complex(0, linedata[4])\n",
        "    ykm = 1/zkm                             # (5)\n",
        "    y_bus[p,p] += ykm + bsh                 # (6)\n",
        "    if p != q:\n",
        "      y_bus[q,q] += ykm + bsh               # (6)\n",
        "      y_bus[p,q] -= ykm                     # (7)\n",
        "      y_bus[q,p] = y_bus[p,q]\n",
        "\n",
        "  # Return admittance matrix\n",
        "  return y_bus\n",
        "\n",
        "# Admittance matrix\n",
        "y_bus = calculation_ybus(num_bus, linedata)\n",
        "print ('Ybus=\\n',y_bus)  "
      ],
      "execution_count": null,
      "outputs": [
        {
          "output_type": "stream",
          "text": [
            "Ybus=\n",
            " [[0.-15.j 0.+10.j 0. +0.j 0. +5.j]\n",
            " [0.+10.j 0.-15.j 0. +5.j 0. +0.j]\n",
            " [0. +0.j 0. +5.j 0.-15.j 0.+10.j]\n",
            " [0. +5.j 0. +0.j 0.+10.j 0.-15.j]]\n"
          ],
          "name": "stdout"
        }
      ]
    },
    {
      "cell_type": "markdown",
      "metadata": {
        "id": "LX2se5m2V_kF"
      },
      "source": [
        "Ο πίνακας αγωγιμοτήτων σε καρτεσιανή μορφή γράφεται:\n",
        "$$Y_{km}=G_{km} +jB_{km} \\quad (8)$$"
      ]
    },
    {
      "cell_type": "code",
      "metadata": {
        "id": "8sPgzxzQZMkq",
        "outputId": "2b739ddd-b018-40eb-98d6-346bdec417b6",
        "colab": {
          "base_uri": "https://localhost:8080/",
          "height": 191
        }
      },
      "source": [
        "# Real part of admittance matrix\n",
        "G = y_bus.real\n",
        "print ('G=\\n',G)    \n",
        "# Imaginary part of admittance matrix\n",
        "B = y_bus.imag\n",
        "print ('B=\\n',B)"
      ],
      "execution_count": null,
      "outputs": [
        {
          "output_type": "stream",
          "text": [
            "G=\n",
            " [[0. 0. 0. 0.]\n",
            " [0. 0. 0. 0.]\n",
            " [0. 0. 0. 0.]\n",
            " [0. 0. 0. 0.]]\n",
            "B=\n",
            " [[-15.  10.   0.   5.]\n",
            " [ 10. -15.   5.   0.]\n",
            " [  0.   5. -15.  10.]\n",
            " [  5.   0.  10. -15.]]\n"
          ],
          "name": "stdout"
        }
      ]
    },
    {
      "cell_type": "markdown",
      "metadata": {
        "id": "UzsB7UIqWbYO"
      },
      "source": [
        "### Χαρακτηρισμός ζυγών του συστήματος\n",
        "####  Τύποι ζυγών ροής φορτίου\n",
        "|   Τύπος ζυγού       |  Γνωστές μεταβλητές  | Άγνωστες μεταβλητές|\n",
        "|---------------------|----------------------|--------------------|\n",
        "|Ταλάντωσης ή αναφοράς|$V=1$α.μ.,$δ=0^\\circ$ |$P_{G}$,$Q_{G}$     |\n",
        "|Ζυγoί παραγωγής (PV) |    $P_{G}$,${V}$     |  $Q_{G}$,$δ$       |\n",
        "|  Ζυγοί φορτίου (PQ) |   $P_{D}$,$Q_{D}$    |$V$, $δ$            |\n",
        "\n",
        "Στο παράδειγμα είναι:\n",
        "\n",
        "* **Ζυγός A**: Ζυγός ταλάντωσης (sluck bus). Θεωρούμε ότι η τάση του είναι σταθερή κατά μέτρο και γωνία $V_{1}=1\\angle 0^\\circ $ α.μ..\n",
        "* **Ζυγός B**: Ζυγός παραγωγής (PV), αφού είναι γνωστά η παραγόμενη ενεργός ισχύς $P_{B_{G}}=0,3$α.μ. και το μέτρο της τάσης $V_{Β}=1$ α.μ.\n",
        "* **Ζυγός C**: Ζυγός φορτίου (PQ), αφού είναι γνωστές οι ισχείς φορτίου $P_{C_{D}}=0,3$α.μ., $Q_{C_{D}}=0,05$α.μ.\n",
        "* **Ζυγός D**: Ζυγός φορτίου (PQ), αφού είναι γνωστές οι ισχείς φορτίου $P_{D_{D}}=0,4$α.μ., $Q_{D_{D}}=0,1$α.μ.\n",
        "\n",
        "<br>Στον πίνακα των δεδομένων των ζυγών ο ζυγός ταλάντωσης συμβολίζεται με 1, οι ζυγοί PV με 2 και οι ζυγοί PQ με 0.\n",
        "<br>Στο παρακάτω τμήμα κώδικα η μεταβλητή $nPV$ εμφανίζει το πλήθος των ζυγών PV του προβλήματος, ενώ η μεταβλητή $nPQ$ εμφανίζει το πλήθος των ζυγών PQ. Οι συναρτήσεις sl, pv και pq βρίσκουν το ζυγό ταλάντωσης και τους ζυγούς  PV και PQ αντίστοιχα.\n"
      ]
    },
    {
      "cell_type": "code",
      "metadata": {
        "id": "iXOEkuRDZ4X9",
        "outputId": "a3df49ff-0227-434f-81eb-63dbfe2279d4",
        "colab": {
          "base_uri": "https://localhost:8080/",
          "height": 104
        }
      },
      "source": [
        "nPV=0\n",
        "nPQ=0\n",
        "\n",
        "for bus in busdata:\n",
        "    if int(bus[1])==2:\n",
        "        nPV+=1\n",
        "    elif int(bus[1])==0:\n",
        "        nPQ+=1\n",
        "\n",
        "print ('nPV=',nPV)    \n",
        "print ('nPQ=',nPQ)        \n",
        "\n",
        "# Flag for sluck bus\n",
        "sl = [True if int(bus[1]) == 1 else False for bus in busdata]\n",
        "print ('sl=',sl)  \n",
        "# Flag for pv bus      \n",
        "pv = [True if int(bus[1]) == 2 else False for bus in busdata]\n",
        "print ('pv=',pv)     \n",
        "# Flag for pq bus   \n",
        "pq = [True if int(bus[1]) == 0 else False for bus in busdata]\n",
        "print ('pq=',pv)\n"
      ],
      "execution_count": null,
      "outputs": [
        {
          "output_type": "stream",
          "text": [
            "nPV= 1\n",
            "nPQ= 2\n",
            "sl= [True, False, False, False]\n",
            "pv= [False, True, False, False]\n",
            "pq= [False, True, False, False]\n"
          ],
          "name": "stdout"
        }
      ]
    },
    {
      "cell_type": "markdown",
      "metadata": {
        "id": "PX9zWl1moyfs"
      },
      "source": [
        "### Δεδομένα και ζητούμενα\n",
        "#### Το διάνυσμα κατάστασης\n",
        "Θεωρούμε ότι $n$ είναι ο συνολικός αριθμός των ζυγών του συστήματος και $m$ ο αριθμός των ζυγών φορτίου PQ. Γενικά για $n$ ζυγούς έχουμε $2n$ αγνώστους. Δεδομένου ότι η τάση στο ζυγό ταλάντωσης είναι δεδομένη κατά μέτρο και γωνία, ενώ τα μέτρα των τάσεων είναι γνωστά στους ζυγούς παραγωγής, οι μεταβλητές που πρέπει να προσδιοριστούν για να περιγραφεί πλήρως η κατάσταση λειτουργίας του συστήματος είναι οι ακόλουθες:\n",
        "* οι φασικές γωνίες τάσεων όλων των ζυγών εκτός από το ζυγό ταλάντωσης \n",
        "* τα μέτρα τάσεων όλων των ζυγών φορτίου.\n",
        "\n",
        ">Οι μεταβλητές αυτές αποτελούν το διάνυσμα κατάστασης $Χ = \\begin{bmatrix} δ_2\\\\...\\\\δ_n\\\\V_{n-m+1}\\\\ ... \\\\ V_{n} \\end{bmatrix} $ με διάσταση $n-1+m$. Άρα για την εύρεση των αγνώστων χρειάζονται $n-1+m$ ανεξάρτητες εξισώσεις.\n",
        "* $n-1$ εξισώσεις πραγματικής ισχύος (για ζυγούς PV και PQ):\n",
        "$$\\boxed{ΔP_k^{(n)}=P_{sp,k}- V_{k}^{(n)}\\cdot \\sum_{m\\in A(k)}{ V_{m}^{(n)}\\cdot[G_{km}\\cdot cos(δ_{k}^{(n)} - δ_{m}^{(n)}) + B_{km}\\cdot sin( δ_{k}^{(n)} - δ_{m}^{(n)})]}}\\quad (9)$$\n",
        "* $m$ εξισώσεις αέργου ισχύος (για ζυγούς PQ):\n",
        "$$\\boxed{ΔQ_k^{(n)}=Q_{sp,k} - V_{k}^{(n)}\\cdot \\sum_{m\\in A(k)}{ V_{m}^{(n)}\\cdot[G_{km}\\cdot sin(δ_{k}^{(n)} - δ_{m}^{(n)}) - B_{km}\\cdot cos( δ_{k}^{(n)} - δ_{m}^{(n)})]}}\\quad (10)$$\n",
        "\n",
        "\n",
        "Στο παράδειγμα αυτό γνωρίζουμε την τάση του ζυγού A κατά μέτρο και γωνία $V_{A}=1\\angle 0^\\circ $ α.μ. καθώς και το μέτρο της τάσης του ζυγού B, $V_{B}=1$ α.μ. Επομένως οι άγνωστοι του προβλήματος είναι 5, οι γωνίες $δ_B$, $δ_C$, $δ_D$ και η τάσεις $V_C$, $V_D$.\n",
        "To διάνυσμα κατάστασης λοιπόν έχει τη μορφή  $Χ = \\begin{bmatrix} δ_B\\\\δ_C\\\\δ_D\\\\V_C\\\\V_D \\end{bmatrix} $ και για να υπολογιστεί θα χρειαστούν τρεις εξισώσεις πραγματικής ($ΔP_{Α}$, $ΔP_{B}$, $ΔP_{C}$) και δύο εξισώσεις αέργου ισχύος ($ΔQ_{C}$, $ΔQ_{D}$).\n",
        "\n",
        "#### Επαναληπτική διαδικασία\n",
        "* Πριν ξεκινήσουν οι επαναλήψεις της μεθόδου Newton-Raphson θεωρείται μια ενιαία τιμή εκκίνησης για τις τάσεις όλων των ζυγών του δικτύου, που δεν έχουν καθορισμένη τιμή, στα $V=1\\angle 0^\\circ $ α.μ.\n",
        "* Χρησιμοποιώντας αυτή την αρχική εκτίμηση υπολογίζεται, με τη βοήθεια των εξισώσεων ροής φορτίου μια βελτιωμένη δεύτερη εκτίμηση η οποία χρησιμοποιείται για να βρεθεί μία τρίτη κ.ο.κ.   \n",
        "* Οι επαναλήψεις συνεχίζονται μέχρι οι νέες τιμές των μεταβλητών του συστήματος να διαφέρουν από τις αρχικές πολύ λίγο, δηλαδή όταν ικανοποιούνται τα κριτήρια σύγκλισης. $$\\boxed{|ΔP_{k}^{(n)}|\\leq ε\\\\ |ΔQ_{k}^{(n)}|\\leq ε}\\quad (11) $$ \n",
        "\n",
        "<br> Στο πρόγραμμα αυτό το κριτήριο είναι: $$|M^{(n)}|\\leq ε \\quad (12)$$ \n",
        "όπου $M$ το διάνυσμα διαφορών: $$Μ  = \\begin{bmatrix} ΔP\\\\ ΔQ \\end{bmatrix}\\quad (13)$$ και $$ε= 0.001$$ \n",
        "<br> H επαναληπτική διαδικασία γίνεται με ένα while loop, το οποίο στην εισοδό του ελέγχει το κριτήριο σύγκλισης της σχέσης $(12)$. Ωστόσο, για να εξηγήσουμε αναλυτικά την 1η επανάληψη, έχουμε χωρίσει τον κώδικα σε τμήματα και έχουμε βάλει τον έλεγχο σε σχόλιο, καθώς για να τρέξει επαναληπτικά πρέπει όλος ο κώδικας που περιέχεται στο while loop να βρίσκεται μέσα στο ίδιο κελί (cell). Στο παρακάτω κομμάτι κώδικα υπολογίζονται οι επαναληπτικές εξισώσεις ροής φορτίου σε όλους τους ζυγούς του ΣΗΕ. Από αυτές χρειαζόμαστε τις τρεις εξισώσεις πραγματικής ισχύος ($ΔP_{Α}$, $ΔP_{B}$, $ΔP_{C}$) , που αποθηκεύονται στο διάνυσμα dP και τις δύο εξίσωση αέργου ισχύος ($ΔQ_{C}$, $ΔQ_{D}$), που αποθηκεύονται στο διάνυσμα dQ. Τα διανύσματα αυτά ενώνονται για να δημιουργηθεί το διάνυσμα διαφορών $Μ$ που έχει ίδιες διαστάσεις με το $Χ$."
      ]
    },
    {
      "cell_type": "code",
      "metadata": {
        "id": "N5L0UNvLk_i9",
        "outputId": "460c9ab3-f30f-4641-ec2a-1bc774b67906",
        "colab": {
          "base_uri": "https://localhost:8080/",
          "height": 243
        }
      },
      "source": [
        "# Initialize dp and dq\n",
        "dPa = np.zeros([num_bus, 1])\n",
        "dQa = np.zeros([num_bus, 1])\n",
        "\n",
        "Tol=1\n",
        "_iter_=0\n",
        "\n",
        "# Iteration starting..\n",
        "#while (Tol >= 0.001 and _iter_<= 10):  # (12)\n",
        "_iter_+=1\n",
        "\n",
        "# Initialize Active and Reactive Power \n",
        "Pcal = np.zeros([num_bus, 1])\n",
        "Qcal = np.zeros([num_bus, 1])\n",
        "    \n",
        "# Active and reactive power\n",
        "for k in range(num_bus):\n",
        "  for m in range(num_bus):\n",
        "    Pcal[k,0] += Vm[k]*Vm[m]*(G[k,m]*cos(delta[k]-delta[m])+ B[k,m]*sin(delta[k]-delta[m]))  # (9)\n",
        "    Qcal[k,0] += Vm[k]*Vm[m]*(G[k,m]*sin(delta[k]-delta[m]) - B[k,m]*cos(delta[k]-delta[m])) # (10)\n",
        " \n",
        "\n",
        "# Calculation of dP and dQ\n",
        "for n in range(num_bus):\n",
        "  if sl[n]:\n",
        "    dPa[n] = 0.0\n",
        "    dQa[n] = 0.0\n",
        "  else:\n",
        "    dPa[n] = Psp[n] - Pcal[n, 0] # (9)\n",
        "    dQa[n] = Qsp[n] - Qcal[n, 0] # (10)\n",
        "            \n",
        "k = 0\n",
        "dQ = np.zeros([nPQ, 1])\n",
        "for i in range (num_bus):\n",
        "  if pq[i]==True:\n",
        "    dQ[k,0] = dQa[i]\n",
        "    k += 1\n",
        "\n",
        "dP = dPa[1:]\n",
        "print ('dP=\\n', dP)\n",
        "print ('dQ=\\n', dQ)\n",
        "        \n",
        "M = np.vstack([dP, dQ])\n",
        "print ('M=\\n', M)"
      ],
      "execution_count": null,
      "outputs": [
        {
          "output_type": "stream",
          "text": [
            "dP=\n",
            " [[ 0.3]\n",
            " [-0.3]\n",
            " [-0.4]]\n",
            "dQ=\n",
            " [[ 0.2]\n",
            " [-0.1]]\n",
            "M=\n",
            " [[ 0.3]\n",
            " [-0.3]\n",
            " [-0.4]\n",
            " [ 0.2]\n",
            " [-0.1]]\n"
          ],
          "name": "stdout"
        }
      ]
    },
    {
      "cell_type": "markdown",
      "metadata": {
        "id": "qHoPBxjnsEUE"
      },
      "source": [
        "### 3. Υπολογισμός Ιακωβιανής μήτρας\n",
        "H Ιακωβιανή μήτρα έχει τη μορφή $$Jac = \\begin{bmatrix} H & N\\\\ J & L \\end{bmatrix}\\quad (14)$$ \n",
        "* O υποπίνακας $Η$ έχει διαστάσεις $(n-1)x(n-1)$\n",
        "* Ο υποπίνακας $Ν$ έχει διαστάσεις $(n-1)xm$\n",
        "* Ο υποπίνακας $J$ έχει διαστάσεις $mx(n-1)$\n",
        "* O υποπίνακας $L$ έχει διαστάσεις $mxm$\n",
        "\n",
        "Στο παράδειγμα αυτό o υποπίνακας $Η$ έχει διαστάσεις $(3x3)$, ο $Ν\\rightarrow(3x2)$, ο $J\\rightarrow(2x3)$ και ο $L\\rightarrow(2x2)$\n",
        "  <br>Επομένως η Ιακωβιανή μήτρα έχει τη μορφή: $$Jac = \\begin{bmatrix}{H_{22}} & {Η_{23}} & {H_{24}} & {N_{23}} & {N_{24}}\\\\ {H_{32}} & {H_{33}} & {H_{34}} & {N_{33}} & {N_{34}}\\\\ {H_{42}} & {H_{43}} & {H_{44}} & {N_{43}} & {N_{44}}\\\\{J_{32}} & {J_{33}} & {J_{34}} & {L_{33}} & { L_{34}}\\\\ {J_{42}} & {J_{43}} & {J_{44}} & {L_{43}} & {L_{44}} \\end{bmatrix}$$ "
      ]
    },
    {
      "cell_type": "code",
      "metadata": {
        "id": "3--wJO6dr33-"
      },
      "source": [
        "# Calculation of Jacobian matrix\n",
        "# Initialization of  submatrixes of Jacobian matrix\n",
        "H = np.zeros([num_bus-1, num_bus-1])\n",
        "N = np.zeros([num_bus-1, nPQ])\n",
        "J = np.zeros([nPQ, num_bus-1])\n",
        "L = np.zeros([nPQ, nPQ])"
      ],
      "execution_count": null,
      "outputs": []
    },
    {
      "cell_type": "markdown",
      "metadata": {
        "id": "Uwfjemui7Coi"
      },
      "source": [
        "Τα διαγώνια και μη διαγώνια στοιχεία του υποπίνακα $Η$ δίνονται από τις σχέσεις:\n",
        "\n",
        "$$\\boxed{H_{kk} =\\frac{\\partial ΔP_k}{\\partial δ_k} = V_{k}^2\\cdot Β_{kk}+Q_{k}\\quad (15)\\\\\n",
        "H_{km}=\\frac{\\partial ΔP_k}{\\partial δ_m} = - V_k\\cdot V_m\\cdot [G_{km}\\cdot sin(δ_{k} - δ_{m}) - B_{km}\\cdot cos(δ_{k} - δ_{m})],   k \\not= m\\quad (16)}$$\n"
      ]
    },
    {
      "cell_type": "code",
      "metadata": {
        "id": "fSrGPAWG5K89",
        "outputId": "5df0ec40-9c58-4feb-ddeb-e6a55304dfe4",
        "colab": {
          "base_uri": "https://localhost:8080/",
          "height": 86
        }
      },
      "source": [
        "# Calculation of H\n",
        "for i in range(num_bus-1):\n",
        "  k=i+1\n",
        "  for j in range(num_bus-1):\n",
        "    m=j+1\n",
        "    for m in range (num_bus):\n",
        "      if k==m:\n",
        "        H[k-1, m-1] =  Vm[k]**2*B[k,k]+Qcal[k] # (15)\n",
        "      elif k!=m:\n",
        "        H[k-1,m-1] = - Vm[k]*Vm[m]*(G[k,m]*sin(delta[k]-delta[m]) - B[k,m]*cos(delta[k]-delta[m])) # (16)\n",
        "\n",
        "print ('H=\\n',H)        "
      ],
      "execution_count": null,
      "outputs": [
        {
          "output_type": "stream",
          "text": [
            "H=\n",
            " [[-15.75   5.25  -0.  ]\n",
            " [  5.25 -15.25  10.  ]\n",
            " [ -0.    10.   -15.  ]]\n"
          ],
          "name": "stdout"
        }
      ]
    },
    {
      "cell_type": "markdown",
      "metadata": {
        "id": "X8sJxOSwFsUs"
      },
      "source": [
        "Τα διαγώνια και μη διαγώνια στοιχεία του υποπίνακα $N$ δίνονται από τις σχέσεις:\n",
        "\n",
        "$$\\boxed{N_{kk} = \\frac{\\partial ΔP_k}{\\partial V_k}= - V_k \\cdot G_{kk}-\\frac{P_{k}}{V_{k}}\\quad (17)\\\\\n",
        "N_{km}=\\frac{\\partial ΔP_k}{\\partial V_m} = - V_k\\cdot [G_{km}\\cdot cos(δ_{k} - δ_{m}) + B_{km}\\cdot sin(δ_{k} - δ_{m})], k \\not= m\\quad (18)}$$"
      ]
    },
    {
      "cell_type": "code",
      "metadata": {
        "id": "Y4FCgUo-FTY9",
        "outputId": "bf3cf57f-67f5-4347-fb9d-497495af7787",
        "colab": {
          "base_uri": "https://localhost:8080/",
          "height": 86
        }
      },
      "source": [
        "# Calculation of N\n",
        "for i in range(num_bus-1):\n",
        "  k=i+1\n",
        "  for j in range (num_bus):\n",
        "    if pq[j] == True:\n",
        "      m=j\n",
        "      for m in range (num_bus):\n",
        "        if k==m:\n",
        "          N[k-1, m-nPV-1] = - Vm[k]*G[k, k]-Pcal[k]/Vm[k] # (17)\n",
        "        elif k!=m:\n",
        "          N[k-1,m-nPV-1] = -Vm[m]*(G[k,m]*cos(delta[k]-delta[m]) + B[k,m]*sin(delta[k]-delta[m])) # (18)\n",
        "\n",
        "print ('N=\\n', N)          "
      ],
      "execution_count": null,
      "outputs": [
        {
          "output_type": "stream",
          "text": [
            "N=\n",
            " [[-0. -0.]\n",
            " [-0. -0.]\n",
            " [-0. -0.]]\n"
          ],
          "name": "stdout"
        }
      ]
    },
    {
      "cell_type": "markdown",
      "metadata": {
        "id": "K1yyn4WlS8cS"
      },
      "source": [
        "Τα διαγώνια και μη διαγώνια στοιχεία του υποπίνακα $J$ δίνονται από τις σχέσεις:\n",
        "\n",
        "$$\\boxed{J_{kk}=\\frac{\\partial ΔQ_k}{\\partial δ_k} =  V_k^2\\cdot G_{kk} -P_{k} \\quad (19)\\\\\n",
        "J_{km}=\\frac{\\partial ΔQ_k}{\\partial δ_m} =  V_k\\cdot V_m\\cdot [G_{km}\\cdot cos(δ_{k} - δ_{m}) + B_{km}\\cdot sin(δ_{k} - δ_{m})], k \\not= m\\quad (20)}$$"
      ]
    },
    {
      "cell_type": "code",
      "metadata": {
        "id": "UGU_Ki7CI96Q",
        "outputId": "015d45e1-70f9-42ea-dc69-edba52f2ec90",
        "colab": {
          "base_uri": "https://localhost:8080/",
          "height": 69
        }
      },
      "source": [
        "# Calculation of J\n",
        "for i in range(num_bus):\n",
        "  if pq[i] == True:\n",
        "    k=i    \n",
        "    for j in range (num_bus-1):\n",
        "      m=j+1\n",
        "      if k==m:             \n",
        "        for m in range (num_bus):\n",
        "          if k==m:\n",
        "            J[k-nPV-1, m-1] = Vm[k]**2*G[k, k] - Pcal[k] # (19)\n",
        "          elif k!=m:\n",
        "            J[k-nPV-1,m-1] = Vm[k]*Vm[m]*(G[k,m]*cos(delta[k]-delta[m]) + B[k,m] * sin(delta[k]-delta[m])) # (20)\n",
        "\n",
        "print ('J=\\n', J)           "
      ],
      "execution_count": null,
      "outputs": [
        {
          "output_type": "stream",
          "text": [
            "J=\n",
            " [[0. 0. 0.]\n",
            " [0. 0. 0.]]\n"
          ],
          "name": "stdout"
        }
      ]
    },
    {
      "cell_type": "markdown",
      "metadata": {
        "id": "VPDZInqPVWWA"
      },
      "source": [
        "Τα διαγώνια και μη διαγώνια στοιχεία του υποπίνακα $L$ δίνονται από τις σχέσεις:\n",
        "\n",
        "$$\\boxed{L_{kk}=\\frac{\\partial ΔQ_k}{\\partial V_m} =  V_k\\cdot B_{kk}- \\frac{Q_{k}}{V_{k}}\\quad (21)\\\\\n",
        "L_{km}=\\frac{\\partial ΔQ_k}{\\partial V_m} = - V_k\\cdot [G_{km}\\cdot sin(δ_{k} - δ_{m}) - B_{km}\\cdot cos(δ_{k} - δ_{m})], k \\not= m \\quad (22)}$$"
      ]
    },
    {
      "cell_type": "code",
      "metadata": {
        "id": "RO645FVsUeS0",
        "outputId": "251fc207-95de-4a1d-cad2-1b329bbd558e",
        "colab": {
          "base_uri": "https://localhost:8080/",
          "height": 69
        }
      },
      "source": [
        "# Calculation of L\n",
        "for i in range(num_bus):\n",
        "  if pq[i] == True:\n",
        "    k=i    \n",
        "    for j in range (num_bus):\n",
        "      if pq[j] == True:\n",
        "        m=j    \n",
        "        if k==m:\n",
        "          for m in range (num_bus):\n",
        "            if k==m:\n",
        "              L[k-nPV-1, m-nPV-1] = Vm[k] * B[k, k] - Qcal[k]/Vm[m] # (21)\n",
        "            elif k!=m:\n",
        "              L[k-nPV-1,m-nPV-1] = -Vm[k]*(G[k,m]*sin(delta[k]-delta[m]) - B[k,m]*cos(delta[k]-delta[m])) # (22)\n",
        "\n",
        "print ('L=\\n',L)"
      ],
      "execution_count": null,
      "outputs": [
        {
          "output_type": "stream",
          "text": [
            "L=\n",
            " [[-14.75  10.  ]\n",
            " [ 10.   -15.  ]]\n"
          ],
          "name": "stdout"
        }
      ]
    },
    {
      "cell_type": "markdown",
      "metadata": {
        "id": "ggbqwaCbWHHK"
      },
      "source": [
        "Επομένως η Ιακωβιανή μήτρα για την 1η επανάληψη θα είναι:"
      ]
    },
    {
      "cell_type": "code",
      "metadata": {
        "id": "4PzZTZciVPU9",
        "outputId": "12a61c67-7368-45b6-c211-dda778e78ea6",
        "colab": {
          "base_uri": "https://localhost:8080/",
          "height": 121
        }
      },
      "source": [
        "# Form the Jacobian matrix\n",
        "JAC = -np.vstack([np.hstack([H, N]), np.hstack([J, L])]) # (14)\n",
        "print ('JAC=\\n', JAC)"
      ],
      "execution_count": null,
      "outputs": [
        {
          "output_type": "stream",
          "text": [
            "JAC=\n",
            " [[ 15.75  -5.25   0.     0.     0.  ]\n",
            " [ -5.25  15.25 -10.     0.     0.  ]\n",
            " [  0.   -10.    15.     0.     0.  ]\n",
            " [ -0.    -0.    -0.    14.75 -10.  ]\n",
            " [ -0.    -0.    -0.   -10.    15.  ]]\n"
          ],
          "name": "stdout"
        }
      ]
    },
    {
      "cell_type": "markdown",
      "metadata": {
        "id": "5uWilACbYTNB"
      },
      "source": [
        "### 4. Υπολογισμός των νέων τάσεων και γωνιών του συστήματος\n",
        "Από τη γενική εξίσωση Newton-Raphson υπολογίζεται το διάνυσμα των αγνώστων:\n",
        "$$ Χ = J^{-1}Μ^{(n)}\\quad \\Rightarrow \\quad \\begin{bmatrix} Δδ\\\\ ΔV \\end{bmatrix} = \\begin{bmatrix} H & N\\\\ J & L \\end{bmatrix}^{-1}\\begin{bmatrix} ΔP\\\\ ΔQ\\end{bmatrix} \\quad (23)$$"
      ]
    },
    {
      "cell_type": "code",
      "metadata": {
        "id": "tq5sCU1EWUGG",
        "outputId": "64223327-69a6-4e1d-9b8a-12a5dea62003",
        "colab": {
          "base_uri": "https://localhost:8080/",
          "height": 191
        }
      },
      "source": [
        "# Calculation of the inverse Jacobian matrix\n",
        "INV_JAC = np.linalg.inv(JAC)\n",
        "\n",
        "# Find the X vector\n",
        "X = np.dot(INV_JAC, M) # (23)\n",
        "print('X=\\n',X)\n",
        "\n",
        "dTh = X[:num_bus-1,0]\n",
        "dV = X[-nPQ:,0]\n",
        "print ('dTh=\\n', dTh)\n",
        "print ('dV=\\n', dV)"
      ],
      "execution_count": null,
      "outputs": [
        {
          "output_type": "stream",
          "text": [
            "X=\n",
            " [[-0.00371661]\n",
            " [-0.06829268]\n",
            " [-0.07219512]\n",
            " [ 0.01649485]\n",
            " [ 0.0043299 ]]\n",
            "dTh=\n",
            " [-0.00371661 -0.06829268 -0.07219512]\n",
            "dV=\n",
            " [0.01649485 0.0043299 ]\n"
          ],
          "name": "stdout"
        }
      ]
    },
    {
      "cell_type": "markdown",
      "metadata": {
        "id": "QuUqNSPA711Y"
      },
      "source": [
        "Οι νέες τιμές υπολογίζονται χρησιμοποιώντας τις τιμές της προηγούμενης επανάληψης:\n",
        "\n",
        "> Indented block\n",
        "\n",
        "\n",
        "$$\\begin{bmatrix}δ\\end{bmatrix}^{(n+1)}=\\begin{bmatrix}Δδ\\end{bmatrix}+\\begin{bmatrix} δ\\end{bmatrix}^{(n)}\\quad (24)$$\n",
        "$$\\begin{bmatrix}V\\end{bmatrix}^{(n+1)}=\\begin{bmatrix}ΔV\\end{bmatrix}+\\begin{bmatrix} V\\end{bmatrix}^{(n)}\\quad (25)$$\n",
        "\n",
        "Δηλαδή: $$\\begin{bmatrix}0\\\\δ_B\\\\ δ_C\\\\ δ_D \\end{bmatrix}^{(1)}=\\begin{bmatrix}Δδ\\end{bmatrix}+ \\begin{bmatrix} 0 \\\\0\\\\0\\\\0 \\end{bmatrix} $$\n",
        "και \n",
        "$$\\begin{bmatrix}1\\\\1.05\\\\ V_C\\\\ V_D \\end{bmatrix}^{(1)}=\\begin{bmatrix}ΔV\\end{bmatrix}+\\begin{bmatrix} 1\\\\1.05\\\\1\\\\1 \\end{bmatrix}$$"
      ]
    },
    {
      "cell_type": "code",
      "metadata": {
        "id": "7G64c0gUY0CG",
        "outputId": "d99f1e54-af1a-486d-ddf7-29418a2b7fa9",
        "colab": {
          "base_uri": "https://localhost:8080/",
          "height": 86
        }
      },
      "source": [
        "#Voltage Angle..\n",
        "delta[1:num_bus] += dTh     # (24)\n",
        "print ('delta=\\n',delta)\n",
        "\n",
        "#Voltage magnitude\n",
        "k = 0\n",
        "for i in range (1,num_bus):\n",
        "  if pq[i]==True:\n",
        "    Vm[i] += dV[k]  # (25)\n",
        "    k += 1\n",
        "\n",
        "print ('Vm=\\n', Vm)"
      ],
      "execution_count": null,
      "outputs": [
        {
          "output_type": "stream",
          "text": [
            "delta=\n",
            " [0.0, -0.0037166085946573665, -0.06829268292682926, -0.07219512195121949]\n",
            "Vm=\n",
            " [1.0, 1.05, 1.0164948453608247, 1.0043298969072165]\n"
          ],
          "name": "stdout"
        }
      ]
    },
    {
      "cell_type": "markdown",
      "metadata": {
        "id": "pCBSlRyq7sD4"
      },
      "source": [
        "Μετατροπή γωνιών από ακτίνια σε μοίρες:\n",
        "$$ δ^\\circ= \\frac{180^\\circ}{\\pi}\\cdot(rad) \\quad (26)$$"
      ]
    },
    {
      "cell_type": "code",
      "metadata": {
        "id": "Uz2zgcSIaDLR",
        "outputId": "70ed48d3-4211-4dcc-e765-d4eae4a53c65",
        "colab": {
          "base_uri": "https://localhost:8080/",
          "height": 104
        }
      },
      "source": [
        "deltad = np.zeros([num_bus, 1])\n",
        "for n in range(num_bus):\n",
        "  deltad[n] = (180/math.pi)*delta[n] # (26)\n",
        "\n",
        "print ('deltad=\\n', deltad)"
      ],
      "execution_count": null,
      "outputs": [
        {
          "output_type": "stream",
          "text": [
            "deltad=\n",
            " [[ 0.        ]\n",
            " [-0.21294599]\n",
            " [-3.9128825 ]\n",
            " [-4.13647579]]\n"
          ],
          "name": "stdout"
        }
      ]
    },
    {
      "cell_type": "markdown",
      "metadata": {
        "id": "i8XMsjtW_sEv"
      },
      "source": [
        "### 5. Υπολογισμός ισχύων στους ζυγούς \n",
        "Οι ισχύς που χρειάζεται να προσδιοριστούν αν πρόκειται:\n",
        "* Για ζυγό ταλάντωσης, είναι η ενεργός και η άεργος ισχύς του, $P_{G}$,$Q_{G}$  \n",
        "* Για ζυγο PV, είναι η άεργος ισχύς του, $Q_{G}$\n",
        "<br>Οι ισχείς αυτές δίνονται από τις σχέσεις:\n",
        "$$P_G = P_k\\cdot S_{base} + P_D \\quad (27)$$\n",
        "$$Q_G = Q_k\\cdot S_{base} + Q_D\\quad (28)$$\n",
        "Και οι μιγαδικές ισχείς εκφράζονται ως:\n",
        "$$S_{k} = P_{k} + jQ_{k}\\quad (29)$$"
      ]
    },
    {
      "cell_type": "code",
      "metadata": {
        "id": "IW2_JBf7AwuW",
        "outputId": "a24ab48b-3ed9-4b8a-a6cd-bfd06ebdcd64",
        "colab": {
          "base_uri": "https://localhost:8080/",
          "height": 52
        }
      },
      "source": [
        "S = np.zeros([num_bus, 1], dtype=np.complex )\n",
        "V = np.zeros([num_bus, 1], dtype=np.complex )\n",
        "\n",
        "for n in range (num_bus):\n",
        "    if pv[n]==True:\n",
        "        Qg[n] = Qcal[n]*basemva + Pd[n]   # (28)\n",
        "        S[n] = complex(Pcal[n], Qcal[n])  # (29)\n",
        "    elif sl[n]==True:\n",
        "        Pg[n] = Pcal[n]*basemva + Pd[n]   # (27)\n",
        "        Qg[n] = Qcal[n]*basemva + Qd[n]   # (28) \n",
        "        S[n] = complex(Pcal[n], Qcal[n])  # (29)\n",
        "\n",
        "for n in range (num_bus):\n",
        "  V[n] = Vm[n]*complex(cos(delta[n]),sin(delta[n]))\n",
        "\n",
        "print ('Pg=', Pg)\n",
        "print ('Qg=', Qg)        "
      ],
      "execution_count": null,
      "outputs": [
        {
          "output_type": "stream",
          "text": [
            "Pg= [array([0.]), 30.0, 0.0, 0.0]\n",
            "Qg= [array([-50.]), array([78.75]), 0.0, 0.0]\n"
          ],
          "name": "stdout"
        }
      ]
    },
    {
      "cell_type": "markdown",
      "metadata": {
        "id": "9BxlDzHqOq74"
      },
      "source": [
        "Στο σημείο αυτό ολοκληρώνεται η 1η επανάληψη της μεθόδου. Η μεταβλητή $Τol$ παίρνει την τιμή της μέγιστης απόλυτης τιμής του διανύσματος διαφορών $Μ$ ώστε να ελεγχθεί το κριτήριο σύγκλισης στην αρχή του while loop.    \n",
        "Το παρακάάτω τμήμα κώδικα εμφανίζει τα τελικά αποτελέσματα της ροής φορτίου."
      ]
    },
    {
      "cell_type": "code",
      "metadata": {
        "id": "jmlgb0qjFhBp",
        "outputId": "b45ac52d-3b0f-49b8-fcee-49ed0ec60eff",
        "colab": {
          "base_uri": "https://localhost:8080/",
          "height": 260
        }
      },
      "source": [
        "Pgt = np.zeros([num_bus, 1])\n",
        "Qgt = np.zeros([num_bus, 1])\n",
        "Pdt = np.zeros([num_bus, 1])\n",
        "Qdt = np.zeros([num_bus, 1])\n",
        "Qsht = np.zeros([num_bus,1])\n",
        "\n",
        "Pgt= sum(Pg)\n",
        "Qgt= sum(Qg)\n",
        "Pdt= sum(Pd)\n",
        "Qdt= sum(Qd)\n",
        "Qsht= sum(Qsh)\n",
        "\n",
        "#  This program prints the power flow solution in a tabulated form on the screen.\n",
        "print('          Power Flow Solution by Newton-Raphson Method')\n",
        "print('               Maximum Power Mismatch = ', Tol)\n",
        "print('                    No. of Iterations = ', _iter_, '\\n') \n",
        "\n",
        "print ('Bus      Voltage Angle ------Load------ ---Generation--- Injected')\n",
        "print ('No.      Mag.    Degree  MW       Mvar   MW       Mvar   Mvar    ')\n",
        "print( '                                                      ')\n",
        "\n",
        "for n  in range (num_bus):\n",
        "    print(n+1,'\\t',\"%.3f\"%Vm[n],'\\t',\"%.2f\"%deltad[n],'\\t',\"%.2f\"%Pd[n],'\\t',\"%.2f\"%Qd[n],\n",
        "          '\\t',\"%.2f\"%Pg[n],'\\t',\"%.2f\"%Qg[n],'\\t',\"%.2f\"%Qsh[n])\n",
        "\n",
        "print('      \\n')\n",
        "print('    Total               ', \"%.2f\"%Pdt,'\\t',\"%.2f\"%Qdt,'\\t',\"%.2f\"%Pgt,'\\t',\"%.2f\"%Qgt,'\\t',\"%.2f\"%Qsht)\n",
        "\n",
        "# Tolerance..\n",
        "#Tol= abs(max(M, key=abs))"
      ],
      "execution_count": null,
      "outputs": [
        {
          "output_type": "stream",
          "text": [
            "          Power Flow Solution by Newton-Raphson Method\n",
            "               Maximum Power Mismatch =  1\n",
            "                    No. of Iterations =  1 \n",
            "\n",
            "Bus      Voltage Angle ------Load------ ---Generation--- Injected\n",
            "No.      Mag.    Degree  MW       Mvar   MW       Mvar   Mvar    \n",
            "                                                      \n",
            "1 \t 1.000 \t 0.00 \t 0.00 \t 0.00 \t 0.00 \t -50.00 \t 0.00\n",
            "2 \t 1.050 \t -0.21 \t 0.00 \t 0.00 \t 30.00 \t 78.75 \t 0.00\n",
            "3 \t 1.016 \t -3.91 \t 30.00 \t 5.00 \t 0.00 \t 0.00 \t 0.00\n",
            "4 \t 1.004 \t -4.14 \t 40.00 \t 10.00 \t 0.00 \t 0.00 \t 0.00\n",
            "      \n",
            "\n",
            "    Total                70.00 \t 15.00 \t 30.00 \t 28.75 \t 0.00\n"
          ],
          "name": "stdout"
        }
      ]
    },
    {
      "cell_type": "markdown",
      "metadata": {
        "id": "WRDQIQncavxg"
      },
      "source": [
        "Το παρακάτω κελί περιέχει όλο τον κώδικα της ροής φορτίου με τη μέθοδο Νewton-Raphson που περιγράψαμε αναλυτικά παραπάνω, το οποίο τρέχει και εμφανίζει τα αποτελέσματα για τις τρεις πρώτες επαναλήψεις όπου και συγκλίνει. "
      ]
    },
    {
      "cell_type": "code",
      "metadata": {
        "id": "kESRzrpmatsl",
        "outputId": "681f635f-d3e7-443d-d6c7-7491b021952a",
        "colab": {
          "base_uri": "https://localhost:8080/",
          "height": 799
        }
      },
      "source": [
        "busdata, num_bus = define_bus_data() \n",
        "linedata, num_lin = define_line_data()\n",
        " \n",
        "bus_type = [bus[1] for bus in busdata]\n",
        "Vm = [bus[2] for bus in busdata]\n",
        "Pd = [bus[4] for bus in busdata]\n",
        "Qd = [bus[5] for bus in busdata]\n",
        "Pg = [bus[6] for bus in busdata]\n",
        "Qg = [bus[7] for bus in busdata]\n",
        "Qsh = [bus[10] for bus in busdata]\n",
        "\n",
        "delta = [math.pi/180*bus[3] for bus in busdata]      # (1)\n",
        "\n",
        "basemva = 100\n",
        "# Initialize Psp, Qsp\n",
        "Psp = [(bus[6] - bus[4])/basemva for bus in busdata] # (2)\n",
        "Qsp = [(bus[7] - bus[5])/basemva for bus in busdata] # (3)\n",
        "\n",
        "# Admittance matrix\n",
        "y_bus = calculation_ybus(num_bus, linedata)\n",
        "\n",
        "# Real part of admittance matrix\n",
        "G = y_bus.real  \n",
        "# Imaginary part of admittance matrix\n",
        "B = y_bus.imag\n",
        "\n",
        "nPV=0\n",
        "nPQ=0\n",
        "\n",
        "for bus in busdata:\n",
        "    if int(bus[1])==2:\n",
        "        nPV+=1\n",
        "    elif int(bus[1])==0:\n",
        "        nPQ+=1      \n",
        "\n",
        "# Flag for sluck bus\n",
        "sl = [True if int(bus[1]) == 1 else False for bus in busdata] \n",
        "# Flag for pv bus      \n",
        "pv = [True if int(bus[1]) == 2 else False for bus in busdata]\n",
        "# Flag for pq bus   \n",
        "pq = [True if int(bus[1]) == 0 else False for bus in busdata]\n",
        "\n",
        "# Initialize dp and dq\n",
        "dPa = np.zeros([num_bus, 1])\n",
        "dQa = np.zeros([num_bus, 1])\n",
        "\n",
        "\n",
        "Vbus = [bus[2] for bus in busdata]\n",
        "Pgbus = [bus[6] for bus in busdata]\n",
        "Qgbus = [bus[7] for bus in busdata]\n",
        "\n",
        "Tol=1\n",
        "_iter_=0\n",
        "\n",
        "# Iteration starting..\n",
        "while (Tol >= 0.001 and _iter_<= 10):  # (12)\n",
        "  _iter_+=1\n",
        "  # Initialize Active and Reactive Power \n",
        "  Pcal = np.zeros([num_bus, 1])\n",
        "  Qcal = np.zeros([num_bus, 1])\n",
        "    \n",
        "  # Active and reactive power\n",
        "  for k in range(num_bus):\n",
        "    for m in range(num_bus):\n",
        "      Pcal[k,0] += Vm[k]*Vm[m]*(G[k,m]*cos(delta[k]-delta[m])+ B[k,m]*sin(delta[k]-delta[m]))  # (9)\n",
        "      Qcal[k,0] += Vm[k]*Vm[m]*(G[k,m]*sin(delta[k]-delta[m]) - B[k,m]*cos(delta[k]-delta[m])) # (10)\n",
        "           \n",
        "  # Calculation of dP and dQ\n",
        "  for nbus in range(num_bus):\n",
        "    if sl[nbus]:\n",
        "      dPa[nbus] = 0.0\n",
        "      dQa[nbus] = 0.0\n",
        "    else:\n",
        "      dPa[nbus] = Psp[nbus] - Pcal[nbus, 0]\n",
        "      dQa[nbus] = Qsp[nbus] - Qcal[nbus, 0]\n",
        "                  \n",
        "  k = 0\n",
        "  dQ = np.zeros([nPQ, 1])\n",
        "  for i in range (num_bus):\n",
        "    if pq[i]==True:\n",
        "      dQ[k,0] = dQa[i]\n",
        "      k += 1\n",
        "\n",
        "  dP = dPa[1:]\n",
        "        \n",
        "  M = np.vstack([dP, dQ])\n",
        "\n",
        "  # Calculation of Jacobian matrix\n",
        "\n",
        "  # Initialization of  submatrixes of Jacobian matrix\n",
        "  H = np.zeros([num_bus-1, num_bus-1])\n",
        "  N = np.zeros([num_bus-1, nPQ])\n",
        "  J = np.zeros([nPQ, num_bus-1])\n",
        "  L = np.zeros([nPQ, nPQ])\n",
        "\n",
        "  # Calculation of H\n",
        "  for i in range(num_bus-1):\n",
        "    k=i+1\n",
        "    for j in range(num_bus-1):\n",
        "      m=j+1\n",
        "      for m in range (num_bus):\n",
        "        if k==m:\n",
        "          H[k-1, m-1] = Vm[k]**2*B[k,k]+Qcal[k] # (15)\n",
        "        elif k!=m:\n",
        "          H[k-1,m-1] = - Vm[k]*Vm[m]*(G[k,m] * sin(delta[k]-delta[m]) - B[k,m] * cos(delta[k]-delta[m])) # (16)\n",
        "                    \n",
        "  # Calculation of N\n",
        "  for i in range(num_bus-1):\n",
        "    k=i+1\n",
        "    for j in range (num_bus):\n",
        "      if pq[j] == True:\n",
        "        m=j\n",
        "        for m in range (num_bus):\n",
        "          if k==m:\n",
        "            N[k-1, m-nPV-1] = - Vm[k]*G[k, k]-Pcal[k]/Vm[k] # (17)\n",
        "          elif k!=m:\n",
        "            N[k-1,m-nPV-1] = -Vm[m]*(G[k,m]*cos(delta[k]-delta[m]) + B[k,m]*sin(delta[k]-delta[m])) # (18)\n",
        "                                        \n",
        "  # Calculation of J\n",
        "  for i in range(num_bus):\n",
        "    if pq[i] == True:\n",
        "      k=i    \n",
        "      for j in range (num_bus-1):\n",
        "        m=j+1\n",
        "        if k==m:\n",
        "          for m in range (num_bus):\n",
        "            if k==m:\n",
        "              J[k-nPV-1, m-1] = Vm[k]**2*G[k, k] - Pcal[k] # (19)\n",
        "            elif k!=m:\n",
        "              J[k-nPV-1,m-1] = Vm[k]*Vm[m]*(G[k,m]*cos(delta[k]-delta[m]) + B[k,m] * sin(delta[k]-delta[m])) # (20)\n",
        "\n",
        "  # Calculation of L\n",
        "  for i in range(num_bus):\n",
        "    if pq[i] == True:\n",
        "      k=i    \n",
        "      for j in range (num_bus):\n",
        "        if pq[j] == True:\n",
        "          m=j    \n",
        "          if k==m:\n",
        "            for m in range (num_bus):\n",
        "              if k==m:\n",
        "                L[k-nPV-1, m-nPV-1] = Vm[k] * B[k, k] - Qcal[k]/Vm[m] # (21)\n",
        "              elif k!=m:\n",
        "                L[k-nPV-1,m-nPV-1] = -Vm[k]*(G[k,m]*sin(delta[k]-delta[m]) - B[k,m]*cos(delta[k]-delta[m])) #(22)\n",
        "\n",
        "                  \n",
        "  # Form the Jacobian matrix\n",
        "  JAC = -np.vstack([np.hstack([H, N]), np.hstack([J, L])]) # (14)\n",
        "\n",
        "  # Calculation of the inverse Jacobian matrix\n",
        "  INV_JAC = np.linalg.inv(JAC)  \n",
        "\n",
        "  # Find the X vector\n",
        "  X = np.dot(INV_JAC, M) # (23)\n",
        "\n",
        "  dTh = X[:num_bus-1,0]\n",
        "  dV = X[-nPQ:,0]\n",
        "  \n",
        "  #Voltage Angle..\n",
        "  delta[1:num_bus] += dTh # (24)\n",
        "  \n",
        "  #Voltage magnitude\n",
        "  k = 0\n",
        "  for i in range (1,num_bus):\n",
        "    if pq[i]==True:\n",
        "      Vm[i] += dV[k]     # (25)\n",
        "      k += 1\n",
        "\n",
        "  deltad = np.zeros([num_bus, 1])\n",
        "  for nbus in range(num_bus):\n",
        "    deltad[nbus] = (180/math.pi)*delta[nbus] # (26)\n",
        "\n",
        "  S = np.zeros([num_bus, 1], dtype=np.complex )\n",
        "\n",
        "  for n in range (num_bus):\n",
        "    if pv[n]==True:\n",
        "      Qg[n] = Qcal[n]*basemva + Pd[n]   # (28)\n",
        "      S[n] = complex(Pcal[n], Qcal[n])  # (29)\n",
        "    elif sl[n]==True:\n",
        "      Pg[n] = Pcal[n]*basemva + Pd[n]   # (27)\n",
        "      Qg[n] = Qcal[n]*basemva + Qd[n]   # (28) \n",
        "      S[n] = complex(Pcal[n], Qcal[n])  # (29)  \n",
        "\n",
        "  for n in range (num_bus):\n",
        "    V[n] = Vm[n]*complex(cos(delta[n]),sin(delta[n]))   \n",
        "  \n",
        "  Vbus = np.vstack([Vm,Vbus])\n",
        "  Pgbus = np.vstack([Pg,Pgbus])\n",
        "  Qgbus = np.vstack([Qg,Qgbus])\n",
        "\n",
        "  busdata[:,2]  = Vm\n",
        "  busdata[:,3] = np.transpose(deltad) \n",
        "\n",
        "  Pgt = np.zeros([num_bus, 1])\n",
        "  Qgt = np.zeros([num_bus, 1])\n",
        "  Pdt = np.zeros([num_bus, 1])\n",
        "  Qdt = np.zeros([num_bus, 1])\n",
        "  Qsht = np.zeros([num_bus, 1])\n",
        "\n",
        "  Pgt= sum(Pg)\n",
        "  Qgt= sum(Qg)\n",
        "  Pdt= sum(Pd)\n",
        "  Qdt= sum(Qd)\n",
        "  Qsht= sum(Qsh)\n",
        "\n",
        "  #  This program prints the power flow solution in a tabulated form on the screen.\n",
        "  print('          Power Flow Solution by Newton-Raphson Method')\n",
        "  print('               Maximum Power Mismatch = ', Tol)\n",
        "  print('                    No. of Iterations = ', _iter_, '\\n') \n",
        "\n",
        "  print ('Bus      Voltage Angle ------Load------ ---Generation--- Injected')\n",
        "  print ('No.      Mag.    Degree  MW       Mvar   MW       Mvar   Mvar    ')\n",
        "  print( '                                                      ')\n",
        "\n",
        "  for n  in range (num_bus):\n",
        "    print(n+1,'\\t',\"%.3f\"%Vm[n],'\\t',\"%.2f\"%deltad[n],'\\t',\"%.2f\"%Pd[n],'\\t',\"%.2f\"%Qd[n],\n",
        "          '\\t',\"%.2f\"%Pg[n],'\\t',\"%.2f\"%Qg[n],'\\t',\"%.2f\"%Qsh[n])\n",
        "\n",
        "  print('      \\n')\n",
        "  print('    Total               ', \"%.2f\"%Pdt,'\\t',\"%.2f\"%Qdt,'\\t',\"%.2f\"%Pgt,'\\t',\"%.2f\"%Qgt,'\\t',\"%.2f\"%Qsht,'\\n')\n",
        "    \n",
        "  Tol= abs(max(M, key=abs)) "
      ],
      "execution_count": null,
      "outputs": [
        {
          "output_type": "stream",
          "text": [
            "          Power Flow Solution by Newton-Raphson Method\n",
            "               Maximum Power Mismatch =  1\n",
            "                    No. of Iterations =  1 \n",
            "\n",
            "Bus      Voltage Angle ------Load------ ---Generation--- Injected\n",
            "No.      Mag.    Degree  MW       Mvar   MW       Mvar   Mvar    \n",
            "                                                      \n",
            "1 \t 1.000 \t 0.00 \t 0.00 \t 0.00 \t 0.00 \t -50.00 \t 0.00\n",
            "2 \t 1.050 \t -0.21 \t 0.00 \t 0.00 \t 30.00 \t 78.75 \t 0.00\n",
            "3 \t 1.016 \t -3.91 \t 30.00 \t 5.00 \t 0.00 \t 0.00 \t 0.00\n",
            "4 \t 1.004 \t -4.14 \t 40.00 \t 10.00 \t 0.00 \t 0.00 \t 0.00\n",
            "      \n",
            "\n",
            "    Total                70.00 \t 15.00 \t 30.00 \t 28.75 \t 0.00 \n",
            "\n",
            "          Power Flow Solution by Newton-Raphson Method\n",
            "               Maximum Power Mismatch =  [0.4]\n",
            "                    No. of Iterations =  2 \n",
            "\n",
            "Bus      Voltage Angle ------Load------ ---Generation--- Injected\n",
            "No.      Mag.    Degree  MW       Mvar   MW       Mvar   Mvar    \n",
            "                                                      \n",
            "1 \t 1.000 \t 0.00 \t 0.00 \t 0.00 \t 40.12 \t -50.85 \t 0.00\n",
            "2 \t 1.050 \t -0.22 \t 0.00 \t 0.00 \t 30.00 \t 71.21 \t 0.00\n",
            "3 \t 1.014 \t -3.89 \t 30.00 \t 5.00 \t 0.00 \t 0.00 \t 0.00\n",
            "4 \t 1.002 \t -4.12 \t 40.00 \t 10.00 \t 0.00 \t 0.00 \t 0.00\n",
            "      \n",
            "\n",
            "    Total                70.00 \t 15.00 \t 70.12 \t 20.36 \t 0.00 \n",
            "\n",
            "          Power Flow Solution by Newton-Raphson Method\n",
            "               Maximum Power Mismatch =  [0.01456785]\n",
            "                    No. of Iterations =  3 \n",
            "\n",
            "Bus      Voltage Angle ------Load------ ---Generation--- Injected\n",
            "No.      Mag.    Degree  MW       Mvar   MW       Mvar   Mvar    \n",
            "                                                      \n",
            "1 \t 1.000 \t 0.00 \t 0.00 \t 0.00 \t 40.00 \t -49.53 \t 0.00\n",
            "2 \t 1.050 \t -0.22 \t 0.00 \t 0.00 \t 30.00 \t 72.62 \t 0.00\n",
            "3 \t 1.014 \t -3.89 \t 30.00 \t 5.00 \t 0.00 \t 0.00 \t 0.00\n",
            "4 \t 1.002 \t -4.12 \t 40.00 \t 10.00 \t 0.00 \t 0.00 \t 0.00\n",
            "      \n",
            "\n",
            "    Total                70.00 \t 15.00 \t 70.00 \t 23.09 \t 0.00 \n",
            "\n"
          ],
          "name": "stdout"
        }
      ]
    },
    {
      "cell_type": "code",
      "metadata": {
        "id": "cJe8BhC_bF60"
      },
      "source": [
        "Iter = np.arange(_iter_+1)\n",
        "Vbus=np.flipud(Vbus)\n",
        "Pgbus=np.flipud(Pgbus)\n",
        "Qgbus = np.flipud(Qgbus)"
      ],
      "execution_count": null,
      "outputs": []
    },
    {
      "cell_type": "code",
      "metadata": {
        "id": "-eoT8kWnbTmZ",
        "outputId": "79a87585-eea4-4475-a915-0e3afeee79b0",
        "colab": {
          "base_uri": "https://localhost:8080/",
          "height": 553
        }
      },
      "source": [
        "y_pos = np.arange(len(Iter))\n",
        "f = plt.figure(figsize=(10,9))\n",
        "\n",
        "N = ['A','B','C','D']\n",
        "L = [1.05, 1.1, 1.05, 1.03]\n",
        "C = ['b','c','g','y'] # Cell array of colors.\n",
        "for k in range (num_bus):\n",
        "    plt.subplot(2, 2, k+1)\n",
        "    plt.bar(y_pos,Vbus[:,k], 0.3, color=C[k])\n",
        "    plt.xticks(y_pos, Iter)\n",
        "    plt.ylim(0.95, L[k])\n",
        "    plt.title('Τάση ζυγού '+ N[k])\n",
        "    plt.grid()\n",
        "    plt.minorticks_on()\n",
        "    plt.grid(which='minor',linestyle=':', linewidth='0.5', color='black')\n",
        "plt.show()"
      ],
      "execution_count": null,
      "outputs": [
        {
          "output_type": "display_data",
          "data": {
            "image/png": "[encoded data removed]",
            "text/plain": [
              "<Figure size 720x648 with 4 Axes>"
            ]
          },
          "metadata": {
            "tags": [],
            "needs_background": "light"
          }
        }
      ]
    },
    {
      "cell_type": "code",
      "metadata": {
        "id": "kZYMi401-cNW",
        "outputId": "cf6491a7-86a1-4b65-b9ce-89c6140f8d07",
        "colab": {
          "base_uri": "https://localhost:8080/",
          "height": 286
        }
      },
      "source": [
        "f = plt.figure(figsize=(10,9))\n",
        "N = ['A','B']\n",
        "C = ['b','g'] # Cell array of colors.\n",
        "for k in range (num_bus-2):\n",
        "    plt.subplot(2, 2, k+1)\n",
        "    plt.bar(y_pos, Pgbus[:,k], 0.3, color=C[k])\n",
        "    plt.xticks(y_pos, Iter)\n",
        "    plt.ylim(25, 45)\n",
        "    plt.title('Ενεργός παραγωγή ζυγού '+ N[k])\n",
        "    plt.grid()\n",
        "    plt.minorticks_on()\n",
        "    plt.grid(which='minor',linestyle=':', linewidth='0.5', color='black')\n",
        "plt.show()"
      ],
      "execution_count": null,
      "outputs": [
        {
          "output_type": "display_data",
          "data": {
            "image/png": "[encoded data removed]",
            "text/plain": [
              "<Figure size 720x648 with 2 Axes>"
            ]
          },
          "metadata": {
            "tags": [],
            "needs_background": "light"
          }
        }
      ]
    },
    {
      "cell_type": "code",
      "metadata": {
        "id": "6utCtg0k_TE5",
        "outputId": "b28f0afe-2bc7-4586-e932-f448deaae4b2",
        "colab": {
          "base_uri": "https://localhost:8080/",
          "height": 286
        }
      },
      "source": [
        "f = plt.figure(figsize=(10,9))\n",
        "N = ['A','B']\n",
        "C = ['c','m'] # Cell array of colors.\n",
        "for k in range (num_bus-2):\n",
        "    plt.subplot(2, 2, k+1)\n",
        "    plt.bar(y_pos, Qgbus[:,k], 0.3, color=C[k])\n",
        "    plt.xticks(y_pos, Iter)\n",
        "    #plt.ylim(25, 45)\n",
        "    plt.title('Άεργος παραγωγή ζυγού '+ N[k])\n",
        "    plt.grid()\n",
        "    plt.minorticks_on()\n",
        "    plt.grid(which='minor',linestyle=':', linewidth='0.5', color='black')\n",
        "plt.show()"
      ],
      "execution_count": null,
      "outputs": [
        {
          "output_type": "display_data",
          "data": {
            "image/png": "[encoded data removed]",
            "text/plain": [
              "<Figure size 720x648 with 2 Axes>"
            ]
          },
          "metadata": {
            "tags": [],
            "needs_background": "light"
          }
        }
      ]
    },
    {
      "cell_type": "code",
      "metadata": {
        "id": "xRuNP69bVP_F"
      },
      "source": [
        ""
      ],
      "execution_count": null,
      "outputs": []
    }
  ]
}