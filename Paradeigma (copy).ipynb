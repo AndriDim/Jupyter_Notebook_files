{
 "cells": [
  {
   "cell_type": "markdown",
   "metadata": {},
   "source": [
    "<h1><center>Ανάλυση Συστημάτων Ηλεκτρικής Ενέργειας - Μόνιμη Κατάσταση Λειτουργίας</center></h1>\n",
    "\n",
    "<h1><center> ΡΟΗ ΦΟΡΤΙΟΥ</center></h1>\n",
    "\n",
    "<img src=\"https://i.ibb.co/Kh4mwKK/Screenshot-from-2019-11-18-19-07-43.png\" alt=\"Screenshot-from-2019-11-18-19-07-43\" border=\"0\" width=\"400\"/>\n",
    "\n",
    "\n",
    "\n",
    "<h4><center> Σχήμα 1: Σύστημα τριών ζυγών</center></h4>\n",
    "Για το σύστημα ηλεκτρικής ενέργειας με την τοπολογία του παραπάνω σχήματος δίνονται τα ακόλουθα δεδομένα:\n",
    "* Ονομαστική τάση: 150kV\n",
    "* Κοινή βάση ισχύος:100MVA\n",
    "* Επαγωγικές αντιδράσεις και αγωγιμότητες των γραμμών μεταφοράς: \n",
    "    - $\\boldsymbol{z}_{12_{(α)}}= {z}_{21_{(β)}}=j0.1$ α.μ.,\n",
    "    - $\\boldsymbol{z}_{13}=j15$ Ω, \n",
    "    - $\\boldsymbol{z}_{23}=j0.25$ α.μ. (βάση ισχύος 250 MVA)\n",
    "* Δεδομένα ζυγών: $V_1=V_2=1$ α.μ., $P_{G2}=200$ MW, $P_{D2}= 50$ MW, $Q_{D2}=50$ MVAr, $P_{D3}=300$ MW, $Q_{D3}= 100$ MVAr\n",
    "\n",
    "### Βήμα 1ο: Εύρεση των ανά μονάδα τιμών του συστήματος\n",
    "\n",
    "> #### Ισοδύναμες αντιστάσεις γραμμών \n",
    "Yπολογίζουμε τη βασική τιμή της αντίστασης: $$Ζ_{Β} = \\frac{V_{B}^{2}}{S_B} \\quad (1)$$\n",
    "και στη συνέχεια, αν δεν δίνονται ήδη, υπολογίζουμε τις ανά μονάδα τιμές των αντιστάσεων: $$Ζ_{(αμ)} = \\frac{Z(Ω)}{Ζ_{B}}\\quad (2)$$\n",
    "Προσοχη: αν η τιμή της αντίστασης είναι σε άλλη βασική τιμή ισχύος από αυτή που έχει οριστεί πρέπει να κάνουμε αναγωγή στη νέα, με τη σχέση: $$Ζ_{Ν_{(αμ)}} = Ζ_{Π_{(αμ)}}\\cdot  (\\frac{V_{B,Π}}{V_{B,N}})^{2}\\cdot \\frac{S_{B,N}}{S_{B,Π}} \\quad (3) $$\n",
    "\n",
    " Στο παράδειγμα έχουμε:"
   ]
  },
  {
   "cell_type": "code",
   "execution_count": 1,
   "metadata": {},
   "outputs": [
    {
     "name": "stdout",
     "output_type": "stream",
     "text": [
      "Zbase =\n",
      "   225\n",
      "Z13 =\n",
      "   0.0000 + 0.0667i\n",
      "Z23 =\n",
      "   0.0000 + 0.1000i\n"
     ]
    }
   ],
   "source": [
    "Vbase = 150;\n",
    "basemva = 100;\n",
    "Sbold = 250;\n",
    "j=sqrt(-1); \n",
    "Z13 = j*15;\n",
    "Z23 = j*0.25;\n",
    "\n",
    "Zbase = Vbase^2/basemva % (1)\n",
    "Z13= Z13/Zbase %(2) \n",
    "Z23 = Z23*(basemva/Sbold) %(3)"
   ]
  },
  {
   "cell_type": "markdown",
   "metadata": {
    "cell_style": "center"
   },
   "source": [
    "#### Δεδομένα εισόδου\n",
    "Δεδομένα των γραμμών μεταφοράς και μετασχηματιστών:"
   ]
  },
  {
   "cell_type": "code",
   "execution_count": 2,
   "metadata": {
    "cell_style": "center"
   },
   "outputs": [],
   "source": [
    "%             Line code\n",
    "%         Bus bus   R      X      1/2 B     = 1 for lines  \n",
    "%         nl  nr   p.u.   p.u.    p.u.      > 1 or < 1 tr. tap at bus nl       \n",
    "linedata=[1   2    0.0    0.05     0.0         1        \n",
    "          1   3    0.0    0.0667   0.0         1        \n",
    "          2   3    0.0    0.1      0.0         1];"
   ]
  },
  {
   "cell_type": "markdown",
   "metadata": {
    "cell_style": "center"
   },
   "source": [
    "Δεδομένα των ζυγών: "
   ]
  },
  {
   "cell_type": "code",
   "execution_count": 3,
   "metadata": {
    "cell_style": "center"
   },
   "outputs": [],
   "source": [
    "%        Bus Bus  Voltage Angle   ---Load---- --Generator-- Injected \n",
    "%        No  code Mag.    Degree   MW   Mvar    MW  Mvar    Mvar\n",
    "busdata=[1   1    1.00    0.0      0      0      0    0      0      \n",
    "         2   2    1.00    0.0     50     50     200   0      0     \n",
    "         3   0    1.00    0.0     300    100     0    0      0 ];"
   ]
  },
  {
   "cell_type": "markdown",
   "metadata": {
    "cell_style": "center"
   },
   "source": [
    ">#### Έγχυση πραγματικής και αέργου ισχύος  \n",
    "> Γίνεται το ισοζύγιο ισχύος για κάθε ζυγό $k$ ξεχωριστά και υπολογίζονται οι ανά μονάδα τιμές της έγχυσης ενεργού και αέργου ισχύος από τις σχέσεις:\n",
    ">$$P_{sp,k} = \\frac{P_{G,k} -P_{D,k}}{S_{base}}\\quad (4)$$\n",
    ">$$Q_{sp,k} = \\frac{Q_{G,k} -Q_{D,k}}{S_{base}}\\quad (5) $$\n",
    "Οι μιγαδικές ισχείς εκφράζονται ως:\n",
    ">$$S = P_{sp,k} + jQ_{sp,k}\\quad (6)$$"
   ]
  },
  {
   "cell_type": "code",
   "execution_count": 4,
   "metadata": {
    "cell_style": "center"
   },
   "outputs": [
    {
     "name": "stdout",
     "output_type": "stream",
     "text": [
      "Psp =\n",
      "         0\n",
      "    1.5000\n",
      "   -3.0000\n",
      "Qsp =\n",
      "         0\n",
      "   -0.5000\n",
      "   -1.0000\n",
      "S =\n",
      "   0.0000 + 0.0000i\n",
      "   1.5000 - 0.5000i\n",
      "  -3.0000 - 1.0000i\n"
     ]
    }
   ],
   "source": [
    "Vm=0; delta=0; yload=0; deltad=0;\n",
    "nbus = length(busdata(:,1));\n",
    "kb=[];Vm=[]; delta=[]; V=[]; \n",
    "Pg = zeros(nbus,1); Pd = zeros(nbus,1); Qg = zeros(nbus,1); Qd = zeros(nbus,1);\n",
    "Psp = zeros(nbus,1); Qsp = zeros(nbus,1); Qsh = zeros(nbus,1);\n",
    "S = zeros(nbus,1);\n",
    "\n",
    "for k=1:nbus\n",
    "n=busdata(k,1); kb(n)=busdata(k,2); Vm(n)=busdata(k,3); delta(n)=busdata(k, 4);\n",
    "Pd(n)=busdata(k,5); Qd(n)=busdata(k,6); Pg(n)=busdata(k,7); Qg(n) = busdata(k,8);\n",
    "     Psp(n)=(Pg(n)-Pd(n))/basemva; % (4)\n",
    "     Qsp(n)=(Qg(n)-Qd(n))/basemva; % (5)\n",
    "     S(n) = Psp(n) + j*Qsp(n); % (6)\n",
    "end\n",
    "\n",
    "Psp\n",
    "Qsp\n",
    "S"
   ]
  },
  {
   "cell_type": "markdown",
   "metadata": {},
   "source": [
    ">Μετατροπή γωνιών από μοίρες σε ακτίνια:\n",
    "$$ (rad)= \\frac{\\pi}{180^\\circ}\\cdot δ^\\circ \\quad (7)$$"
   ]
  },
  {
   "cell_type": "code",
   "execution_count": 5,
   "metadata": {},
   "outputs": [
    {
     "name": "stdout",
     "output_type": "stream",
     "text": [
      "delta =\n",
      "     0     0     0\n"
     ]
    }
   ],
   "source": [
    "for n=1:nbus\n",
    "    delta(n) = pi/180*delta(n); % (7)\n",
    "end    \n",
    "delta"
   ]
  },
  {
   "attachments": {},
   "cell_type": "markdown",
   "metadata": {},
   "source": [
    "### Βήμα 2ο: Υπολογισμός του πίνακα αγωγιμοτήτων του συστήματος\n",
    ">Στο παρακάτω σχήμα φαίνεται η γενική περίπτωση ενός ζυγόυ $k$ του συστήματος, με γεννήτρια και φορτίο που εκφράζονται ως ισχείς (μιγαδική παραγόμενη ισχύς $\\boldsymbol{S}_{Gk}$ και μιγαδική ισχύς φορτίου $\\boldsymbol{S}_{Dk}$). Η γραμμή μεταφοράς μεταξύ των ζυγών $k$ και $m$ παριστάνεται με το ονομαστικό κύκλωμα Π (αγωγιμότητες $\\boldsymbol{y}_{km}$ και $\\boldsymbol{y}_{skm}$). Στον ζυγό $k$ είναι επίσης συνδεδεμένη εγκάρσια σύνθετη αγωγιμότητα $\\boldsymbol{y}_{k}$ που παριστάνει οποιοδήποτε συνδυασμό πυκνωτών, αυτεπαγωγών ή φορτίων που παριστάνονται με σταθερή αγωγιμότητα. \n",
    "><<img src=\"https://i.ibb.co/jWGqQGK/Screenshot-from-2019-11-04-16-17-41.png\" alt=\"Screenshot-from-2019-11-04-16-17-41\" border=\"0\" width=\"400\" />\n",
    "><h4><center> Σχήμα 2: Γενικευμένος ζυγός συστήματος ηλεκτρικής ενέργειας</center></h4>\n",
    ">Τα διαγώνια στοιχεία $\\boldsymbol{Y}_{kk}$ και τα μη διαγώνια στοιχεία $\\boldsymbol{Y}_{km}$ του πίνακα αγωγιμοτήτων του δίνονται ΣΗΕ από τις παρακάτω σχέσεις:\n",
    "$$\\boxed{Y_{kk}= {y}_{k}+\\sum_{m\\in A(k)}({y}_{skm}+{y}_{km})\\quad (8) \\\\ Y_{km}=-{y}_{km}\\quad (9)}$$\n",
    "Ο πίνακας αγωγιμοτήτων έχει μέγεθος $(nxn)$ όπου $n$ ο αριθμός των ζυγών του συστήματος που εξετάζουμε.\n",
    "\n",
    "Στην περίπτωσή μας ο πίνακας αγωγιμοτήτων έχει μέγεθος $(3x3)$.\n",
    "$$Y_{bus} = \\begin{bmatrix} Y_{11} & Y_{12} & Y_{13}\\\\ Y_{21} & Y_{22} & Y_{23}\\\\ Y_{31} & Y_{32} & Y_{33}\\end{bmatrix}$$ \n",
    "* Αρχικά όλες οι σύνθετες αντιστάσεις μετατρέπονται σε σύνθετες αγωγιμότητες από τη σχέση $(10)$:\n",
    "$${Z_{km} = R_{km} + jX_{km}}\\quad (10)$$  \n",
    "$${y_{km} = \\frac{1}{Z_{km}}}\\quad (11)$$\n",
    "* και στη συνέχεια υπολογίζονται τα διαγώνια και τα μη διαγώνια στοιχεία του πίνακα αγωγιμοτήτων από τις σχέσεις $(8)$, και $(9)$ αντίστοιχα.\n",
    "<br>$Y_{11}={y}_{12}+{y}_{13}$,$\\quad Y_{22}={y}_{21}+{y}_{21}$, $\\quad Y_{33}={y}_{31}+{y}_{32}$\n",
    "<br>$Y_{12}=Y_{21}=-{y}_{12}$,$\\quad Y_{13}=Y_{31}=-{y}_{13}$,$\\quad Y_{23}=Y_{32}=-{y}_{23}$"
   ]
  },
  {
   "cell_type": "code",
   "execution_count": 6,
   "metadata": {
    "cell_style": "center"
   },
   "outputs": [
    {
     "name": "stdout",
     "output_type": "stream",
     "text": [
      "Z =\n",
      "   0.0000 + 0.0500i\n",
      "   0.0000 + 0.0667i\n",
      "   0.0000 + 0.1000i\n",
      "y =\n",
      "   0.0000 -20.0000i\n",
      "   0.0000 -14.9925i\n",
      "   0.0000 -10.0000i\n",
      "Ybus =\n",
      "   0.0000 -34.9925i   0.0000 +20.0000i   0.0000 +14.9925i\n",
      "   0.0000 +20.0000i   0.0000 -30.0000i   0.0000 +10.0000i\n",
      "   0.0000 +14.9925i   0.0000 +10.0000i   0.0000 -24.9925i\n"
     ]
    }
   ],
   "source": [
    "nl = linedata(:,1);  %line from bus \n",
    "nr = linedata(:,2);  %line to bus\n",
    "R = linedata(:,3);   %line resistance\n",
    "X = linedata(:,4);   %line reactance\n",
    "Bc = j*linedata(:,5);\n",
    "a = linedata(:, 6);\n",
    "nbr=length(linedata(:,1));   %number of branch\n",
    "G=[];B=[];\n",
    "\n",
    "%the impedance of line \n",
    "Z = R + j*X  %(10) \n",
    "%the admittance of line\n",
    "y= ones(nbr,1)./Z %(11) \n",
    "\n",
    "for n = 1:nbr\n",
    "    Ybus=zeros(nbus,nbus);  % initialize Ybus to zeros\n",
    "    % formation of the off diagonal elements\n",
    "    for k=1:nbr\n",
    "       Ybus(nl(k),nr(k))=Ybus(nl(k),nr(k))-y(k); %(9)\n",
    "       Ybus(nr(k),nl(k))=Ybus(nl(k),nr(k));\n",
    "    end\n",
    "end\n",
    "% formation of the diagonal elements\n",
    "for  n=1:nbus\n",
    "     for k=1:nbr\n",
    "         if nl(k)==n\n",
    "         Ybus(n,n) = Ybus(n,n)+y(k); %(8)\n",
    "         elseif nr(k)==n\n",
    "         Ybus(n,n) = Ybus(n,n)+y(k); %(8)\n",
    "         else, end\n",
    "     end\n",
    "end\n",
    "\n",
    "Ybus"
   ]
  },
  {
   "cell_type": "markdown",
   "metadata": {},
   "source": [
    "Ο πίνακας αγωγιμοτήτων σε καρτεσιανή μορφή γράφεται:\n",
    "$$Y_{km}=G_{km} +jB_{km} \\quad (12)$$"
   ]
  },
  {
   "cell_type": "code",
   "execution_count": 7,
   "metadata": {},
   "outputs": [
    {
     "name": "stdout",
     "output_type": "stream",
     "text": [
      "G =\n",
      "     0     0     0\n",
      "     0     0     0\n",
      "     0     0     0\n",
      "B =\n",
      "  -34.9925   20.0000   14.9925\n",
      "   20.0000  -30.0000   10.0000\n",
      "   14.9925   10.0000  -24.9925\n"
     ]
    }
   ],
   "source": [
    "G = real(Ybus)                % Conductance matrix..\n",
    "B = imag(Ybus)                % Susceptance matrix.."
   ]
  },
  {
   "cell_type": "markdown",
   "metadata": {},
   "source": [
    "### Bήμα 3ο: Tο πρόβλημα ροών φορτίου\n",
    ">Το πρόβλημα των ροών φορτίου (ή ισχύος) συνίσταται στον προσδιορισμό των μεταβλητών του συστήματος: \n",
    " * των τάσεων κατά μετρο και γωνία σε όλους τους ζυγούς\n",
    " * των ροών ενεργού και αέργου ισχύος σε όλες τις γραμμές\n",
    " * των απωλειών, κ.α.\n",
    "> \n",
    "><br>σε μια δεδομένη μόνιμη κατάσταση λειτουργίας η οποία αντιστοιχεί σε μια ορισμένη εικόνα καταναλώσεων των φορτίων, παραγόμενης ενεργού ισχύος και τάσεων των γεννητριών.\n",
    ">### 1. Χαρακτηρισμός ζυγών του συστήματος\n",
    ">####  Τύποι ζυγών ροής φορτίου\n",
    "|   Τύπος ζυγού       |  Γνωστές μεταβλητές  | Άγνωστες μεταβλητές|\n",
    "|---------------------|----------------------|--------------------|\n",
    "|Ταλάντωσης ή αναφοράς|$V=1$α.μ.,$δ=0^\\circ$ |$P_{G}$,$Q_{G}$     |\n",
    "|Ζυγoί παραγωγής (PV) |    $P_{G}$,${V}$     |  $Q_{G}$,$δ$       |\n",
    "|  Ζυγοί φορτίου (PQ) |   $P_{D}$,$Q_{D}$    |$V$, $δ$            |\n",
    "\n",
    "Στο παράδειγμα είναι:\n",
    "\n",
    "* **Ζυγός 1**: Ζυγός ταλάντωσης (sluck bus). Θεωρούμε ότι η τάση του είναι σταθερή κατά μέτρο και γωνία $V_{1}=1\\angle 0^\\circ $ α.μ..\n",
    "* **Ζυγός 2**: Ζυγός παραγωγής (PV), αφού είναι γνωστά η παραγόμενη ενεργός ισχύς $P_{G2}=200$MW και το μέτρο της τάσης $V_{2}=1$ α.μ.\n",
    "* **Ζυγός 3**: Ζυγός φορτίου (PQ), αφού είναι γνωστές οι ισχείς φορτίου $P_{D3}=300$MW,$Q_{D3}=100$ MVAr\n",
    "\n",
    "<br>Στον πίνακα των δεδομένων των ζυγών ο ζυγός ταλάντωσης συμβολίζεται με 1, οι ζυγοί PV με 2 και οι ζυγοί PQ με 0.\n",
    "<br>Στο παρακάτω τμήμα κώδικα η μεταβλητή $nPV$ εμφανίζει το πλήθος των ζυγών PV του προβλήματος, ενώ η μεταβλητή $nPQ$ εμφανίζει το πλήθος των ζυγών PQ. Οι συναρτήσεις pv και pq βρίσκουν τους ζυγούς PV και PQ αντίστοιχα."
   ]
  },
  {
   "cell_type": "code",
   "execution_count": 8,
   "metadata": {},
   "outputs": [
    {
     "name": "stdout",
     "output_type": "stream",
     "text": [
      "nPV =\n",
      "     1\n",
      "nPQ =\n",
      "     1\n"
     ]
    }
   ],
   "source": [
    "nPV = 0;\n",
    "nPQ = 0;\n",
    "\n",
    "for k = 1:nbus                       \n",
    "   if kb(k)==2          % PV bus\n",
    "        nPV = nPV+1;end\n",
    "   if kb(k)==0\n",
    "        nPQ = nPQ+1;end % PQ bus\n",
    "end\n",
    "nPV\n",
    "nPQ\n",
    "\n",
    "pv = find(kb == 2 | kb == 1);   % PV Buses..\n",
    "pq = find(kb == 0);             % PQ Buses.."
   ]
  },
  {
   "cell_type": "markdown",
   "metadata": {},
   "source": [
    "> ### 2. Δεδομένα και ζητούμενα\n",
    ">#### Το διάνυσμα κατάστασης\n",
    "Θεωρούμε ότι $n$ είναι ο συνολικός αριθμός των ζυγών του συστήματος και $m$ ο αριθμός των ζυγών φορτίου PQ. Γενικά για $n$ ζυγούς έχουμε $2n$ αγνώστους. Δεδομένου ότι η τάση στο ζυγό ταλάντωσης είναι δεδομένη κατά μέτρο και γωνία, ενώ τα μέτρα των τάσεων είναι γνωστά στους ζυγούς παραγωγής, οι μεταβλητές που πρέπει να προσδιοριστούν για να περιγραφεί πλήρως η κατάσταση λειτουργίας του συστήματος είναι οι ακόλουθες:\n",
    "* οι φασικές γωνίες τάσεων όλων των ζυγών εκτός από το ζυγό ταλάντωσης \n",
    "* τα μέτρα τάσεων όλων των ζυγών φορτίου.\n",
    "\n",
    ">Οι μεταβλητές αυτές αποτελούν το διάνυσμα κατάστασης $Χ = \\begin{bmatrix} δ_2\\\\...\\\\δ_n\\\\V_{n-m+1}\\\\ ... \\\\ V_{n} \\end{bmatrix} $ με διάσταση $n-1+m$. Άρα για την εύρεση των αγνώστων χρειάζονται $n-1+m$ ανεξάρτητες εξισώσεις.\n",
    "* $n-1$ εξισώσεις πραγματικής ισχύος (για ζυγούς PV και PQ):\n",
    "$$\\boxed{ΔP_k^{(n)}=P_{sp,k}- V_{k}^{(n)}\\cdot \\sum_{m\\in A(k)}{ V_{m}^{(n)}\\cdot[G_{km}\\cdot cos(δ_{k}^{(n)} - δ_{m}^{(n)}) + B_{km}\\cdot sin( δ_{k}^{(n)} - δ_{m}^{(n)})]}}\\quad (13)$$\n",
    "* $m$ εξισώσεις αέργου ισχύος (για ζυγούς PQ):\n",
    "$$\\boxed{ΔQ_k^{(n)}=Q_{sp,k} - V_{k}^{(n)}\\cdot \\sum_{m\\in A(k)}{ V_{m}^{(n)}\\cdot[G_{km}\\cdot sin(δ_{k}^{(n)} - δ_{m}^{(n)}) - B_{km}\\cdot cos( δ_{k}^{(n)} - δ_{m}^{(n)})]}}\\quad (14)$$\n",
    "\n",
    "\n",
    "Στο παράδειγμα αυτό γνωρίζουμε την τάση του ζυγού 1 κατά μέτρο και γωνία $V_{1}=1\\angle 0^\\circ $ α.μ. καθώς και το μέτρο της τάσης του ζυγού 2, $V_{2}=1$ α.μ. Επομένως οι άγνωστοι του προβλήματος είναι 3, οι γωνίες $δ_2$, $δ_3$ και η τάση $V_3$.\n",
    "To διάνυσμα κατάστασης λοιπόν έχει τη μορφή  $Χ = \\begin{bmatrix} δ_2\\\\δ_3\\\\V_{3}\\end{bmatrix} $ και για να υπολογιστεί θα χρειαστούν δύο εξισώσεις πραγματικής ($ΔP_{2}$, $ΔP_{3}$) και μία εξίσωση αέργου ισχύος ($ΔQ_{3}$).\n",
    "<br>\n",
    "<br>Δηλαδή:\n",
    "<br>$\\bullet$ **Ζυγοί PV, PQ:**\n",
    "<br>$ΔP_2=P_{sp,2}- V_{2}\\cdot V_{1}\\cdot[G_{21}\\cdot cos(δ_{2} - δ_{1}) + B_{21}\\cdot sin( δ_{2} - δ_{1})]- V_{2}\\cdot V_{3}\\cdot[G_{23}\\cdot cos(δ_{2} - δ_{3}) + B_{23}\\cdot sin( δ_{2} - δ_{3})]$\n",
    "<br>$ΔP_3=P_{sp,3}- V_{3}\\cdot V_{1}\\cdot[G_{31}\\cdot cos(δ_{3} - δ_{1}) + B_{31}\\cdot sin( δ_{3} - δ_{1})]- V_{3}\\cdot V_{2}\\cdot[G_{32}\\cdot cos(δ_{3} - δ_{2}) + B_{32}\\cdot sin( δ_{3} - δ_{2})]$\n",
    "<br>$\\bullet$ **Ζυγοί PQ:**\n",
    "<br>$ΔQ_3=Q_{sp,3} - V_{3}\\cdot V_{1}\\cdot[G_{31}\\cdot sin(δ_{3} - δ_{1}) - B_{31}\\cdot cos( δ_{3} - δ_{1})]- V_{3}\\cdot V_{2}\\cdot[G_{32}\\cdot sin(δ_{3} - δ_{2}) - B_{32}\\cdot cos( δ_{3} - δ_{2})]$\n",
    ">#### Επαναληπτική διαδικασία\n",
    "* Πριν ξεκινήσουν οι επαναλήψεις της μεθόδου Newton-Raphson θεωρείται μια ενιαία τιμή εκκίνησης για τις τάσεις όλων των ζυγών του δικτύου, που δεν έχουν καθορισμένη τιμή, στα $V=1\\angle 0^\\circ $ α.μ.\n",
    "* Χρησιμοποιώντας αυτή την αρχική εκτίμηση υπολογίζεται, με τη βοήθεια των εξισώσεων ροής φορτίου μια βελτιωμένη δεύτερη εκτίμηση η οποία χρησιμοποιείται για να βρεθεί μία τρίτη κ.ο.κ.   \n",
    "* Οι επαναλήψεις συνεχίζονται μέχρι οι νέες τιμές των μεταβλητών του συστήματος να διαφέρουν από τις αρχικές πολύ λίγο, δηλαδή όταν ικανοποιούνται τα κριτήρια σύγκλισης. $$\\boxed{|ΔP_{k}^{(n)}|\\leq ε\\\\ |ΔQ_{k}^{(n)}|\\leq ε}\\quad (15) $$ \n",
    "\n",
    "<br> Στο πρόγραμμα αυτό το κριτήριο είναι: $$|M^{(n)}|\\leq ε \\quad (16)$$ \n",
    "όπου $M$ το διάνυσμα διαφορών: $$Μ  = \\begin{bmatrix} ΔP\\\\ ΔQ \\end{bmatrix}\\quad (17)$$ και $$ε= 0.001$$\n",
    "<br> Θα δούμε αναλυτικά την 1η επανάληψη: \n",
    "<br> Στο πρόγραμμα αυτό η επαναληπτική διαδικασία εκφράζεται μέσω ενός while loop, το οποίο στην εισοδό του ελέγχει το κριτήριο σύγκλισης των σχέσεων $(15)$. Στο παρακάτω κομμάτι κώδικα υπολογίζονται οι επαναληπτικές εξισώσεις ροής φορτίου σε όλους τους ζυγούς του ΣΗΕ. Από αυτές χρειαζόμαστε τις δύο εξισώσεις πραγματικής ισχύος ($ΔP_{2}$, $ΔP_{3}$), που αποθηκεύονται στο διάνυσμα dP και τη μία εξίσωση αέργου ισχύος ($ΔQ_{3}$), που αποθηκεύεται στο διάνυσμα dQ. Τα διανύσματα αυτά ενώνονται για να δημιουργηθεί το διάνυσμα διαφορών $Μ$ που έχει ίδιες διαστάσεις με το $Χ$."
   ]
  },
  {
   "cell_type": "code",
   "execution_count": 9,
   "metadata": {},
   "outputs": [
    {
     "name": "stdout",
     "output_type": "stream",
     "text": [
      "dP =\n",
      "    1.5000\n",
      "   -3.0000\n",
      "dQ =\n",
      "    -1\n",
      "M =\n",
      "    1.5000\n",
      "   -3.0000\n",
      "   -1.0000\n"
     ]
    }
   ],
   "source": [
    "Tol = 1;\n",
    "Iter = 0;\n",
    "%while (Tol >=0.001)   % Iteration starting.. (16)\n",
    "Iter = Iter +1;\n",
    "P = zeros(nbus,1);Q = zeros(nbus,1); % Calculate P and Q\n",
    "\n",
    "for k = 1:nbus\n",
    "    for m = 1:nbus\n",
    "            P(k) = P(k) + Vm(k)*Vm(m)*(G(k,m)*cos(delta(k)-delta(m)) + B(k,m)*sin(delta(k)-delta(m))); % (13)\n",
    "            Q(k) = Q(k) + Vm(k)*Vm(m)*(G(k,m)*sin(delta(k)-delta(m)) - B(k,m)*cos(delta(k)-delta(m))); % (14)    \n",
    "    end\n",
    "end\n",
    "\n",
    "dPa = Psp-P; %(13)\n",
    "dQa = Qsp-Q; %(14)\n",
    "\n",
    "k = 1;\n",
    "dQ = zeros(nPQ,1);\n",
    "for i = 1:nbus\n",
    "    if kb(i) == 0\n",
    "        dQ(k,1) = dQa(i);\n",
    "        k = k+1;\n",
    "    end\n",
    "end   \n",
    "\n",
    "dP = dPa(2:nbus)\n",
    "dQ\n",
    "\n",
    "% Mismatch Vector\n",
    "M = [dP; dQ]   % (17)    "
   ]
  },
  {
   "cell_type": "markdown",
   "metadata": {},
   "source": [
    ">### 3. Υπολογισμός Ιακωβιανής μήτρας\n",
    "H Ιακωβιανή μήτρα έχει τη μορφή $$Jac = \\begin{bmatrix} H & N\\\\ J & L \\end{bmatrix}\\quad (18)$$ \n",
    "* O υποπίνακας $Η$ έχει διαστάσεις $(n-1)x(n-1)$\n",
    "* Ο υποπίνακας $Ν$ έχει διαστάσεις $(n-1)xm$\n",
    "* Ο υποπίνακας $J$ έχει διαστάσεις $mx(n-1)$\n",
    "* O υποπίνακας $L$ έχει διαστάσεις $mxm$\n",
    "\n",
    "Στο παράδειγμα αυτό η Ιακωβιανή μήτρα έχει τη μορφή $$Jac = \\begin{bmatrix} H_{22} & Η_{23} & N_{23}\\\\ H_{32} & H_{33} & N_{33}\\\\ J_{32} & J_{33} & L_{33} \\end{bmatrix}$$ "
   ]
  },
  {
   "cell_type": "code",
   "execution_count": 10,
   "metadata": {},
   "outputs": [],
   "source": [
    "clear H N J L                                    \n",
    "H = zeros(nbus-1,nbus-1);\n",
    "N = zeros(nbus-1,nPQ);\n",
    "J = zeros(nPQ,nbus-1);\n",
    "L = zeros(nPQ,nPQ);"
   ]
  },
  {
   "cell_type": "markdown",
   "metadata": {},
   "source": [
    ">$$\\boxed{H_{kk} =\\frac{\\partial ΔP_k}{\\partial δ_k} = V_{k}^2\\cdot Β_{kk}+Q_{k}\\quad (19)\\\\\n",
    "όπου\\quad Q_{k}=  V_k\\cdot \\sum_{k \\not= m }{ V_m\\cdot [G_{km}\\cdot sin(δ_{k} - δ_{m}) - B_{km}\\cdot cos(δ_{k} - δ_{m})]} \\quad (20)\\\\\n",
    "H_{km}=\\frac{\\partial ΔP_k}{\\partial δ_m} = - V_k\\cdot V_m\\cdot [G_{km}\\cdot sin(δ_{k} - δ_{m}) - B_{km}\\cdot cos(δ_{k} - δ_{m})],   k \\not= m\\quad (21)}$$\n",
    "\n",
    "Θα είναι:\n",
    "<br>$H_{22}=  V_{2}^2\\cdot Β_{22}+V_2\\cdot V_1\\cdot [G_{21}\\cdot sin(δ_{2} - δ_{1}) - B_{21}\\cdot cos(δ_{2} - δ_{1})] + V_2\\cdot V_3\\cdot [G_{23}\\cdot sin(δ_{2} - δ_{3}) - B_{23}\\cdot cos(δ_{2} - δ_{3})]$\n",
    "<br>$H_{23}= - V_2\\cdot V_3\\cdot [G_{23}\\cdot sin(δ_{2} - δ_{3}) - B_{23}\\cdot cos(δ_{2} - δ_{3})]$\n",
    "<br>$H_{32}= - V_3\\cdot V_2\\cdot [G_{32}\\cdot sin(δ_{3} - δ_{2}) - B_{32}\\cdot cos(δ_{3} - δ_{2})]$\n",
    "<br>$H_{33}=  V_{3}^2\\cdot Β_{33}+V_3\\cdot V_1\\cdot [G_{31}\\cdot sin(δ_{3} - δ_{1}) - B_{31}\\cdot cos(δ_{3} - δ_{1})] + V_3\\cdot V_2\\cdot [G_{32}\\cdot sin(δ_{3} - δ_{2}) - B_{32}\\cdot cos(δ_{3} - δ_{2})]$"
   ]
  },
  {
   "cell_type": "code",
   "execution_count": 11,
   "metadata": {},
   "outputs": [
    {
     "name": "stdout",
     "output_type": "stream",
     "text": [
      "H =\n",
      "  -30.0000   10.0000\n",
      "   10.0000  -24.9925\n"
     ]
    }
   ],
   "source": [
    "for i = 1:(nbus-1)\n",
    "    k = i+1;\n",
    "    for j = 1:(nbus-1)\n",
    "        m = j+1;\n",
    "        if k == m\n",
    "            for m = 1:nbus\n",
    "                H(i,j) = H(i,j) + Vm(k)*Vm(m)*(G(k,m)*sin(delta(k)-delta(m)) - B(k,m)*cos(delta(k)-delta(m))); % (20)\n",
    "            end\n",
    "            H(i,j) =(Vm(k)^2)*B(k,k)+ H(i,j); % (19) \n",
    "        else\n",
    "            H(i,j) = -Vm(k)*Vm(m)*(G(k,m)*sin(delta(k)-delta(m)) - B(k,m)*cos(delta(k)-delta(m))); %(21)\n",
    "        end\n",
    "    end\n",
    "end\n",
    "\n",
    "H"
   ]
  },
  {
   "cell_type": "markdown",
   "metadata": {},
   "source": [
    ">$$\\boxed{N_{kk} = \\frac{\\partial ΔP_k}{\\partial V_k}= - V_k \\cdot G_{kk}-\\frac{P_{k}}{V_{k}}\\quad (22)\\\\\n",
    "όπου\\quad \\frac{P_{k}}{V_{k}} = \\sum_{k \\not= m }{ V_m\\cdot [G_{km}\\cdot cos(δ_{k} - δ_{m}) + B_{km}\\cdot sin(δ_{k} - δ_{m})]}\\quad (23)\\\\\n",
    "N_{km}=\\frac{\\partial ΔP_k}{\\partial V_m} = - V_k\\cdot [G_{km}\\cdot cos(δ_{k} - δ_{m}) + B_{km}\\cdot sin(δ_{k} - δ_{m})], k \\not= m\\quad (24)}$$\n",
    "\n",
    "<br>$N_{23} =- V_2\\cdot [G_{23}\\cdot cos(δ_{2} - δ_{3}) + B_{23}\\cdot sin(δ_{2} - δ_{3})]$\n",
    "<br>$N_{33} =- V_3 \\cdot G_{33} - V_1\\cdot [G_{31}\\cdot cos(δ_{3} - δ_{1}) + B_{31}\\cdot sin(δ_{3} - δ_{1})] -V_2\\cdot [G_{32}\\cdot cos(δ_{3} - δ_{2}) + B_{32}\\cdot sin(δ_{3} - δ_{2})]$"
   ]
  },
  {
   "cell_type": "code",
   "execution_count": 12,
   "metadata": {},
   "outputs": [
    {
     "name": "stdout",
     "output_type": "stream",
     "text": [
      "N =\n",
      "     0\n",
      "     0\n"
     ]
    }
   ],
   "source": [
    "for i = 1:(nbus-1)\n",
    "        k = i+1;\n",
    "        for j = 1:nPQ\n",
    "            m = pq(j);\n",
    "            if k == m\n",
    "                for m = 1:nbus\n",
    "                    N(i,j) = N(i,j) + Vm(m)*(G(k,m)*cos(delta(k)-delta(m)) + B(k,m)*sin(delta(k)-delta(m))); % (23)                 \n",
    "                end\n",
    "                N(i,j) =- Vm(k)*G(k,k)- N(i,j); % (22)\n",
    "            else\n",
    "                N(i,j) = -Vm(k)*(G(k,m)*cos(delta(k)-delta(m)) + B(k,m)*sin(delta(k)-delta(m))); % (24)\n",
    "            end\n",
    "        end\n",
    "    end\n",
    "N    "
   ]
  },
  {
   "cell_type": "markdown",
   "metadata": {},
   "source": [
    ">$$\\boxed{J_{kk}=\\frac{\\partial ΔQ_k}{\\partial δ_k} =  V_k^2\\cdot G_{kk} -P_{k} \\quad (25)\\\\\n",
    "όπου\\quad P_{k}=V_k\\cdot \\sum_{k \\not= m}{ V_m\\cdot [G_{km}\\cdot cos(δ_{k} - δ_{m}) + B_{km}\\cdot sin(δ_{k} - δ_{m})]} \\quad (26)\\\\\n",
    "J_{km}=\\frac{\\partial ΔQ_k}{\\partial δ_m} =  V_k\\cdot V_m\\cdot [G_{km}\\cdot cos(δ_{k} - δ_{m}) - B_{km}\\cdot sin(δ_{k} - δ_{m})], k \\not= m\\quad (27)}$$\n",
    "\n",
    "<br>$J_{32}=  V_3\\cdot V_2\\cdot [G_{32}\\cdot cos(δ_{3} - δ_{2}) - B_{32}\\cdot sin(δ_{3} - δ_{2})]$\n",
    "<br>$J_{33}=  V_3^2\\cdot G_{33}-V_3\\cdot V_1\\cdot [G_{31}\\cdot cos(δ_{3} - δ_{1}) - B_{31}\\cdot sin(δ_{3} - δ_{1})]-V_3\\cdot V_2\\cdot [G_{32}\\cdot cos(δ_{3} - δ_{2}) - B_{32}\\cdot sin(δ_{3} - δ_{2})]$"
   ]
  },
  {
   "cell_type": "code",
   "execution_count": 13,
   "metadata": {},
   "outputs": [
    {
     "name": "stdout",
     "output_type": "stream",
     "text": [
      "J =\n",
      "     0     0\n"
     ]
    }
   ],
   "source": [
    "for i = 1:nPQ\n",
    "    k = pq(i);\n",
    "    for j = 1:(nbus-1)\n",
    "        m = j+1;\n",
    "        if k == m\n",
    "            for m = 1:nbus\n",
    "                J(i,j) = J(i,j) + Vm(k)*Vm(m)*(G(k,m)*cos(delta(k)-delta(m)) + B(k,m)*sin(delta(k)-delta(m))); %(26)\n",
    "            end\n",
    "                J(i,j) =(Vm(k)^2)*G(k,k)-J(i,j); %(25)\n",
    "            else\n",
    "                J(i,j) = Vm(k)* Vm(m)*(G(k,m)*cos(delta(k)-delta(m)) + B(k,m)*sin(delta(k)-delta(m))); %(27)\n",
    "        end\n",
    "    end\n",
    "end\n",
    "J"
   ]
  },
  {
   "cell_type": "markdown",
   "metadata": {},
   "source": [
    ">$$\\boxed{L_{kk}=\\frac{\\partial ΔQ_k}{\\partial V_m} =  V_k\\cdot B_{kk}- \\frac{Q_{k}}{V_{k}}\\quad (28)\\\\\n",
    "όπου\\quad \\frac{Q_{k}}{V_{k}} = \\sum_{k\\not=m}{ V_m\\cdot [G_{km}\\cdot sin(δ_{k} - δ_{m}) - B_{km}\\cdot cos(δ_{k} - δ_{m})]}\\quad (29)\\\\\n",
    "L_{km}=\\frac{\\partial ΔQ_k}{\\partial V_m} = - V_k\\cdot [G_{km}\\cdot sin(δ_{k} - δ_{m}) - B_{km}\\cdot cos(δ_{k} - δ_{m})], k \\not= m \\quad (30)}$$\n",
    "\n",
    "<br>$L_{33}= V_3\\cdot B_{33}-V_1\\cdot [G_{31}\\cdot sin(δ_{3} - δ_{1}) - B_{31}\\cdot cos(δ_{3} - δ_{1})]-V_2\\cdot [G_{32}\\cdot sin(δ_{3} - δ_{2}) - B_{32}\\cdot cos(δ_{3} - δ_{2})]$"
   ]
  },
  {
   "cell_type": "code",
   "execution_count": 14,
   "metadata": {},
   "outputs": [
    {
     "name": "stdout",
     "output_type": "stream",
     "text": [
      "L =\n",
      "  -24.9925\n"
     ]
    }
   ],
   "source": [
    "for i = 1:nPQ\n",
    "        k = pq(i);\n",
    "        for j = 1:nPQ\n",
    "            m = pq(j);\n",
    "            if k == m\n",
    "                for k = 1:nbus\n",
    "                    L(i,j) = L(i,j) + Vm(m)*(G(k,m)*sin(delta(k)-delta(m)) - B(k,m)*cos(delta(k)-delta(m))); % (29)\n",
    "                end\n",
    "                L(i,j) = Vm(k)*B(k,k)-L(i,j); % (28)\n",
    "            else\n",
    "                L(i,j) = -Vm(k)*(G(k,m)*sin(delta(k)-delta(m)) - B(k,m)*cos(delta(k)-delta(m))); % (30)\n",
    "            end\n",
    "        end\n",
    " end\n",
    " L"
   ]
  },
  {
   "cell_type": "markdown",
   "metadata": {},
   "source": [
    "Επομένως η Ιακωβιανή μήτρα για την 1η επανάληψη θα είναι:"
   ]
  },
  {
   "cell_type": "code",
   "execution_count": 15,
   "metadata": {},
   "outputs": [
    {
     "name": "stdout",
     "output_type": "stream",
     "text": [
      "Jac =\n",
      "   30.0000  -10.0000         0\n",
      "  -10.0000   24.9925         0\n",
      "         0         0   24.9925\n"
     ]
    }
   ],
   "source": [
    " Jac = -[H   N; J   L] % Jacobian matrix"
   ]
  },
  {
   "cell_type": "markdown",
   "metadata": {},
   "source": [
    ">### 4. Υπολογισμός των νέων τάσεων και γωνιών του συστήματος\n",
    "Από τη γενική εξίσωση Newton-Raphson υπολογίζεται το διάνυσμα των αγνώστων:\n",
    "$$ Χ = J^{-1}Μ^{(n)}\\quad \\Rightarrow \\quad \\begin{bmatrix} Δδ\\\\ ΔV \\end{bmatrix} = \\begin{bmatrix} H & N\\\\ J & L \\end{bmatrix}^{-1}\\begin{bmatrix} ΔP\\\\ ΔQ\\end{bmatrix} \\quad (31)$$\n"
   ]
  },
  {
   "cell_type": "code",
   "execution_count": 16,
   "metadata": {},
   "outputs": [
    {
     "name": "stdout",
     "output_type": "stream",
     "text": [
      "X =\n",
      "    0.0115\n",
      "   -0.1154\n",
      "   -0.0400\n",
      "dTh =\n",
      "    0.0115\n",
      "   -0.1154\n",
      "dV =\n",
      "   -0.0400\n"
     ]
    }
   ],
   "source": [
    "% Correction Vector\n",
    "X = inv(Jac)*M     % (31)      \n",
    "\n",
    "dTh = X(1:nbus-1)      % Change in Voltage Angle..\n",
    "dV = X(nbus:end)       % Change in Voltage Magnitude.."
   ]
  },
  {
   "cell_type": "markdown",
   "metadata": {},
   "source": [
    ">Οι νέες τιμές υπολογίζονται χρησιμοποιώντας τις τιμές της προηγούμενης επανάληψης:\n",
    ">$$\\begin{bmatrix}δ\\end{bmatrix}^{(n+1)}=\\begin{bmatrix}Δδ\\end{bmatrix}+\\begin{bmatrix} δ\\end{bmatrix}^{(n)}\\quad (32)$$\n",
    "$$\\begin{bmatrix}V\\end{bmatrix}^{(n+1)}=\\begin{bmatrix}ΔV\\end{bmatrix}+\\begin{bmatrix} V\\end{bmatrix}^{(n)}\\quad (33)$$\n",
    "\n",
    "Δηλαδή: $$\\begin{bmatrix}0\\\\δ_2\\\\ δ_3\\end{bmatrix}^{(1)}=\\begin{bmatrix}Δδ\\end{bmatrix}+ \\begin{bmatrix} 0 \\\\0\\\\0 \\end{bmatrix} $$\n",
    "και \n",
    "$$\\begin{bmatrix}1\\\\1\\\\ V_3\\end{bmatrix}^{(1)}=\\begin{bmatrix}ΔV\\end{bmatrix}+\\begin{bmatrix} 1\\\\1\\\\1 \\end{bmatrix}$$"
   ]
  },
  {
   "cell_type": "code",
   "execution_count": 17,
   "metadata": {},
   "outputs": [
    {
     "name": "stdout",
     "output_type": "stream",
     "text": [
      "delta =\n",
      "         0    0.0115   -0.1154\n",
      "Vm =\n",
      "    1.0000    1.0000    0.9600\n"
     ]
    }
   ],
   "source": [
    "% Updating State Vectors..\n",
    "% Voltage Angle..\n",
    "delta(2:nbus) = dTh + delta(2:nbus)'    % (32)\n",
    "\n",
    "% Voltage Magnitude..\n",
    "k = 1;\n",
    "for i = 2:nbus\n",
    "    if kb(i) == 0\n",
    "        Vm(i) = dV(k) + Vm(i);        % (33)\n",
    "        k = k+1;\n",
    "        end\n",
    "    end\n",
    "Vm"
   ]
  },
  {
   "cell_type": "markdown",
   "metadata": {},
   "source": [
    ">Μετατροπή γωνιών από ακτίνια σε μοίρες:\n",
    "$$ δ^\\circ= \\frac{180^\\circ}{\\pi}\\cdot(rad) \\quad (34)$$"
   ]
  },
  {
   "cell_type": "code",
   "execution_count": 18,
   "metadata": {},
   "outputs": [
    {
     "name": "stdout",
     "output_type": "stream",
     "text": [
      "deltad =\n",
      "         0    0.6603   -6.6133\n"
     ]
    }
   ],
   "source": [
    "deltad=180/pi*delta % (34)"
   ]
  },
  {
   "cell_type": "markdown",
   "metadata": {},
   "source": [
    ">### 5. Υπολογισμός ισχύων στους ζυγούς \n",
    "Οι ισχύς που χρειάζεται να προσδιοριστούν αν πρόκειται:\n",
    "* Για ζυγό ταλάντωσης, είναι η ενεργός και η άεργος ισχύς του, $P_{G}$,$Q_{G}$  \n",
    "* Για ζυγο PV, η άεργος ισχύς του, $Q_{G}$\n",
    "<br>Οι ισχείς αυτές δίνονται από τις σχέσεις:\n",
    "$$P_G = P_k\\cdot S_{base} + P_D \\quad (35)$$\n",
    "$$Q_G = Q_k\\cdot S_{base} + Q_D\\quad (36)$$\n",
    "Και οι μιγαδικές ισχείς εκφράζονται ως:\n",
    ">$$S_{k} = P_{k} + jQ_{k}\\quad (37)$$"
   ]
  },
  {
   "cell_type": "code",
   "execution_count": 19,
   "metadata": {},
   "outputs": [
    {
     "name": "stdout",
     "output_type": "stream",
     "text": [
      "Pg =\n",
      "     0\n",
      "   200\n",
      "     0\n",
      "Qg =\n",
      "    0.0000\n",
      "   50.0000\n",
      "         0\n"
     ]
    }
   ],
   "source": [
    "k=0;\n",
    "for n = 1:nbus\n",
    "     if kb(n) == 1\n",
    "     k=k+1;\n",
    "     S(n)= P(n)+j*Q(n); % (37)\n",
    "     Pg(n) = P(n)*basemva + Pd(n); % (35)\n",
    "     Qg(n) = Q(n)*basemva + Qd(n); % (36)\n",
    "     elseif  kb(n) ==2\n",
    "     k=k+1;\n",
    "     S(n)=P(n)+j*Q(n); % (37)\n",
    "     Qg(n) = Q(n)*basemva + Qd(n); % (36)\n",
    "  end\n",
    "yload(n) = (Pd(n)- j*Qd(n))/(basemva*Vm(n)^2);\n",
    "end\n",
    "Pg\n",
    "Qg"
   ]
  },
  {
   "attachments": {},
   "cell_type": "markdown",
   "metadata": {},
   "source": [
    "Το αρχείο Busout υπολογίζει και εμφανίζει τα τελικά αποτελέσματα της ροής φορτίου και το αρχείο Lineflow υπολογίζει και εμφανίζει τις ροές ισχύος στις γραμμές καθώς και τις αντίστοιχες απώλειες ισχύος (όλα τα μεγέθη σε MW και MVar).\n",
    "\n",
    ">### 6. Υπολογισμός Ροών Ισχύος Γραμμής \n",
    "<img src=\"https://i.ibb.co/4fvqNpV/Screenshot-from-2019-11-25-15-57-25.png\" alt=\"Screenshot-from-2019-11-25-15-57-25\" border=\"0\" width=\"500\"/>\n",
    "><h4><center> Σχήμα 3: Ροή ισχύος στη γραμμή $k-m$</center></h4>\n",
    ">Στη γραμμή μεταφοράς $k-m$ του Σχήματος 3:\n",
    "<br>\n",
    "<br>\n",
    "$\\bullet$ H ανα μονάδα ροή ενεργού ισχύος $P_{km}$ στον ζυγό $k$, με κατεύθυνση από τον ζυγό $k$ προς τον ζυγό $m$:\n",
    "<br>\n",
    "<br>\n",
    "$$P_{km}=(g_{km}+g_{skm})\\cdot V_{k}^{2}-  V_{k}\\cdot V_{m}\\cdot [g_{km}\\cdot cos(δ_{k} - δ_{m}) + b_{km}\\cdot sin( δ_{k} - δ_{m})]\\quad (38)$$\n",
    "<br>\n",
    "$\\bullet$ H ανα μονάδα ροή ενεργού ισχύος $P_{mk}$ στον ζυγό $m$, με κατεύθυνση από τον ζυγό $m$ προς τον ζυγό $k$:\n",
    "<br>\n",
    "<br>\n",
    "$$P_{mk}=(g_{km}+g_{skm})\\cdot V_{m}^{2}-  V_{m}\\cdot V_{k}\\cdot [g_{km}\\cdot cos(δ_{m} - δ_{k}) + b_{mk}\\cdot sin( δ_{m} - δ_{k})]\\quad (39)$$\n",
    "<br>\n",
    "$\\bullet$ Οι ανά μονάδα απώλειες ενεργού ισχύος $PLoss_{km}$:\n",
    "$$PLoss_{km}=P_{km}+P_{mk}\\quad (40)$$\n",
    "<br>\n",
    "Στη γραμμή μεταφοράς $k-m$ του Σχήματος 3:\n",
    "<br>\n",
    "<br>\n",
    "$\\bullet$ H ανα μονάδα ροή αέργου ισχύος $Q_{km}$ στον ζυγό $k$, με κατεύθυνση από τον ζυγό $k$ προς τον ζυγό $m$:\n",
    "<br>\n",
    "<br>\n",
    "$$Q_{km}=-(b_{km}+b_{skm})\\cdot V_{k}^{2}-  V_{k}\\cdot V_{m}\\cdot [g_{km}\\cdot sin(δ_{k} - δ_{m}) + b_{km}\\cdot cos( δ_{k} - δ_{m})]\\quad (41)$$\n",
    "<br>\n",
    "$\\bullet$ H ανα μονάδα ροή αέργου ισχύος $Q_{mk}$ στον ζυγό $m$, με κατεύθυνση από τον ζυγό $m$ προς τον ζυγό $k$:\n",
    "<br>\n",
    "<br>\n",
    "$$Q_{mk}=(b_{km}+b_{skm})\\cdot V_{m}^{2}-  V_{m}\\cdot V_{k}\\cdot [g_{km}\\cdot sin(δ_{m} - δ_{k}) + b_{mk}\\cdot cos( δ_{m} - δ_{k})]\\quad (42)$$\n",
    "<br>\n",
    "$\\bullet$ Οι ανά μονάδα απώλειες ενεργού ισχύος $QLoss_{km}$:\n",
    "$$QLoss_{km}=Q_{km}+Q_{mk}\\quad (43)$$\n",
    "\n",
    "Στο σημείο αυτό ολοκληρώνεται η 1η επανάληψη της μεθόδου. Η μεταβλητή $Τol$ παίρνει την τιμή της μέγιστης απόλυτης τιμής του διανύσματος διαφορών $Μ$ ώστε να ελεγχθεί το κριτήριο σύγκλισης στην αρχή του while loop.    "
   ]
  },
  {
   "cell_type": "code",
   "execution_count": 20,
   "metadata": {},
   "outputs": [
    {
     "name": "stdout",
     "output_type": "stream",
     "text": [
      "                   Power Flow Solution by Newton-Raphson Method\n",
      "                        Maximum Power Mismatch = 1 \n",
      "                             No. of Iterations = 1 \n",
      "\n",
      "    Bus  Voltage    Angle       ------Load------        ---Generation---       Injected\n",
      "    No.  Mag.       Degree        MW       Mvar           MW       Mvar           Mvar \n",
      "                                                                                       \n",
      "    1    1.000       0.00        0.00      0.00          0.00      0.00           0.00\n",
      "    2    1.000       0.66       50.00     50.00        200.00     50.00           0.00\n",
      "    3    0.960      -6.61      300.00    100.00          0.00      0.00           0.00\n",
      "      \n",
      "    Total                      350.00    150.00        200.00     50.00           0.00\n",
      "\n",
      "\n",
      "                           Line Flow and Losses \n",
      "\n",
      "     --Line--  Power at bus & line flow    --Line loss--  Transformer\n",
      "     from  to    MW      Mvar     MVA       MW      Mvar      tap\n",
      "   \n",
      "     1          0.000    0.000    0.000\n",
      "           2  -23.050    0.133   23.050    0.000    0.266\n",
      "           3  165.758   69.565  179.763    0.000   21.554\n",
      "   \n",
      "     2          0.000    0.000    0.000\n",
      "           1   23.050    0.133   23.050    0.000    0.266\n",
      "           3  121.543   47.737  130.582    0.000   17.052\n",
      "   \n",
      "     3          0.000    0.000  316.228\n",
      "           1 -165.758  -48.011  172.571    0.000   21.554\n",
      "           2 -121.543  -30.686  125.357    0.000   17.052\n",
      "   \n",
      "    Total loss                             0.000   38.871\n"
     ]
    }
   ],
   "source": [
    "Busout\n",
    "Lineflow\n",
    "% Tolerance..\n",
    "%Tol = max(abs(M)); \n",
    "%end"
   ]
  },
  {
   "cell_type": "markdown",
   "metadata": {},
   "source": [
    "Το παρακάτω κελί περιέχει όλο τον κώδικα της ροής φορτίου με τη μέθοδο Νewton-Raphson που περιγράψαμε αναλυτικά παραπάνω, το οποίο τρέχει και εμφανίζει τα αποτελέσματα για τις τρεις πρώτες επαναλήψεις. "
   ]
  },
  {
   "cell_type": "code",
   "execution_count": 21,
   "metadata": {
    "code_folding": [
     0
    ]
   },
   "outputs": [
    {
     "name": "stdout",
     "output_type": "stream",
     "text": [
      "                   Power Flow Solution by Newton-Raphson Method\n",
      "                        Maximum Power Mismatch = 1 \n",
      "                             No. of Iterations = 1 \n",
      "\n",
      "    Bus  Voltage    Angle       ------Load------        ---Generation---       Injected\n",
      "    No.  Mag.       Degree        MW       Mvar           MW       Mvar           Mvar \n",
      "                                                                                       \n",
      "    1    1.000       0.00        0.00      0.00          0.00      0.00           0.00\n",
      "    2    1.000       0.66       50.00     50.00        200.00     50.00           0.00\n",
      "    3    0.960      -6.61      300.00    100.00          0.00      0.00           0.00\n",
      "      \n",
      "    Total                      350.00    150.00        200.00     50.00           0.00\n",
      "\n",
      "\n",
      "                           Line Flow and Losses \n",
      "\n",
      "     --Line--  Power at bus & line flow    --Line loss--  Transformer\n",
      "     from  to    MW      Mvar     MVA       MW      Mvar      tap\n",
      "   \n",
      "     1          0.000    0.000    0.000\n",
      "           2  -23.050    0.133   23.050    0.000    0.266\n",
      "           3  165.758   69.565  179.763    0.000   21.554\n",
      "   \n",
      "     2          0.000    0.000    0.000\n",
      "           1   23.050    0.133   23.050    0.000    0.266\n",
      "           3  121.543   47.737  130.582    0.000   17.052\n",
      "   \n",
      "     3          0.000    0.000  316.228\n",
      "           1 -165.758  -48.011  172.571    0.000   21.554\n",
      "           2 -121.543  -30.686  125.357    0.000   17.052\n",
      "   \n",
      "    Total loss                             0.000   38.871\n",
      "                   Power Flow Solution by Newton-Raphson Method\n",
      "                        Maximum Power Mismatch = 3 \n",
      "                             No. of Iterations = 2 \n",
      "\n",
      "    Bus  Voltage    Angle       ------Load------        ---Generation---       Injected\n",
      "    No.  Mag.       Degree        MW       Mvar           MW       Mvar           Mvar \n",
      "                                                                                       \n",
      "    1    1.000       0.00        0.00      0.00        142.71     69.70           0.00\n",
      "    2    1.000       0.67       50.00     50.00        200.00     97.87           0.00\n",
      "    3    0.950      -6.98      300.00    100.00          0.00      0.00           0.00\n",
      "      \n",
      "    Total                      350.00    150.00        342.71    167.57           0.00\n",
      "\n",
      "\n",
      "                           Line Flow and Losses \n",
      "\n",
      "     --Line--  Power at bus & line flow    --Line loss--  Transformer\n",
      "     from  to    MW      Mvar     MVA       MW      Mvar      tap\n",
      "   \n",
      "     1        142.708   69.698  212.406\n",
      "           2  -23.358    0.136   23.359    0.000    0.273\n",
      "           3  173.262   84.944  192.965    0.000   24.836\n",
      "   \n",
      "     2        144.593   47.870  192.463\n",
      "           1   23.358    0.136   23.359    0.000    0.273\n",
      "           3  126.576   58.072  139.261    0.000   19.394\n",
      "   \n",
      "     3       -287.301  -78.697  316.228\n",
      "           1 -173.262  -60.108  183.393    0.000   24.836\n",
      "           2 -126.576  -38.678  132.353    0.000   19.394\n",
      "   \n",
      "    Total loss                             0.000   44.503\n",
      "                   Power Flow Solution by Newton-Raphson Method\n",
      "                        Maximum Power Mismatch = 0.213034 \n",
      "                             No. of Iterations = 3 \n",
      "\n",
      "    Bus  Voltage    Angle       ------Load------        ---Generation---       Injected\n",
      "    No.  Mag.       Degree        MW       Mvar           MW       Mvar           Mvar \n",
      "                                                                                       \n",
      "    1    1.000       0.00        0.00      0.00        149.90     85.08           0.00\n",
      "    2    1.000       0.67       50.00     50.00        200.00    108.21           0.00\n",
      "    3    0.950      -6.99      300.00    100.00          0.00      0.00           0.00\n",
      "      \n",
      "    Total                      350.00    150.00        349.90    193.29           0.00\n",
      "\n",
      "\n",
      "                           Line Flow and Losses \n",
      "\n",
      "     --Line--  Power at bus & line flow    --Line loss--  Transformer\n",
      "     from  to    MW      Mvar     MVA       MW      Mvar      tap\n",
      "   \n",
      "     1        149.904   85.080  234.984\n",
      "           2  -23.362    0.136   23.363    0.000    0.273\n",
      "           3  173.362   85.748  193.409    0.000   24.951\n",
      "   \n",
      "     2        149.934   58.208  208.142\n",
      "           1   23.362    0.136   23.363    0.000    0.273\n",
      "           3  126.638   58.609  139.543    0.000   19.472\n",
      "   \n",
      "     3       -299.838  -98.786  316.228\n",
      "           1 -173.362  -60.798  183.714    0.000   24.951\n",
      "           2 -126.638  -39.137  132.547    0.000   19.472\n",
      "   \n",
      "    Total loss                             0.000   44.696\n"
     ]
    }
   ],
   "source": [
    "% Newton_Raphson iterations\n",
    "basemva = 100;\n",
    "\n",
    "%             Line code\n",
    "%         Bus bus   R      X      1/2 B     = 1 for lines  \n",
    "%         nl  nr   p.u.   p.u.    p.u.      > 1 or < 1 tr. tap at bus nl       \n",
    "linedata=[1   2    0.0    0.05     0.0         1        \n",
    "          1   3    0.0    0.0667   0.0         1        \n",
    "          2   3    0.0    0.1      0.0         1];\n",
    "          \n",
    "%        Bus Bus  Voltage Angle   ---Load---- --Generator-- Injected \n",
    "%        No  code Mag.    Degree   MW   Mvar    MW  Mvar    Mvar\n",
    "busdata=[1   1    1.00    0.0      0      0      0    0      0      \n",
    "         2   2    1.00    0.0     50     50     200   0      0     \n",
    "         3   0    1.00    0.0     300    100     0    0      0 ];\n",
    "         \n",
    "Vm=0; delta=0; yload=0; deltad=0;\n",
    "nbus = length(busdata(:,1));\n",
    "kb=[];Vm=[]; delta=[]; V=[]; \n",
    "Pg = zeros(nbus,1); Pd = zeros(nbus,1); Qg = zeros(nbus,1); Qd = zeros(nbus,1);\n",
    "Psp = zeros(nbus,1); Qsp = zeros(nbus,1); Qsh = zeros(nbus,1);\n",
    "S = zeros(nbus,1);\n",
    "\n",
    "for k=1:nbus\n",
    "n=busdata(k,1); kb(n)=busdata(k,2); Vm(n)=busdata(k,3); delta(n)=busdata(k, 4);\n",
    "Pd(n)=busdata(k,5); Qd(n)=busdata(k,6); Pg(n)=busdata(k,7); Qg(n) = busdata(k,8);\n",
    "     delta(n) = pi/180*delta(n); \n",
    "     Psp(n)=(Pg(n)-Pd(n))/basemva; % (4)\n",
    "     Qsp(n)=(Qg(n)-Qd(n))/basemva; % (5)\n",
    "     S(n) = Psp(n) + j*Qsp(n); % (6)\n",
    "end\n",
    "\n",
    "nl = linedata(:,1);  %line from bus \n",
    "nr = linedata(:,2);  %line to bus\n",
    "R = linedata(:,3);   %line resistance\n",
    "X = linedata(:,4);   %line reactance\n",
    "Bc = j*linedata(:,5);\n",
    "a = linedata(:, 6);\n",
    "nbr=length(linedata(:,1));   %number of branch\n",
    "G=[];B=[];\n",
    "\n",
    "%the impedance of line \n",
    "Z = R + j*X;  %(10) \n",
    "%the admittance of line\n",
    "y= ones(nbr,1)./Z; %(11) \n",
    "\n",
    "for n = 1:nbr\n",
    "    Ybus=zeros(nbus,nbus);  % initialize Ybus to zeros\n",
    "    % formation of the off diagonal elements\n",
    "    for k=1:nbr\n",
    "       Ybus(nl(k),nr(k))=Ybus(nl(k),nr(k))-y(k); %(9)\n",
    "       Ybus(nr(k),nl(k))=Ybus(nl(k),nr(k));\n",
    "    end\n",
    "end\n",
    "% formation of the diagonal elements\n",
    "for  n=1:nbus\n",
    "     for k=1:nbr\n",
    "         if nl(k)==n\n",
    "         Ybus(n,n) = Ybus(n,n)+y(k); %(8)\n",
    "         elseif nr(k)==n\n",
    "         Ybus(n,n) = Ybus(n,n)+y(k); %(8)\n",
    "         else, end\n",
    "     end\n",
    "end\n",
    "\n",
    "G = real(Ybus);                % Conductance matrix..\n",
    "B = imag(Ybus);                % Susceptance matrix..\n",
    "\n",
    "nPV = 0;\n",
    "nPQ = 0;\n",
    "\n",
    "for k = 1:nbus                       \n",
    "   if kb(k)==2          % PV bus\n",
    "        nPV = nPV+1;end\n",
    "   if kb(k)==0\n",
    "        nPQ = nPQ+1;end % PQ bus\n",
    "end\n",
    "\n",
    "pv = find(kb == 2 | kb == 1);   % PV Buses..\n",
    "pq = find(kb == 0);             % PQ Buses..\n",
    "\n",
    "Tol = 1;\n",
    "Iter = 0;\n",
    "while (Tol >=0.001 && Iter<3)   % Iteration starting.. (16)\n",
    "Iter = Iter +1;\n",
    "P = zeros(nbus,1);Q = zeros(nbus,1); % Calculate P and Q\n",
    "\n",
    "for k = 1:nbus\n",
    "    for m = 1:nbus\n",
    "            P(k) = P(k) + Vm(k)*Vm(m)*(G(k,m)*cos(delta(k)-delta(m)) + B(k,m)*sin(delta(k)-delta(m))); % (13)\n",
    "            Q(k) = Q(k) + Vm(k)*Vm(m)*(G(k,m)*sin(delta(k)-delta(m)) - B(k,m)*cos(delta(k)-delta(m))); % (14)    \n",
    "    end\n",
    "end\n",
    "\n",
    "dPa = Psp-P; %(13)\n",
    "dQa = Qsp-Q; %(14)\n",
    "\n",
    "k = 1;\n",
    "dQ = zeros(nPQ,1);\n",
    "for i = 1:nbus\n",
    "    if kb(i) == 0\n",
    "        dQ(k,1) = dQa(i);\n",
    "        k = k+1;\n",
    "    end\n",
    "end   \n",
    "\n",
    "dP = dPa(2:nbus);\n",
    "dQ;\n",
    "\n",
    "% Mismatch Vector\n",
    "M = [dP; dQ];   % (17)    \n",
    "\n",
    "clear H N J L                                    \n",
    "H = zeros(nbus-1,nbus-1);\n",
    "N = zeros(nbus-1,nPQ);\n",
    "J = zeros(nPQ,nbus-1);\n",
    "L = zeros(nPQ,nPQ);\n",
    "\n",
    "for i = 1:(nbus-1)\n",
    "    k = i+1;\n",
    "    for j = 1:(nbus-1)\n",
    "        m = j+1;\n",
    "        if k == m\n",
    "            for m = 1:nbus\n",
    "                H(i,j) = H(i,j) + Vm(k)*Vm(m)*(G(k,m)*sin(delta(k)-delta(m)) - B(k,m)*cos(delta(k)-delta(m))); % (20)\n",
    "            end\n",
    "            H(i,j) =(Vm(k)^2)*B(k,k)+ H(i,j); % (19) \n",
    "        else\n",
    "            H(i,j) = -Vm(k)*Vm(m)*(G(k,m)*sin(delta(k)-delta(m)) - B(k,m)*cos(delta(k)-delta(m))); %(21)\n",
    "        end\n",
    "    end\n",
    "end\n",
    "\n",
    "for i = 1:(nbus-1)\n",
    "        k = i+1;\n",
    "        for j = 1:nPQ\n",
    "            m = pq(j);\n",
    "            if k == m\n",
    "                for m = 1:nbus\n",
    "                    N(i,j) = N(i,j) + Vm(m)*(G(k,m)*cos(delta(k)-delta(m)) + B(k,m)*sin(delta(k)-delta(m))); % (23)                 \n",
    "                end\n",
    "                N(i,j) =- Vm(k)*G(k,k)- N(i,j); % (22)\n",
    "            else\n",
    "                N(i,j) = -Vm(k)*(G(k,m)*cos(delta(k)-delta(m)) + B(k,m)*sin(delta(k)-delta(m))); % (24)\n",
    "            end\n",
    "        end\n",
    "    end\n",
    "    \n",
    "    for i = 1:nPQ\n",
    "    k = pq(i);\n",
    "    for j = 1:(nbus-1)\n",
    "        m = j+1;\n",
    "        if k == m\n",
    "            for m = 1:nbus\n",
    "                J(i,j) = J(i,j) + Vm(k)*Vm(m)*(G(k,m)*cos(delta(k)-delta(m)) + B(k,m)*sin(delta(k)-delta(m))); %(26)\n",
    "            end\n",
    "                J(i,j) =(Vm(k)^2)*G(k,k)-J(i,j); %(25)\n",
    "            else\n",
    "                J(i,j) = Vm(k)* Vm(m)*(G(k,m)*cos(delta(k)-delta(m)) + B(k,m)*sin(delta(k)-delta(m))); %(27)\n",
    "        end\n",
    "    end\n",
    "end\n",
    "\n",
    "for i = 1:nPQ\n",
    "        k = pq(i);\n",
    "        for j = 1:nPQ\n",
    "            m = pq(j);\n",
    "            if k == m\n",
    "                for k = 1:nbus\n",
    "                    L(i,j) = L(i,j) + Vm(m)*(G(k,m)*sin(delta(k)-delta(m)) - B(k,m)*cos(delta(k)-delta(m))); % (29)\n",
    "                end\n",
    "                L(i,j) = Vm(k)*B(k,k)-L(i,j); % (28)\n",
    "            else\n",
    "                L(i,j) = -Vm(k)*(G(k,m)*sin(delta(k)-delta(m)) - B(k,m)*cos(delta(k)-delta(m))); % (30)\n",
    "            end\n",
    "        end\n",
    " end\n",
    " \n",
    "  Jac = -[H   N; J   L]; % Jacobian matrix\n",
    "  \n",
    "  % Correction Vector\n",
    "X = inv(Jac)*M;     % (31)      \n",
    "\n",
    "dTh = X(1:nbus-1);     % Change in Voltage Angle..\n",
    "dV = X(nbus:end);       % Change in Voltage Magnitude..\n",
    "\n",
    "% Updating State Vectors..\n",
    "% Voltage Angle..\n",
    "delta(2:nbus) = dTh + delta(2:nbus)';    % (32)\n",
    "\n",
    "% Voltage Magnitude..\n",
    "k = 1;\n",
    "for i = 2:nbus\n",
    "    if kb(i) == 0\n",
    "        Vm(i) = dV(k) + Vm(i);        % (33)\n",
    "        k = k+1;\n",
    "        end\n",
    "    end\n",
    "    \n",
    "deltad=180/pi*delta; % (34)\n",
    "\n",
    "k=0;\n",
    "for n = 1:nbus\n",
    "     if kb(n) == 1\n",
    "     k=k+1;\n",
    "     S(n)= P(n)+j*Q(n);\n",
    "     Pg(n) = P(n)*basemva + Pd(n);\n",
    "     Qg(n) = Q(n)*basemva + Qd(n);\n",
    "     elseif  kb(n) ==2\n",
    "     k=k+1;\n",
    "     S(n)=P(n)+j*Q(n);\n",
    "     Qg(n) = Q(n)*basemva + Qd(n);\n",
    "  end\n",
    "yload(n) = (Pd(n)- j*Qd(n))/(basemva*Vm(n)^2);\n",
    "end\n",
    "\n",
    "Busout\n",
    "Lineflow\n",
    "\n",
    "% Tolerance..\n",
    "Tol = max(abs(M)); \n",
    "end"
   ]
  },
  {
   "cell_type": "markdown",
   "metadata": {},
   "source": [
    "### Βιβλιογραφία\n",
    ">* Παπαδιά, Β. Ανάλυση Συστήματος Ηλεκτρικής Ενέργειας: Μόνιμη Κατάσταση Λειτουργίας ( Τόμος 1), Αθήνα 1985, Εκδόσεις ΕΜΠ\n",
    "* Βουρνά, Κ., Κονταξή, Γ. Εισαγωγή στα Συστήματα Ηλεκτρικής Ενέργειας, Αθήνα 2001\n",
    "* Γεωργιλάκης, Π. Σύγχρονα Συστήματα Μεταφοράς και ∆ιανομής Ηλεκτρικής Ενέργειας. Ηλεκτρονικό Βιβλίο, Σύνδεσμος Ελληνικών Ακαδημαϊκών Βιβλιοθηκών (ΣΕΑΒ), Αθήνα, 2015. ISBN: 978-960-603-038-3"
   ]
  },
  {
   "cell_type": "code",
   "execution_count": null,
   "metadata": {},
   "outputs": [],
   "source": []
  }
 ],
 "metadata": {
  "kernelspec": {
   "display_name": "Matlab",
   "language": "matlab",
   "name": "matlab"
  },
  "language_info": {
   "codemirror_mode": "octave",
   "file_extension": ".m",
   "help_links": [
    {
     "text": "MetaKernel Magics",
     "url": "https://github.com/calysto/metakernel/blob/master/metakernel/magics/README.md"
    }
   ],
   "mimetype": "text/x-octave",
   "name": "matlab",
   "version": "0.16.1"
  }
 },
 "nbformat": 4,
 "nbformat_minor": 2
}
