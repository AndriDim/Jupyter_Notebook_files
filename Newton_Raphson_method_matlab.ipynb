{
 "cells": [
  {
   "cell_type": "markdown",
   "metadata": {
    "solution": "hidden"
   },
   "source": [
    "<h1><center>Ανάλυση Συστημάτων Ηλεκτρικής Ενέργειας - Μόνιμη Κατάσταση Λειτουργίας</center></h1>\n",
    "\n",
    "<h1><center> ΡΟΗ ΦΟΡΤΙΟΥ</center></h1>\n",
    "\n",
    "<center> <img src=\"https://i.ibb.co/879pWFg/line-diagram-image.png\" alt=\"line-diagram-image\" border=\"0\" /></center>\n",
    "<h4><center> Σχήμα 1: Σύστημα τεσσάρων ζυγών</center></h4>\n",
    "\n",
    "Για το σύστημα ηλεκτρικής ενέργειας με την τοπολογία του παραπάνω σχήματος δίνονται τα ακόλουθα δεδομένα:\n",
    "\n",
    "1. Επαγωγικές αντιδράσεις των γραμμών μεταφοράς: $Z_{AB(1)} =  Z_{AB(2)} = j0,2$ α.μ.,$ Z_{CD} = j0,1$ α.μ.,$ Z_{DA} = Z_{BC} = j0,2$ α.μ.  \n",
    "\n",
    "2. Στοιχεία ζυγών:\n",
    "\n",
    "    * A: Τάση ${V_{A} = 1,0}$ α.μ.\n",
    "    * B: Παραγωγή ${P_{B} = 0,3}$ α.μ.,Tάση $V_{Β} = 1,0$ α.μ\n",
    "    * C: Φορτίο ${P_{C} = 0,3}$ α.μ.,${Q_{B} = 0,05}$ α.μ.\n",
    "    * D: Φορτίο ${P_{D} = 0,4}$ α.μ.,$ {Q_{D} = 0,1}$ α.μ.\n",
    "\n"
   ]
  },
  {
   "cell_type": "markdown",
   "metadata": {},
   "source": [
    "#### Δεδομένα εισόδου\n",
    "Παρακάτω δίνονται δύο πίνακες για την εισαγωγή των δεδομένων του συστήματος.\n",
    "<br>Δεδομένα των ζυγών:\n",
    "* Η 1η στήλη είναι για την αρίθμηση ζυγών.\n",
    "* Η 2η για τον χαρακτηρισμό των ζυγών (**0 για τους PQ, 2 για τους PV, 1 για τον ζυγό ταλάντωσης**).\n",
    "* Η 3η για τις τιμές των τάσεων (α.μ.) κάθε ζυγού (εάν δεν δίνονται χρησιμοποιείται η τιμή $V=1$).\n",
    "* Η 4η για τις τιμές των γωνιών (σε μοίρες-degree) κάθε ζυγού (εάν δε δίνονται χρησιμοποιείται η τιμή $θ=0$).\n",
    "* Η 5η στήλη αφορά τη ζήτηση ενεργού ισχύος για ένα ζυγό (ΜW).\n",
    "* Η 6η τη ζήτηση αέργου ισχύος (MVar).\n",
    "* Η 7η την παραγόμενη ενεργό ισχύ στον ζυγό που εξετάζεται (MW).\n",
    "* Η 8η την παραγόμενη άεργο ισχύ (MVar).\n",
    "* Η 9η στήλη δηλώνει για τις γεννήτριες (ζυγούς) τα ελάχιστα όρια αέργου ισχύος (MVar).\n",
    "* Η 10η τα μέγιστα όρια αέργου ισχύος αντίστοιχα (MVar).\n",
    "* Η 11η στήλη χρησιμοποιείται για τα δεδομένα αντιστάθμισης αέργου ισχύος με πυκνωτές, δηλώνοντας την έγχυση αέργου ισχύος στον αντίστοιχο ζυγό (ΜVar)."
   ]
  },
  {
   "cell_type": "code",
   "execution_count": 1,
   "metadata": {},
   "outputs": [],
   "source": [
    "%        Bus Bus  Voltage Angle   ---Load----  -------Generator-----  Injected\n",
    "%        No  code Mag.    Degree   MW   Mvar    MW  Mvar  Qmin  Qmax    Mvar\n",
    "busdata=[1   1    1.00    0.0      0      0      0    0    0      0      0\n",
    "         2   2    1.05    0.0      0      0     30    0    0    500      0\n",
    "         3   0    1.00    0.0     30      5      0    0    0    500      0\n",
    "         4   0    1.00    0.0     40     10      0    0    0      0      0];"
   ]
  },
  {
   "cell_type": "markdown",
   "metadata": {},
   "source": [
    "Δεδομένα των γραμμών μεταφοράς και μετασχηματιστών:\n",
    "* Η 1η και 2η στήλη δηλώνουν τις συνδέσεις που υπάρχουν μεταξύ των ζυγών.\n",
    "* Η 3η στήλη αναφέρεται στην αντίσταση (α.μ.) κάθε γραμμής\n",
    "* Η 4η στην αντίδραση (α.μ.) κάθε γραμμής\n",
    "* Η 5η στο ήμισυ της συνολικής εγκάρσιας χωρητικότητάς της (α.μ.), δηλαδη χρησιμοποιείται το ισοδύναμο μοντέλο Π.\n",
    "* Η 6η στήλη αναφέρεται σε γραμμή με μετασχηματιστές ισχύος που έχουν μεταβολή της σχέσης μετασχηματισμού (συνήθως θεωρούνται ονομαστικές λήψεις με $t=1$)."
   ]
  },
  {
   "cell_type": "code",
   "execution_count": 2,
   "metadata": {},
   "outputs": [],
   "source": [
    "%                              Line code\n",
    "%         Bus bus   R      X      1/2 B     = 1 for lines\n",
    "%         nl  nr   p.u.   p.u.    p.u.      > 1 or < 1 tr. tap at bus nl\n",
    "linedata=[1   2    0.0    0.1     0.0         1\n",
    "          1   4    0.0    0.2     0.0         1\n",
    "          2   3    0.0    0.2     0.0         1\n",
    "          3   4    0.0    0.1     0.0         1];"
   ]
  },
  {
   "cell_type": "markdown",
   "metadata": {},
   "source": [
    ">#### Έγχυση πραγματικής και αέργου ισχύος  \n",
    "><br>Καθορισμός της βάσης ισχύος σε MVA, $S_{base}=100$ \n",
    ">```python \n",
    ">(basemva = 100)\n",
    ">```\n",
    "> Γίνεται το ισοζύγιο ισχύος για κάθε ζυγό $k$ ξεχωριστά και υπολογίζονται οι ανά μονάδα τιμές της έγχυσης ενεργού και αέργου ισχύος από τις σχέσεις:\n",
    ">$$P_{sp,k} = \\frac{P_{G,k} -P_{D,k}}{S_{base}}\\quad (4)$$\n",
    ">$$Q_{sp,k} = \\frac{Q_{G,k} -Q_{D,k}}{S_{base}}\\quad (5) $$\n",
    "Οι μιγαδικές ισχείς εκφράζονται ως:\n",
    ">$$S = P_{sp,k} + jQ_{sp,k}\\quad (6)$$"
   ]
  },
  {
   "cell_type": "code",
   "execution_count": 3,
   "metadata": {},
   "outputs": [
    {
     "name": "stdout",
     "output_type": "stream",
     "text": [
      "Psp =\n",
      "\n",
      "   0.00000\n",
      "   0.30000\n",
      "  -0.30000\n",
      "  -0.40000\n",
      "\n",
      "Qsp =\n",
      "\n",
      "   0.00000\n",
      "   0.00000\n",
      "  -0.05000\n",
      "  -0.10000\n",
      "\n",
      "S =\n",
      "\n",
      "   0.00000 + 0.00000i\n",
      "   0.30000 + 0.00000i\n",
      "  -0.30000 - 0.05000i\n",
      "  -0.40000 - 0.10000i\n",
      "\n"
     ]
    }
   ],
   "source": [
    "basemva = 100;\n",
    "Vm=0; delta=0; yload=0; deltad=0;\n",
    "nbus = length(busdata(:,1));\n",
    "kb=[];Vm=[]; delta=[]; V=[];\n",
    "Pg = zeros(nbus,1); Pd = zeros(nbus,1); Qg = zeros(nbus,1); Qd = zeros(nbus,1);\n",
    "Psp = zeros(nbus,1); Qsp = zeros(nbus,1); Qsh = zeros(nbus,1);\n",
    "S = zeros(nbus,1);\n",
    "\n",
    "for k=1:nbus\n",
    "n=busdata(k,1); kb(n)=busdata(k,2); Vm(n)=busdata(k,3); delta(n)=busdata(k, 4);\n",
    "Pd(n)=busdata(k,5); Qd(n)=busdata(k,6); Pg(n)=busdata(k,7); Qg(n) = busdata(k,8);\n",
    "     Psp(n)=(Pg(n)-Pd(n))/basemva; % (4)\n",
    "     Qsp(n)=(Qg(n)-Qd(n))/basemva; % (5)\n",
    "     S(n) = Psp(n) + j*Qsp(n);     % (6)\n",
    "end\n",
    "\n",
    "Psp\n",
    "Qsp\n",
    "S"
   ]
  },
  {
   "cell_type": "markdown",
   "metadata": {},
   "source": [
    ">Μετατροπή γωνιών από μοίρες σε ακτίνια:\n",
    "$$ (rad)= \\frac{\\pi}{180^\\circ}\\cdot δ^\\circ \\quad (7)$$"
   ]
  },
  {
   "cell_type": "code",
   "execution_count": 4,
   "metadata": {},
   "outputs": [
    {
     "name": "stdout",
     "output_type": "stream",
     "text": [
      "delta =\r\n",
      "\r\n",
      "   0   0   0   0\r\n",
      "\r\n"
     ]
    }
   ],
   "source": [
    "for n=1:nbus\n",
    "    delta(n) = pi/180*delta(n); % (7)\n",
    "end\n",
    "delta"
   ]
  },
  {
   "cell_type": "markdown",
   "metadata": {},
   "source": [
    "### Υπολογισμός του πίνακα αγωγιμοτήτων του συστήματος\n",
    "* Αρχικά όλες οι σύνθετες αντιστάσεις μετατρέπονται σε σύνθετες αγωγιμότητες από τη σχέση $(9)$:\n",
    "$${Z_{km} = R_{km} + jX_{km}} \\quad (8)$$\n",
    "$${y_{km} = \\frac{1}{Z_{km}}} \\quad (9)$$\n",
    "* και στη συνέχεια υπολογίζονται τα διαγώνια και τα μη διαγώνια στοιχεία του πίνακα αγωγιμοτήτων από τις παρακάάτω σχέσεις.\n",
    "$$\\boxed{\n",
    "\\!\\begin{aligned}{Y_{kk}= {y}_{k}+\\sum_{m\\in A(k)}({y}_{skm}+{y}_{km})\\quad (10) \\\\ Y_{km}=-{y}_{km}\\quad (11)}\n",
    "\\end{aligned}\n",
    "}$$\n",
    "Ο πίνακας αγωγιμοτήτων έχει μέγεθος $(nxn)$ όπου $n$ ο αριθμός των ζυγών του συστήματος που εξετάζουμε.\n",
    "\n",
    "Στo παράδειγμα αυτόό ο πίνακας αγωγιμοτήτων έχει μέγεθος $(4x4)$.\n",
    "\n",
    "$$Y_{bus} = \\begin{bmatrix} Y_{11} & Y_{12} & Y_{13} & Y_{14}\\\\ Y_{21} & Y_{22} & Y_{23} & Y_{24}\\\\ Y_{31} & Y_{32} & Y_{33} & Y_{34}\\\\ Y_{41} & Y_{42} & Y_{43} & Y_{44} \\end{bmatrix}$$ "
   ]
  },
  {
   "cell_type": "code",
   "execution_count": 5,
   "metadata": {
    "code_folding": []
   },
   "outputs": [
    {
     "name": "stdout",
     "output_type": "stream",
     "text": [
      "Z =\n",
      "\n",
      "   0.00000 + 0.10000i\n",
      "   0.00000 + 0.20000i\n",
      "   0.00000 + 0.20000i\n",
      "   0.00000 + 0.10000i\n",
      "\n",
      "y =\n",
      "\n",
      "    0 - 10i\n",
      "    0 -  5i\n",
      "    0 -  5i\n",
      "    0 - 10i\n",
      "\n",
      "Ybus =\n",
      "\n",
      "    0 - 15i    0 + 10i    0 +  0i    0 +  5i\n",
      "    0 + 10i    0 - 15i    0 +  5i    0 +  0i\n",
      "    0 +  0i    0 +  5i    0 - 15i    0 + 10i\n",
      "    0 +  5i    0 +  0i    0 + 10i    0 - 15i\n",
      "\n"
     ]
    }
   ],
   "source": [
    "j=sqrt(-1);\n",
    "nl = linedata(:,1);  %line from bus\n",
    "nr = linedata(:,2);  %line to bus\n",
    "R = linedata(:,3);   %line resistance\n",
    "X = linedata(:,4);   %line reactance\n",
    "Bc = j*linedata(:,5);  % the admittance of branch to ground\n",
    "a = linedata(:, 6);  % the tap ratio of transformer\n",
    "nbr=length(linedata(:,1));   %number of branch\n",
    "nbus = max(max(nl), max(nr)); %number of bus\n",
    "G=[];B=[];\n",
    "\n",
    "%the impedance of line\n",
    "Z = R + j*X       %(8)\n",
    "%the admittance of line\n",
    "y= ones(nbr,1)./Z %(9)\n",
    "\n",
    "for n = 1:nbr\n",
    "    Ybus=zeros(nbus,nbus);  % initialize Ybus to zeros\n",
    "    % formation of the off diagonal elements\n",
    "    for k=1:nbr\n",
    "       Ybus(nl(k),nr(k))=Ybus(nl(k),nr(k))-y(k); %(11)\n",
    "       Ybus(nr(k),nl(k))=Ybus(nl(k),nr(k));\n",
    "    end\n",
    "end\n",
    "% formation of the diagonal elements\n",
    "for  n=1:nbus\n",
    "     for k=1:nbr\n",
    "         if nl(k)==n\n",
    "         Ybus(n,n) = Ybus(n,n)+y(k); %(10)\n",
    "         elseif nr(k)==n\n",
    "         Ybus(n,n) = Ybus(n,n)+y(k); %(10)\n",
    "         else, end\n",
    "     end\n",
    "end\n",
    "\n",
    "Ybus"
   ]
  },
  {
   "cell_type": "markdown",
   "metadata": {},
   "source": [
    "Ο πίνακας αγωγιμοτήτων σε καρτεσιανή μορφή γράφεται:\n",
    "$$Y_{km}=G_{km} +jB_{km} \\quad (12)$$"
   ]
  },
  {
   "cell_type": "code",
   "execution_count": 6,
   "metadata": {},
   "outputs": [
    {
     "name": "stdout",
     "output_type": "stream",
     "text": [
      "G =\n",
      "\n",
      "   0   0   0   0\n",
      "   0   0   0   0\n",
      "   0   0   0   0\n",
      "   0   0   0   0\n",
      "\n",
      "B =\n",
      "\n",
      "  -15   10    0    5\n",
      "   10  -15    5    0\n",
      "    0    5  -15   10\n",
      "    5    0   10  -15\n",
      "\n"
     ]
    }
   ],
   "source": [
    "G = real(Ybus)                % Conductance matrix..\n",
    "B = imag(Ybus)                % Susceptance matrix.."
   ]
  },
  {
   "cell_type": "markdown",
   "metadata": {},
   "source": [
    "### Χαρακτηρισμός ζυγών του συστήματος\n",
    "\n",
    "#### Τύποι ζυγών ροής φορτίου\n",
    "\n",
    "| Τύπος ζυγού           | Γνωστές μεταβλητές    | Άγνωστες μεταβλητές |\n",
    "| --------------------- | --------------------- | ------------------- |\n",
    "| Ταλάντωσης ή αναφοράς | $V=1$α.μ.,$δ=0^\\circ$ | $P_{G}$,$Q_{G}$     |\n",
    "| Ζυγoί παραγωγής (PV)  | $P_{G}$,${V}$         | $Q_{G}$,$δ$         |\n",
    "| Ζυγοί φορτίου (PQ)    | $P_{D}$,$Q_{D}$       | $V$, $δ$            |\n",
    "\n",
    "Στο παράδειγμα είναι:\n",
    "\n",
    "- **Ζυγός A**: Ζυγός ταλάντωσης (sluck bus). Θεωρούμε ότι η τάση του είναι σταθερή κατά μέτρο και γωνία $V_{1}=1\\angle 0^\\circ $ α.μ..\n",
    "- **Ζυγός B**: Ζυγός παραγωγής (PV), αφού είναι γνωστά η παραγόμενη ενεργός ισχύς $P_{B_{G}}=0,3$α.μ. και το μέτρο της τάσης $V_{Β}=1$ α.μ.\n",
    "- **Ζυγός C**: Ζυγός φορτίου (PQ), αφού είναι γνωστές οι ισχείς φορτίου $P_{C_{D}}=0,3$α.μ., $Q_{C_{D}}=0,05$α.μ.\n",
    "- **Ζυγός D**: Ζυγός φορτίου (PQ), αφού είναι γνωστές οι ισχείς φορτίου $P_{D_{D}}=0,4$α.μ., $Q_{D_{D}}=0,1$α.μ.\n",
    "\n",
    "<br>Στο παρακάτω τμήμα κώδικα η μεταβλητή $nPV$ εμφανίζει το πλήθος των ζυγών PV του προβλήματος, ενώ η μεταβλητή $nPQ$ εμφανίζει το πλήθος των ζυγών PQ. Οι συναρτήσεις sl, pv και pq βρίσκουν το ζυγό ταλάντωσης και τους ζυγούς PV και PQ αντίστοιχα."
   ]
  },
  {
   "cell_type": "code",
   "execution_count": 7,
   "metadata": {
    "code_folding": []
   },
   "outputs": [
    {
     "name": "stdout",
     "output_type": "stream",
     "text": [
      "nPV =  1\n",
      "nPQ =  2\n",
      "sl =  1\n",
      "pv =  2\n",
      "pq =\n",
      "\n",
      "   3   4\n",
      "\n"
     ]
    }
   ],
   "source": [
    "nPV = 0;\n",
    "nPQ = 0;\n",
    "\n",
    "for k = 1:nbus\n",
    "   if kb(k)==2          % PV bus\n",
    "        nPV = nPV+1;end\n",
    "   if kb(k)==0\n",
    "        nPQ = nPQ+1;end % PQ bus\n",
    "end\n",
    "nPV\n",
    "nPQ\n",
    "\n",
    "sl = find(kb == 1)   % slack bus\n",
    "pv = find(kb == 2)   % PV Buses..\n",
    "pq = find(kb == 0)   % PQ Buses.."
   ]
  },
  {
   "cell_type": "markdown",
   "metadata": {},
   "source": [
    "### Δεδομένα και ζητούμενα\n",
    "#### Το διάνυσμα κατάστασης\n",
    "Θεωρούμε ότι $n$ είναι ο συνολικός αριθμός των ζυγών του συστήματος και $m$ ο αριθμός των ζυγών φορτίου PQ. \n",
    "<br>Γενικά για $n$ ζυγούς έχουμε $2n$ αγνώστους. \n",
    "<br>Δεδομένου ότι η τάση στο ζυγό ταλάντωσης είναι γνωστή κατά μέτρο και γωνία, ενώ τα μέτρα των τάσεων είναι γνωστά στους ζυγούς παραγωγής, οι μεταβλητές που πρέπει να προσδιοριστούν για να περιγραφεί πλήρως η κατάσταση λειτουργίας του συστήματος είναι οι ακόλουθες:\n",
    "* οι φασικές γωνίες τάσεων όλων των ζυγών εκτός από το ζυγό ταλάντωσης\n",
    "* τα μέτρα τάσεων όλων των ζυγών φορτίου.\n",
    "\n",
    ">Οι μεταβλητές αυτές αποτελούν το διάνυσμα κατάστασης $Χ = \\begin{bmatrix} δ_2\\\\...\\\\δ_n\\\\V_{n-m+1}\\\\ ... \\\\ V_{n} \\end{bmatrix} $ με διάσταση $n-1+m$. \n",
    "<br>Άρα για την εύρεση των αγνώστων χρειάζονται $n-1+m$ ανεξάρτητες εξισώσεις.\n",
    "* $n-1$ εξισώσεις πραγματικής ισχύος (για ζυγούς PV και PQ):\n",
    "$$\\boxed{ΔP_k^{(n)}=P_{sp,k}- V_{k}^{(n)}\\cdot \\sum_{m\\in A(k)}{ V_{m}^{(n)}\\cdot[G_{km}\\cdot cos(δ_{k}^{(n)} - δ_{m}^{(n)}) + B_{km}\\cdot sin( δ_{k}^{(n)} - δ_{m}^{(n)})]}}\\quad (13)$$\n",
    "* $m$ εξισώσεις αέργου ισχύος (για ζυγούς PQ):\n",
    "$$\\boxed{ΔQ_k^{(n)}=Q_{sp,k} - V_{k}^{(n)}\\cdot \\sum_{m\\in A(k)}{ V_{m}^{(n)}\\cdot[G_{km}\\cdot sin(δ_{k}^{(n)} - δ_{m}^{(n)}) - B_{km}\\cdot cos( δ_{k}^{(n)} - δ_{m}^{(n)})]}}\\quad (14)$$\n",
    "\n",
    "\n",
    "Στο παράδειγμα αυτό γνωρίζουμε την τάση του ζυγού A κατά μέτρο και γωνία $V_{A}=1\\angle 0^\\circ $ α.μ. καθώς και το μέτρο της τάσης του ζυγού B, $V_{B}=1$ α.μ. \n",
    "<br>Επομένως οι άγνωστοι του προβλήματος είναι 5, οι γωνίες $δ_B$, $δ_C$, $δ_D$ και η τάσεις $V_C$, $V_D$.\n",
    "<br>To διάνυσμα κατάστασης λοιπόν έχει τη μορφή  $Χ = \\begin{bmatrix} δ_B\\\\δ_C\\\\δ_D\\\\V_C\\\\V_D \\end{bmatrix} $ και για να υπολογιστεί θα χρειαστούν τρεις εξισώσεις πραγματικής ($ΔP_{Α}$, $ΔP_{B}$, $ΔP_{C}$) και δύο εξισώσεις αέργου ισχύος ($ΔQ_{C}$, $ΔQ_{D}$).\n",
    "\n",
    "#### Επαναληπτική διαδικασία\n",
    "* Πριν ξεκινήσουν οι επαναλήψεις της μεθόδου Newton-Raphson θεωρείται μια ενιαία τιμή εκκίνησης για τις τάσεις όλων των ζυγών του δικτύου, που δεν έχουν καθορισμένη τιμή, στα $V=1\\angle 0^\\circ $ α.μ.\n",
    "* Χρησιμοποιώντας αυτή την αρχική εκτίμηση υπολογίζεται, με τη βοήθεια των εξισώσεων ροής φορτίου μια βελτιωμένη δεύτερη εκτίμηση η οποία χρησιμοποιείται για να βρεθεί μία τρίτη κ.ο.κ.\n",
    "* Οι επαναλήψεις συνεχίζονται μέχρι οι νέες τιμές των μεταβλητών του συστήματος να διαφέρουν από τις αρχικές πολύ λίγο, δηλαδή όταν ικανοποιούνται τα κριτήρια σύγκλισης. \n",
    "$$\\boxed{\n",
    "\\!\\begin{aligned}{|ΔP_{k}^{(n)}|\\leq ε\\\\ |ΔQ_{k}^{(n)}|\\leq ε}\n",
    "\\end{aligned}}\\quad (15)$$\n",
    "\n",
    "<br> Στο πρόγραμμα αυτό το κριτήριο είναι: $$|M^{(n)}|\\leq ε \\quad (16)$$ \n",
    "όπου $M$ το διάνυσμα διαφορών: $$Μ  = \\begin{bmatrix} ΔP\\\\ ΔQ \\end{bmatrix}\\quad (17)$$ και $ε$ η ακρίβεια των τελικών μεγεθών $$ε= 0.001$$\n",
    "<br> H επαναληπτική διαδικασία στο πρόγραμμα γίνεται με ένα while loop, το οποίο στην εισοδό του ελέγχει το κριτήριο σύγκλισης της σχέσης $(16)$. <br>Ωστόσο, για να εξηγήσουμε αναλυτικά την 1η επανάληψη, έχουμε χωρίσει τον κώδικα σε τμήματα και έχουμε βάλει τον έλεγχο σε σχόλιο, καθώς για να τρέξει επαναληπτικά πρέπει όλος ο κώδικας που περιέχεται στο while loop να βρίσκεται μέσα στο ίδιο κελί (cell).\n",
    "<br>Στο παρακάτω κομμάτι κώδικα υπολογίζονται οι επαναληπτικές εξισώσεις ροής φορτίου σε όλους τους ζυγούς του ΣΗΕ.\n",
    "<br>Από αυτές χρειαζόμαστε τις τρεις εξισώσεις πραγματικής ισχύος ($ΔP_{Α}$, $ΔP_{B}$, $ΔP_{C}$) , που αποθηκεύονται στο διάνυσμα dP και τις δύο εξίσωση αέργου ισχύος ($ΔQ_{C}$, $ΔQ_{D}$), που αποθηκεύονται στο διάνυσμα dQ.\n",
    "<br>Τα διανύσματα αυτά ενώνονται για να δημιουργηθεί το διάνυσμα διαφορών $Μ$ που έχει ίδιες διαστάσεις με το $Χ$."
   ]
  },
  {
   "cell_type": "code",
   "execution_count": 8,
   "metadata": {},
   "outputs": [
    {
     "name": "stdout",
     "output_type": "stream",
     "text": [
      "dP =\n",
      "\n",
      "   0.30000\n",
      "  -0.30000\n",
      "  -0.40000\n",
      "\n",
      "dQ =\n",
      "\n",
      "   0.20000\n",
      "  -0.10000\n",
      "\n",
      "M =\n",
      "\n",
      "   0.30000\n",
      "  -0.30000\n",
      "  -0.40000\n",
      "   0.20000\n",
      "  -0.10000\n",
      "\n"
     ]
    }
   ],
   "source": [
    "Tol = 1;\n",
    "Iter = 0;\n",
    "%while (Tol >=0.001)   % Iteration starting.. (16)\n",
    "Iter = Iter +1;\n",
    "P = zeros(nbus,1);Q = zeros(nbus,1); % Calculate P and Q\n",
    "\n",
    "for k = 1:nbus\n",
    "    for m = 1:nbus\n",
    "            P(k) = P(k) + Vm(k)*Vm(m)*(G(k,m)*cos(delta(k)-delta(m)) + B(k,m)*sin(delta(k)-delta(m))); % (13)\n",
    "            Q(k) = Q(k) + Vm(k)*Vm(m)*(G(k,m)*sin(delta(k)-delta(m)) - B(k,m)*cos(delta(k)-delta(m))); % (14)\n",
    "    end\n",
    "end\n",
    "\n",
    "dPa = Psp-P; %(13)\n",
    "dQa = Qsp-Q; %(14)\n",
    "\n",
    "k = 1;\n",
    "dQ = zeros(nPQ,1);\n",
    "for i = 1:nbus\n",
    "    if kb(i) == 0\n",
    "        dQ(k,1) = dQa(i);\n",
    "        k = k+1;\n",
    "    end\n",
    "end\n",
    "\n",
    "dP = dPa(2:nbus)\n",
    "dQ\n",
    "\n",
    "% Mismatch Vector\n",
    "M = [dP; dQ]   % (17)"
   ]
  },
  {
   "cell_type": "markdown",
   "metadata": {},
   "source": [
    "### 3. Υπολογισμός Ιακωβιανής μήτρας\n",
    "H Ιακωβιανή μήτρα έχει τη μορφή $$Jac =\\begin{bmatrix}\\begin{array}{c|c} H & N\\\\\\hline J & L \\end{array}\\end{bmatrix}\\quad (18)$$ \n",
    "* O υποπίνακας $Η$ έχει διαστάσεις $(n-1)x(n-1)$\n",
    "* Ο υποπίνακας $Ν$ έχει διαστάσεις $(n-1)xm$\n",
    "* Ο υποπίνακας $J$ έχει διαστάσεις $mx(n-1)$\n",
    "* O υποπίνακας $L$ έχει διαστάσεις $mxm$\n",
    "\n",
    "Στο παράδειγμα αυτό o υποπίνακας $Η$ έχει διαστάσεις $(3x3)$, ο $Ν\\rightarrow(3x2)$, ο $J\\rightarrow(2x3)$ και ο $L\\rightarrow(2x2)$\n",
    "  <br>Επομένως η Ιακωβιανή μήτρα έχει τη μορφή: $$Jac = \\begin{bmatrix}\\begin{array}{c c c|c c} {H_{22}} & {Η_{23}} & {H_{24}}& {N_{23}} & {N_{24}}\\\\ {H_{32}} & {H_{33}} & {H_{34}} & {N_{33}} & {N_{34}}\\\\{H_{42}} & {H_{43}} & {H_{44}} & {N_{43}} & {N_{44}}\\\\ \\hline{J_{32}} & {J_{33}} & {J_{34}} & {L_{33}} & {L_{34}}\\\\{J_{42}} & {J_{43}} & {J_{44}} & {L_{43}} & {L_{44}}\\end{array} \\end{bmatrix}$$"
   ]
  },
  {
   "cell_type": "code",
   "execution_count": 9,
   "metadata": {},
   "outputs": [],
   "source": [
    "clear H N J L\n",
    "H = zeros(nbus-1,nbus-1);\n",
    "N = zeros(nbus-1,nPQ);\n",
    "J = zeros(nPQ,nbus-1);\n",
    "L = zeros(nPQ,nPQ);"
   ]
  },
  {
   "cell_type": "markdown",
   "metadata": {},
   "source": [
    "Τα διαγώνια και μη διαγώνια στοιχεία του υποπίνακα $Η$ δίνονται από τις σχέσεις:\n",
    "<br>\n",
    "<br>\n",
    "$$\\boxed{\n",
    "\\!\\begin{aligned}{\n",
    "H_{kk} =\\frac{\\partial ΔP_k}{\\partial δ_k} = V_{k}^2\\cdot Β_{kk}+Q_{k}\\quad (19)\\\\\n",
    "όπου\\quad Q_{k}=  V_k\\cdot \\sum_{k \\not= m }{ V_m\\cdot [G_{km}\\cdot sin(δ_{k} - δ_{m}) - B_{km}\\cdot cos(δ_{k} - δ_{m})]} \\quad (20)\\\\\n",
    "H_{km}=\\frac{\\partial ΔP_k}{\\partial δ_m} = - V_k\\cdot V_m\\cdot [G_{km}\\cdot sin(δ_{k} - δ_{m}) - B_{km}\\cdot cos(δ_{k} - δ_{m})],   k \\not= m\\quad (21)}\n",
    "\\end{aligned}\n",
    "}$$"
   ]
  },
  {
   "cell_type": "code",
   "execution_count": 10,
   "metadata": {},
   "outputs": [
    {
     "name": "stdout",
     "output_type": "stream",
     "text": [
      "H =\r\n",
      "\r\n",
      "  -15.75000    5.25000   -0.00000\r\n",
      "    5.25000  -15.25000   10.00000\r\n",
      "   -0.00000   10.00000  -15.00000\r\n",
      "\r\n"
     ]
    }
   ],
   "source": [
    "for i = 1:(nbus-1)\n",
    "    k = i+1;\n",
    "    for j = 1:(nbus-1)\n",
    "        m = j+1;\n",
    "        if k == m\n",
    "            for m = 1:nbus\n",
    "                H(i,j) = H(i,j) + Vm(k)*Vm(m)*(G(k,m)*sin(delta(k)-delta(m)) - B(k,m)*cos(delta(k)-delta(m))); % (20)\n",
    "            end\n",
    "            H(i,j) =(Vm(k)^2)*B(k,k)+ H(i,j); % (19)\n",
    "        else\n",
    "            H(i,j) = -Vm(k)*Vm(m)*(G(k,m)*sin(delta(k)-delta(m)) - B(k,m)*cos(delta(k)-delta(m))); %(21)\n",
    "        end\n",
    "    end\n",
    "end\n",
    "\n",
    "H"
   ]
  },
  {
   "cell_type": "markdown",
   "metadata": {},
   "source": [
    "Τα διαγώνια και μη διαγώνια στοιχεία του υποπίνακα $N$ δίνονται από τις σχέσεις:\n",
    "<br>\n",
    "<br>\n",
    "$$\\boxed{\n",
    "\\!\\begin{aligned}{\n",
    "N_{kk} = \\frac{\\partial ΔP_k}{\\partial V_k}= - V_k \\cdot G_{kk}-\\frac{P_{k}}{V_{k}}\\quad (22)\\\\\n",
    "όπου\\quad \\frac{P_{k}}{V_{k}} = \\sum_{k \\not= m }{ V_m\\cdot [G_{km}\\cdot cos(δ_{k} - δ_{m}) + B_{km}\\cdot sin(δ_{k} - δ_{m})]}\\quad (23)\\\\\n",
    "N_{km}=\\frac{\\partial ΔP_k}{\\partial V_m} = - V_k\\cdot [G_{km}\\cdot cos(δ_{k} - δ_{m}) + B_{km}\\cdot sin(δ_{k} - δ_{m})], k \\not= m\\quad (24)}\n",
    "\\end{aligned}}$$\n"
   ]
  },
  {
   "cell_type": "code",
   "execution_count": 11,
   "metadata": {},
   "outputs": [
    {
     "name": "stdout",
     "output_type": "stream",
     "text": [
      "N =\r\n",
      "\r\n",
      "  -0  -0\r\n",
      "  -0  -0\r\n",
      "  -0  -0\r\n",
      "\r\n"
     ]
    }
   ],
   "source": [
    "for i = 1:(nbus-1)\n",
    "        k = i+1;\n",
    "        for j = 1:nPQ\n",
    "            m = pq(j);\n",
    "            if k == m\n",
    "                for m = 1:nbus\n",
    "                    N(i,j) = N(i,j) + Vm(m)*(G(k,m)*cos(delta(k)-delta(m)) + B(k,m)*sin(delta(k)-delta(m))); % (23)\n",
    "                end\n",
    "                N(i,j) =- Vm(k)*G(k,k)- N(i,j); % (22)\n",
    "            else\n",
    "                N(i,j) = -Vm(k)*(G(k,m)*cos(delta(k)-delta(m)) + B(k,m)*sin(delta(k)-delta(m))); % (24)\n",
    "            end\n",
    "        end\n",
    "    end\n",
    "N"
   ]
  },
  {
   "cell_type": "markdown",
   "metadata": {},
   "source": [
    "Τα διαγώνια και μη διαγώνια στοιχεία του υποπίνακα $J$ δίνονται από τις σχέσεις:\n",
    "<br>\n",
    "<br>\n",
    "$$\\boxed{\n",
    "\\!\\begin{aligned}{J_{kk}=\\frac{\\partial ΔQ_k}{\\partial δ_k} =  V_k^2\\cdot G_{kk} -P_{k} \\quad (25)\\\\\n",
    "όπου\\quad P_{k}=V_k\\cdot \\sum_{k \\not= m}{ V_m\\cdot [G_{km}\\cdot cos(δ_{k} - δ_{m}) + B_{km}\\cdot sin(δ_{k} - δ_{m})]} \\quad (26)\\\\\n",
    "J_{km}=\\frac{\\partial ΔQ_k}{\\partial δ_m} =  V_k\\cdot V_m\\cdot [G_{km}\\cdot cos(δ_{k} - δ_{m}) - B_{km}\\cdot sin(δ_{k} - δ_{m})], k \\not= m\\quad (27)}\n",
    "\\end{aligned}}$$"
   ]
  },
  {
   "cell_type": "code",
   "execution_count": 12,
   "metadata": {},
   "outputs": [
    {
     "name": "stdout",
     "output_type": "stream",
     "text": [
      "J =\r\n",
      "\r\n",
      "   0   0   0\r\n",
      "   0   0   0\r\n",
      "\r\n"
     ]
    }
   ],
   "source": [
    "for i = 1:nPQ\n",
    "    k = pq(i);\n",
    "    for j = 1:(nbus-1)\n",
    "        m = j+1;\n",
    "        if k == m\n",
    "            for m = 1:nbus\n",
    "                J(i,j) = J(i,j) + Vm(k)*Vm(m)*(G(k,m)*cos(delta(k)-delta(m)) + B(k,m)*sin(delta(k)-delta(m))); %(26)\n",
    "            end\n",
    "                J(i,j) =(Vm(k)^2)*G(k,k)-J(i,j); %(25)\n",
    "            else\n",
    "                J(i,j) = Vm(k)* Vm(m)*(G(k,m)*cos(delta(k)-delta(m)) + B(k,m)*sin(delta(k)-delta(m))); %(27)\n",
    "        end\n",
    "    end\n",
    "end\n",
    "J"
   ]
  },
  {
   "cell_type": "markdown",
   "metadata": {},
   "source": [
    "Τα διαγώνια και μη διαγώνια στοιχεία του υποπίνακα $L$ δίνονται από τις σχέσεις:\n",
    "<br>\n",
    "<br>\n",
    "$$\\boxed{\n",
    "\\!\\begin{aligned}{L_{kk}=\\frac{\\partial ΔQ_k}{\\partial V_m} =  V_k\\cdot B_{kk}- \\frac{Q_{k}}{V_{k}}\\quad (28)\\\\\n",
    "όπου\\quad \\frac{Q_{k}}{V_{k}} = \\sum_{k\\not=m}{ V_m\\cdot [G_{km}\\cdot sin(δ_{k} - δ_{m}) - B_{km}\\cdot cos(δ_{k} - δ_{m})]}\\quad (29)\\\\\n",
    "L_{km}=\\frac{\\partial ΔQ_k}{\\partial V_m} = - V_k\\cdot [G_{km}\\cdot sin(δ_{k} - δ_{m}) - B_{km}\\cdot cos(δ_{k} - δ_{m})], k \\not= m \\quad (30)}\n",
    "\\end{aligned}}$$"
   ]
  },
  {
   "cell_type": "code",
   "execution_count": 13,
   "metadata": {},
   "outputs": [
    {
     "name": "stdout",
     "output_type": "stream",
     "text": [
      "L =\r\n",
      "\r\n",
      "  -14.750   10.000\r\n",
      "   10.000  -15.000\r\n",
      "\r\n"
     ]
    }
   ],
   "source": [
    "for i = 1:nPQ\n",
    "        k = pq(i);\n",
    "        for j = 1:nPQ\n",
    "            m = pq(j);\n",
    "            if k == m\n",
    "                for m = 1:nbus\n",
    "                    L(i,j) = L(i,j) + Vm(m)*(G(k,m)*sin(delta(k)-delta(m)) - B(k,m)*cos(delta(k)-delta(m))); % (29)\n",
    "                end\n",
    "                L(i,j) = Vm(k)*B(k,k)-L(i,j); %(28)\n",
    "            else\n",
    "                L(i,j) = -Vm(k)*(G(k,m)*sin(delta(k)-delta(m)) - B(k,m)*cos(delta(k)-delta(m))); \n",
    "            end\n",
    "        end\n",
    "    end\n",
    "    L"
   ]
  },
  {
   "cell_type": "markdown",
   "metadata": {},
   "source": [
    "Επομένως η Ιακωβιανή μήτρα για την 1η επανάληψη θα είναι:"
   ]
  },
  {
   "cell_type": "code",
   "execution_count": 14,
   "metadata": {},
   "outputs": [
    {
     "name": "stdout",
     "output_type": "stream",
     "text": [
      "Jac =\r\n",
      "\r\n",
      "   15.75000   -5.25000    0.00000    0.00000    0.00000\r\n",
      "   -5.25000   15.25000  -10.00000    0.00000    0.00000\r\n",
      "    0.00000  -10.00000   15.00000    0.00000    0.00000\r\n",
      "   -0.00000   -0.00000   -0.00000   14.75000  -10.00000\r\n",
      "   -0.00000   -0.00000   -0.00000  -10.00000   15.00000\r\n",
      "\r\n"
     ]
    }
   ],
   "source": [
    "% Jacobian matrix\n",
    " Jac = -[H   N; J   L] % (18)"
   ]
  },
  {
   "cell_type": "markdown",
   "metadata": {},
   "source": [
    "### 4. Υπολογισμός των νέων τάσεων και γωνιών του συστήματος\n",
    "Από τη γενική εξίσωση Newton-Raphson υπολογίζεται το διάνυσμα των αγνώστων:\n",
    "$$ Χ = J^{-1}Μ^{(n)}\\quad \\Rightarrow \\quad \\begin{bmatrix} Δδ\\\\ ΔV \\end{bmatrix} = \\begin{bmatrix} H & N\\\\ J & L \\end{bmatrix}^{-1}\\begin{bmatrix} ΔP\\\\ ΔQ\\end{bmatrix} \\quad (31)$$"
   ]
  },
  {
   "cell_type": "code",
   "execution_count": 15,
   "metadata": {},
   "outputs": [
    {
     "name": "stdout",
     "output_type": "stream",
     "text": [
      "X =\n",
      "\n",
      "  -0.0037166\n",
      "  -0.0682927\n",
      "  -0.0721951\n",
      "   0.0164948\n",
      "   0.0043299\n",
      "\n",
      "dTh =\n",
      "\n",
      "  -0.0037166\n",
      "  -0.0682927\n",
      "  -0.0721951\n",
      "\n",
      "dV =\n",
      "\n",
      "   0.0164948\n",
      "   0.0043299\n",
      "\n"
     ]
    }
   ],
   "source": [
    "% Correction Vector\n",
    "X = inv(Jac)*M     % (31)\n",
    "\n",
    "dTh = X(1:nbus-1)      % Change in Voltage Angle..\n",
    "dV = X(nbus:end)       % Change in Voltage Magnitude.."
   ]
  },
  {
   "cell_type": "markdown",
   "metadata": {},
   "source": [
    "Οι νέες τιμές υπολογίζονται χρησιμοποιώντας τις τιμές της προηγούμενης επανάληψης:\n",
    "$$\\begin{bmatrix}δ\\end{bmatrix}^{(n+1)}=\\begin{bmatrix}Δδ\\end{bmatrix}+\\begin{bmatrix} δ\\end{bmatrix}^{(n)}\\quad (24)$$\n",
    "$$\\begin{bmatrix}V\\end{bmatrix}^{(n+1)}=\\begin{bmatrix}ΔV\\end{bmatrix}+\\begin{bmatrix} V\\end{bmatrix}^{(n)}\\quad (25)$$\n",
    "\n",
    "Δηλαδή: $$\\begin{bmatrix}0\\\\δ_B\\\\ δ_C\\\\ δ_D \\end{bmatrix}^{(1)}=\\begin{bmatrix}Δδ\\end{bmatrix}+ \\begin{bmatrix} 0 \\\\0\\\\0\\\\0 \\end{bmatrix} $$\n",
    "και \n",
    "$$\\begin{bmatrix}1\\\\1.05\\\\ V_C\\\\ V_D \\end{bmatrix}^{(1)}=\\begin{bmatrix}ΔV\\end{bmatrix}+\\begin{bmatrix} 1\\\\1.05\\\\1\\\\1 \\end{bmatrix}$$"
   ]
  },
  {
   "cell_type": "code",
   "execution_count": 16,
   "metadata": {},
   "outputs": [
    {
     "name": "stdout",
     "output_type": "stream",
     "text": [
      "delta =\n",
      "\n",
      "   0.000000  -0.003717  -0.068293  -0.072195\n",
      "\n",
      "Vm =\n",
      "\n",
      "   1.0000   1.0500   1.0165   1.0043\n",
      "\n"
     ]
    }
   ],
   "source": [
    "% Updating State Vectors..\n",
    "% Voltage Angle..\n",
    "delta(2:nbus) = dTh + delta(2:nbus)'    % (32)\n",
    "\n",
    "% Voltage Magnitude..\n",
    "k = 1;\n",
    "for i = 2:nbus\n",
    "    if kb(i) == 0\n",
    "        Vm(i) = dV(k) + Vm(i);        % (33)\n",
    "        k = k+1;\n",
    "        end\n",
    "    end\n",
    "Vm"
   ]
  },
  {
   "cell_type": "markdown",
   "metadata": {},
   "source": [
    "Μετατροπή γωνιών από ακτίνια σε μοίρες:\n",
    "$$ δ^\\circ= \\frac{180^\\circ}{\\pi}\\cdot(rad) \\quad (34)$$"
   ]
  },
  {
   "cell_type": "code",
   "execution_count": 17,
   "metadata": {},
   "outputs": [
    {
     "name": "stdout",
     "output_type": "stream",
     "text": [
      "deltad =\r\n",
      "\r\n",
      "   0.00000  -0.21295  -3.91288  -4.13648\r\n",
      "\r\n"
     ]
    }
   ],
   "source": [
    "deltad=180/pi*delta % (34)"
   ]
  },
  {
   "cell_type": "markdown",
   "metadata": {},
   "source": [
    "### 5. Υπολογισμός ισχύων στους ζυγούς \n",
    "Οι ισχύς που χρειάζεται να προσδιοριστούν αν πρόκειται:\n",
    "* Για ζυγό ταλάντωσης, είναι η ενεργός και η άεργος ισχύς του, $P_{G}$,$Q_{G}$  \n",
    "* Για ζυγο PV, είναι η άεργος ισχύς του, $Q_{G}$\n",
    "<br>Οι ισχείς αυτές δίνονται από τις σχέσεις:\n",
    "$$P_G = P_k\\cdot S_{base} + P_D \\quad (35)$$\n",
    "$$Q_G = Q_k\\cdot S_{base} + Q_D\\quad (36)$$\n",
    "Και οι μιγαδικές ισχείς εκφράζονται ως:\n",
    "$$S_{k} = P_{k} + jQ_{k}\\quad (37)$$"
   ]
  },
  {
   "cell_type": "code",
   "execution_count": 18,
   "metadata": {},
   "outputs": [
    {
     "name": "stdout",
     "output_type": "stream",
     "text": [
      "Pg =\n",
      "\n",
      "    0\n",
      "   30\n",
      "    0\n",
      "    0\n",
      "\n",
      "Qg =\n",
      "\n",
      "  -50.00000\n",
      "   78.75000\n",
      "    0.00000\n",
      "    0.00000\n",
      "\n"
     ]
    }
   ],
   "source": [
    "k=0;\n",
    "for n = 1:nbus\n",
    "     if kb(n) == 1\n",
    "     k=k+1;\n",
    "     S(n)= P(n)+j*Q(n); % (37)\n",
    "     Pg(n) = P(n)*basemva + Pd(n); % (35)\n",
    "     Qg(n) = Q(n)*basemva + Qd(n); % (36)\n",
    "     elseif  kb(n) ==2\n",
    "     k=k+1;\n",
    "     S(n)=P(n)+j*Q(n); % (37)\n",
    "     Qg(n) = Q(n)*basemva + Qd(n); % (36)\n",
    "  end\n",
    "yload(n) = (Pd(n)- j*Qd(n))/(basemva*Vm(n)^2);\n",
    "end\n",
    "Pg\n",
    "Qg"
   ]
  },
  {
   "cell_type": "markdown",
   "metadata": {},
   "source": [
    "Στο σημείο αυτό ολοκληρώνεται η 1η επανάληψη της μεθόδου.\n",
    "<br>Η μεταβλητή $Τol$ παίρνει την τιμή της μέγιστης απόλυτης τιμής του διανύσματος διαφορών $Μ$ ώστε να ελεγχθεί το κριτήριο σύγκλισης στην αρχή του while loop.\n",
    "<br>Στο παρακάτω κελί, το αρχείο Busout υπολογίζει και εμφανίζει τα τελικά αποτελέσματα της ροής φορτίου και το αρχείο Lineflow υπολογίζει και εμφανίζει τις ροές ισχύος στις γραμμές καθώς και τις αντίστοιχες απώλειες ισχύος (όλα τα μεγέθη σε MW και MVar)."
   ]
  },
  {
   "cell_type": "code",
   "execution_count": 19,
   "metadata": {},
   "outputs": [
    {
     "name": "stdout",
     "output_type": "stream",
     "text": [
      "\n",
      "                   Power Flow Solution by Newton-Raphson Method\n",
      "                        Maximum Power Mismatch = 1 \n",
      "                             No. of Iterations = 1 \n",
      "\n",
      "    Bus  Voltage    Angle       ------Load------        ---Generation---       Injected\n",
      "    No.  Mag.       Degree        MW       Mvar           MW       Mvar           Mvar \n",
      "                                                                                       \n",
      "    1    1.000       0.00        0.00      0.00          0.00    -50.00           0.00\n",
      "    2    1.050      -0.21        0.00      0.00         30.00     78.75           0.00\n",
      "    3    1.016      -3.91       30.00      5.00          0.00      0.00           0.00\n",
      "    4    1.004      -4.14       40.00     10.00          0.00      0.00           0.00\n",
      "      \n",
      "    Total                       70.00     15.00         30.00     28.75           0.00\n",
      "\n",
      "\n",
      "                           Line Flow and Losses \n",
      "\n",
      "     --Line--  Power at bus & line flow    --Line loss--  Transformer\n",
      "     from  to    MW      Mvar     MVA       MW      Mvar      tap\n",
      "   \n",
      "     1          0.000  -50.000  100.000\n",
      "           2    3.902  -49.993   50.145    0.000    2.515\n",
      "           4   36.222   -0.857   36.233    0.000    2.626\n",
      "   \n",
      "     2          0.000   78.750  157.500\n",
      "           1   -3.902   52.507   52.652    0.000    2.515\n",
      "           3   34.438   18.703   39.189    0.000    2.786\n",
      "   \n",
      "     3          0.000  -25.000   30.414\n",
      "           2  -34.438  -15.917   37.938    0.000    2.786\n",
      "           4    3.984   12.373   12.999    0.000    0.164\n",
      "   \n",
      "     4          0.000    0.000   41.231\n",
      "           1  -36.222    3.482   36.389    0.000    2.626\n",
      "           3   -3.984  -12.210   12.843    0.000    0.164\n",
      "   \n",
      "    Total loss                             0.000    8.090\n"
     ]
    }
   ],
   "source": [
    "Busout\n",
    "Lineflow\n",
    "% Tolerance..\n",
    "%Tol = max(abs(M));\n",
    "%end"
   ]
  },
  {
   "cell_type": "markdown",
   "metadata": {},
   "source": [
    "Το παρακάτω κελί περιέχει όλο τον κώδικα της ροής φορτίου με τη μέθοδο Νewton-Raphson που περιγράψαμε αναλυτικά παραπάνω, το οποίο τρέχει και εμφανίζει τα αποτελέσματα για τις τρεις πρώτες επαναλήψεις όπου και συγκλίνει. "
   ]
  },
  {
   "cell_type": "code",
   "execution_count": 20,
   "metadata": {},
   "outputs": [
    {
     "name": "stdout",
     "output_type": "stream",
     "text": [
      "\r\n",
      "                   Power Flow Solution by Newton-Raphson Method\r\n",
      "                        Maximum Power Mismatch = 1 \r\n",
      "                             No. of Iterations = 1 \r\n",
      "\r\n",
      "    Bus  Voltage    Angle       ------Load------        ---Generation---       Injected\r\n",
      "    No.  Mag.       Degree        MW       Mvar           MW       Mvar           Mvar \r\n",
      "                                                                                       \r\n",
      "    1    1.000       0.00        0.00      0.00          0.00    -50.00           0.00\r\n",
      "    2    1.050      -0.21        0.00      0.00         30.00     78.75           0.00\r\n",
      "    3    1.016      -3.91       30.00      5.00          0.00      0.00           0.00\r\n",
      "    4    1.004      -4.14       40.00     10.00          0.00      0.00           0.00\r\n",
      "      \r\n",
      "    Total                       70.00     15.00         30.00     28.75           0.00\r\n",
      "\r\n",
      "\r\n",
      "                           Line Flow and Losses \r\n",
      "\r\n",
      "     --Line--  Power at bus & line flow    --Line loss--  Transformer\r\n",
      "     from  to    MW      Mvar     MVA       MW      Mvar      tap\r\n",
      "   \r\n",
      "     1          0.000  -50.000  100.000\r\n",
      "           2    3.902  -49.993   50.145    0.000    2.515\r\n",
      "           4   36.222   -0.857   36.233    0.000    2.626\r\n",
      "   \r\n",
      "     2          0.000   78.750  157.500\r\n",
      "           1   -3.902   52.507   52.652    0.000    2.515\r\n",
      "           3   34.438   18.703   39.189    0.000    2.786\r\n",
      "   \r\n",
      "     3          0.000  -25.000   30.414\r\n",
      "           2  -34.438  -15.917   37.938    0.000    2.786\r\n",
      "           4    3.984   12.373   12.999    0.000    0.164\r\n",
      "   \r\n",
      "     4          0.000    0.000   41.231\r\n",
      "           1  -36.222    3.482   36.389    0.000    2.626\r\n",
      "           3   -3.984  -12.210   12.843    0.000    0.164\r\n",
      "   \r\n",
      "    Total loss                             0.000    8.090\r\n",
      "\r\n",
      "                   Power Flow Solution by Newton-Raphson Method\r\n",
      "                        Maximum Power Mismatch = 0.4 \r\n",
      "                             No. of Iterations = 2 \r\n",
      "\r\n",
      "    Bus  Voltage    Angle       ------Load------        ---Generation---       Injected\r\n",
      "    No.  Mag.       Degree        MW       Mvar           MW       Mvar           Mvar \r\n",
      "                                                                                       \r\n",
      "    1    1.000       0.00        0.00      0.00         40.12    -50.85           0.00\r\n",
      "    2    1.050      -0.22        0.00      0.00         30.00     71.21           0.00\r\n",
      "    3    1.014      -3.89       30.00      5.00          0.00      0.00           0.00\r\n",
      "    4    1.002      -4.12       40.00     10.00          0.00      0.00           0.00\r\n",
      "      \r\n",
      "    Total                       70.00     15.00         70.12     20.36           0.00\r\n",
      "\r\n",
      "\r\n",
      "                           Line Flow and Losses \r\n",
      "\r\n",
      "     --Line--  Power at bus & line flow    --Line loss--  Transformer\r\n",
      "     from  to    MW      Mvar     MVA       MW      Mvar      tap\r\n",
      "   \r\n",
      "     1         40.125  -50.850   61.574\r\n",
      "           2    4.046  -49.992   50.156    0.000    2.516\r\n",
      "           4   35.954    0.464   35.957    0.000    2.586\r\n",
      "   \r\n",
      "     2         30.535   71.210  172.955\r\n",
      "           1   -4.046   52.508   52.663    0.000    2.516\r\n",
      "           3   34.047   20.114   39.544   -0.000    2.837\r\n",
      "   \r\n",
      "     3        -30.454   -3.543   30.414\r\n",
      "           2  -34.047  -17.277   38.180   -0.000    2.837\r\n",
      "           4    4.046   12.281   12.931    0.000    0.163\r\n",
      "   \r\n",
      "     4        -40.206   -8.727   41.231\r\n",
      "           1  -35.954    2.122   36.017    0.000    2.586\r\n",
      "           3   -4.046  -12.119   12.776    0.000    0.163\r\n",
      "   \r\n",
      "    Total loss                            -0.000    8.101\r\n",
      "\r\n",
      "                   Power Flow Solution by Newton-Raphson Method\r\n",
      "                        Maximum Power Mismatch = 0.0145679 \r\n",
      "                             No. of Iterations = 3 \r\n",
      "\r\n",
      "    Bus  Voltage    Angle       ------Load------        ---Generation---       Injected\r\n",
      "    No.  Mag.       Degree        MW       Mvar           MW       Mvar           Mvar \r\n",
      "                                                                                       \r\n",
      "    1    1.000       0.00        0.00      0.00         40.00    -49.53           0.00\r\n",
      "    2    1.050      -0.22        0.00      0.00         30.00     72.62           0.00\r\n",
      "    3    1.014      -3.89       30.00      5.00          0.00      0.00           0.00\r\n",
      "    4    1.002      -4.12       40.00     10.00          0.00      0.00           0.00\r\n",
      "      \r\n",
      "    Total                       70.00     15.00         70.00     23.09           0.00\r\n",
      "\r\n",
      "\r\n",
      "                           Line Flow and Losses \r\n",
      "\r\n",
      "     --Line--  Power at bus & line flow    --Line loss--  Transformer\r\n",
      "     from  to    MW      Mvar     MVA       MW      Mvar      tap\r\n",
      "   \r\n",
      "     1         40.000  -49.529   59.057\r\n",
      "           2    4.046  -49.992   50.156    0.000    2.516\r\n",
      "           4   35.954    0.467   35.957    0.000    2.586\r\n",
      "   \r\n",
      "     2         30.001   72.622  175.245\r\n",
      "           1   -4.046   52.508   52.663    0.000    2.516\r\n",
      "           3   34.046   20.118   39.546    0.000    2.837\r\n",
      "   \r\n",
      "     3        -30.001   -4.996   30.414\r\n",
      "           2  -34.046  -17.281   38.181    0.000    2.837\r\n",
      "           4    4.046   12.281   12.930    0.000    0.163\r\n",
      "   \r\n",
      "     4        -40.000   -9.997   41.231\r\n",
      "           1  -35.954    2.118   36.016    0.000    2.586\r\n",
      "           3   -4.046  -12.118   12.776    0.000    0.163\r\n",
      "   \r\n",
      "    Total loss                             0.000    8.101\r\n"
     ]
    }
   ],
   "source": [
    "% Newton_Raphson iterations\n",
    "basemva = 100;\n",
    "\n",
    "%        Bus Bus  Voltage Angle   ---Load----  -------Generator-----  Injected\n",
    "%        No  code Mag.    Degree   MW   Mvar    MW  Mvar  Qmin  Qmax    Mvar\n",
    "busdata=[1   1    1.00    0.0      0      0      0    0    0      0      0\n",
    "         2   2    1.05    0.0      0      0     30    0    0    500      0\n",
    "         3   0    1.00    0.0     30      5      0    0    0    500      0\n",
    "         4   0    1.00    0.0     40     10      0    0    0      0      0];\n",
    "\n",
    "%                              Line code\n",
    "%         Bus bus   R      X      1/2 B     = 1 for lines\n",
    "%         nl  nr   p.u.   p.u.    p.u.      > 1 or < 1 tr. tap at bus nl\n",
    "linedata=[1   2    0.0    0.1     0.0         1\n",
    "          1   4    0.0    0.2     0.0         1\n",
    "          2   3    0.0    0.2     0.0         1\n",
    "          3   4    0.0    0.1     0.0         1];\n",
    "\n",
    "Vm=0; delta=0; yload=0; deltad=0;\n",
    "nbus = length(busdata(:,1));\n",
    "kb=[];Vm=[]; delta=[]; V=[];\n",
    "Pg = zeros(nbus,1); Pd = zeros(nbus,1); Qg = zeros(nbus,1); Qd = zeros(nbus,1);\n",
    "Psp = zeros(nbus,1); Qsp = zeros(nbus,1); Qsh = zeros(nbus,1);\n",
    "S = zeros(nbus,1);\n",
    "\n",
    "for k=1:nbus\n",
    "n=busdata(k,1); kb(n)=busdata(k,2); Vm(n)=busdata(k,3); delta(n)=busdata(k, 4);\n",
    "Pd(n)=busdata(k,5); Qd(n)=busdata(k,6); Pg(n)=busdata(k,7); Qg(n) = busdata(k,8);\n",
    "     delta(n) = pi/180*delta(n);\n",
    "     Psp(n)=(Pg(n)-Pd(n))/basemva; % (4)\n",
    "     Qsp(n)=(Qg(n)-Qd(n))/basemva; % (5)\n",
    "     S(n) = Psp(n) + j*Qsp(n); % (6)\n",
    "end\n",
    "\n",
    "nl = linedata(:,1);  %line from bus\n",
    "nr = linedata(:,2);  %line to bus\n",
    "R = linedata(:,3);   %line resistance\n",
    "X = linedata(:,4);   %line reactance\n",
    "Bc = j*linedata(:,5);\n",
    "a = linedata(:, 6);\n",
    "nbr=length(linedata(:,1));   %number of branch\n",
    "G=[];B=[];\n",
    "\n",
    "%the impedance of line\n",
    "Z = R + j*X;  %(10)\n",
    "%the admittance of line\n",
    "y= ones(nbr,1)./Z; %(11)\n",
    "\n",
    "for n = 1:nbr\n",
    "if a(n) <= 0  a(n) = 1; else end\n",
    "    Ybus=zeros(nbus,nbus);  % initialize Ybus to zeros\n",
    "    % formation of the off diagonal elements\n",
    "    for k=1:nbr\n",
    "       Ybus(nl(k),nr(k))=Ybus(nl(k),nr(k))-y(k)/(a(k)); %(9)\n",
    "       Ybus(nr(k),nl(k))=Ybus(nl(k),nr(k));\n",
    "    end\n",
    "end\n",
    "% formation of the diagonal elements\n",
    "for  n=1:nbus\n",
    "     for k=1:nbr\n",
    "         if nl(k)==n\n",
    "         Ybus(n,n) = Ybus(n,n)+y(k)/(a(k)^2)+ Bc(k); %(8)\n",
    "         elseif nr(k)==n\n",
    "         Ybus(n,n) = Ybus(n,n)+y(k)+Bc(k); %(8)\n",
    "         else, end\n",
    "     end\n",
    "end\n",
    "\n",
    "G = real(Ybus);                % Conductance matrix..\n",
    "B = imag(Ybus);                % Susceptance matrix..\n",
    "\n",
    "nPV = 0;\n",
    "nPQ = 0;\n",
    "\n",
    "for k = 1:nbus\n",
    "   if kb(k)==2          % PV bus\n",
    "        nPV = nPV+1;end\n",
    "   if kb(k)==0\n",
    "        nPQ = nPQ+1;end % PQ bus\n",
    "end\n",
    "\n",
    "pv = find(kb == 2 | kb == 1);   % PV Buses..\n",
    "pq = find(kb == 0);             % PQ Buses..\n",
    "\n",
    "Pgbus=[]; Pgit=[];\n",
    "Qgbus=[]; Qgit=[];\n",
    "\n",
    "Pgbus= Pg';\n",
    "Pgit=Pgbus;\n",
    "Qgbus= Qg';\n",
    "Qgit=Qgbus;\n",
    "\n",
    "Vbus = []; Vit=[];\n",
    "Vbus = Vm;\n",
    "Vit = Vbus;\n",
    "\n",
    "Tol = 1;\n",
    "Iter = 0;\n",
    "while (Tol >=0.001 && Iter<3)   % Iteration starting.. (16)\n",
    "Iter = Iter +1;\n",
    "P = zeros(nbus,1);Q = zeros(nbus,1); % Calculate P and Q\n",
    "\n",
    "for k = 1:nbus\n",
    "    for m = 1:nbus\n",
    "            P(k) = P(k) + Vm(k)*Vm(m)*(G(k,m)*cos(delta(k)-delta(m)) + B(k,m)*sin(delta(k)-delta(m))); % (13)\n",
    "            Q(k) = Q(k) + Vm(k)*Vm(m)*(G(k,m)*sin(delta(k)-delta(m)) - B(k,m)*cos(delta(k)-delta(m))); % (14)\n",
    "    end\n",
    "end\n",
    "\n",
    "dPa = Psp-P; %(13)\n",
    "dQa = Qsp-Q; %(14)\n",
    "\n",
    "k = 1;\n",
    "dQ = zeros(nPQ,1);\n",
    "for i = 1:nbus\n",
    "    if kb(i) == 0\n",
    "        dQ(k,1) = dQa(i);\n",
    "        k = k+1;\n",
    "    end\n",
    "end\n",
    "\n",
    "dP = dPa(2:nbus);\n",
    "dQ;\n",
    "\n",
    "% Mismatch Vector\n",
    "M = [dP; dQ];   % (17)\n",
    "\n",
    "clear H N J L\n",
    "H = zeros(nbus-1,nbus-1);\n",
    "N = zeros(nbus-1,nPQ);\n",
    "J = zeros(nPQ,nbus-1);\n",
    "L = zeros(nPQ,nPQ);\n",
    "\n",
    "for i = 1:(nbus-1)\n",
    "    k = i+1;\n",
    "    for j = 1:(nbus-1)\n",
    "        m = j+1;\n",
    "        if k == m\n",
    "            for m = 1:nbus\n",
    "                H(i,j) = H(i,j) + Vm(k)*Vm(m)*(G(k,m)*sin(delta(k)-delta(m)) - B(k,m)*cos(delta(k)-delta(m))); % (20)\n",
    "            end\n",
    "            H(i,j) =(Vm(k)^2)*B(k,k)+ H(i,j); % (19)\n",
    "        else\n",
    "            H(i,j) = -Vm(k)*Vm(m)*(G(k,m)*sin(delta(k)-delta(m)) - B(k,m)*cos(delta(k)-delta(m))); %(21)\n",
    "        end\n",
    "    end\n",
    "end\n",
    "\n",
    "for i = 1:(nbus-1)\n",
    "        k = i+1;\n",
    "        for j = 1:nPQ\n",
    "            m = pq(j);\n",
    "            if k == m\n",
    "                for m = 1:nbus\n",
    "                    N(i,j) = N(i,j) + Vm(m)*(G(k,m)*cos(delta(k)-delta(m)) + B(k,m)*sin(delta(k)-delta(m))); % (23)\n",
    "                end\n",
    "                N(i,j) =- Vm(k)*G(k,k)- N(i,j); % (22)\n",
    "            else\n",
    "                N(i,j) = -Vm(k)*(G(k,m)*cos(delta(k)-delta(m)) + B(k,m)*sin(delta(k)-delta(m))); % (24)\n",
    "            end\n",
    "        end\n",
    "    end\n",
    "\n",
    "    for i = 1:nPQ\n",
    "    k = pq(i);\n",
    "    for j = 1:(nbus-1)\n",
    "        m = j+1;\n",
    "        if k == m\n",
    "            for m = 1:nbus\n",
    "                J(i,j) = J(i,j) + Vm(k)*Vm(m)*(G(k,m)*cos(delta(k)-delta(m)) + B(k,m)*sin(delta(k)-delta(m))); %(26)\n",
    "            end\n",
    "                J(i,j) =(Vm(k)^2)*G(k,k)-J(i,j); %(25)\n",
    "            else\n",
    "                J(i,j) = Vm(k)* Vm(m)*(G(k,m)*cos(delta(k)-delta(m)) + B(k,m)*sin(delta(k)-delta(m))); %(27)\n",
    "        end\n",
    "    end\n",
    "end\n",
    "\n",
    "for i = 1:nPQ\n",
    "        k = pq(i);\n",
    "        for j = 1:nPQ\n",
    "            m = pq(j);\n",
    "            if k == m\n",
    "                for m = 1:nbus\n",
    "                    L(i,j) = L(i,j) + Vm(m)*(G(k,m)*sin(delta(k)-delta(m)) - B(k,m)*cos(delta(k)-delta(m))); % (29)\n",
    "                end\n",
    "                L(i,j) = Vm(k)*B(k,k)-L(i,j); % (28)\n",
    "            else\n",
    "                L(i,j) = -Vm(k)*(G(k,m)*sin(delta(k)-delta(m)) - B(k,m)*cos(delta(k)-delta(m))); % (30)\n",
    "            end\n",
    "        end\n",
    " end\n",
    "\n",
    "Jac = -[H   N; J   L]; % Jacobian matrix\n",
    "\n",
    "  % Correction Vector\n",
    "X = inv(Jac)*M;     % (31)\n",
    "\n",
    "dTh = X(1:nbus-1);     % Change in Voltage Angle..\n",
    "dV = X(nbus:end);       % Change in Voltage Magnitude..\n",
    "\n",
    "% Updating State Vectors..\n",
    "% Voltage Angle..\n",
    "delta(2:nbus) = dTh + delta(2:nbus)';    % (32)\n",
    "\n",
    "% Voltage Magnitude..\n",
    "k = 1;\n",
    "for i = 2:nbus\n",
    "    if kb(i) == 0\n",
    "        Vm(i) = dV(k) + Vm(i);        % (33)\n",
    "        k = k+1;\n",
    "        end\n",
    "    end\n",
    "\n",
    "deltad=180/pi*delta; % (34)\n",
    "\n",
    "iter =[0:Iter];\n",
    "Vbus = [Vm; Vit];\n",
    "Vit = Vbus;\n",
    "\n",
    "\n",
    "k=0;\n",
    "for n = 1:nbus\n",
    "     if kb(n) == 1\n",
    "     k=k+1;\n",
    "     S(n)= P(n)+j*Q(n); % (37)\n",
    "     Pg(n) = P(n)*basemva + Pd(n); % (35)\n",
    "     Qg(n) = Q(n)*basemva + Qd(n); % (36)\n",
    "     elseif  kb(n) ==2\n",
    "     k=k+1;\n",
    "     S(n)=P(n)+j*Q(n); % (37)\n",
    "     Qg(n) = Q(n)*basemva + Qd(n); % (36)\n",
    "  end\n",
    "yload(n) = (Pd(n)- j*Qd(n))/(basemva*Vm(n)^2);\n",
    "end\n",
    "\n",
    "Pgbus = [Pg'; Pgit];\n",
    "Pgit = Pgbus;\n",
    "\n",
    "Qgbus = [Qg'; Qgit];\n",
    "Qgit = Qgbus;\n",
    "\n",
    "Busout\n",
    "Lineflow\n",
    "\n",
    "% Tolerance..\n",
    "Tol = max(abs(M));\n",
    "end"
   ]
  },
  {
   "cell_type": "code",
   "execution_count": 21,
   "metadata": {},
   "outputs": [
    {
     "data": {
      "image/png": "[encoded data removed]",
      "text/plain": [
       "<IPython.core.display.Image object>"
      ]
     },
     "execution_count": 21,
     "metadata": {},
     "output_type": "execute_result"
    }
   ],
   "source": [
    "A=flipud(Vbus);\n",
    "iter;\n",
    "\n",
    "N = {'A','B','C','D'};\n",
    "L = {1.05, 1.1, 1.05, 1.03};\n",
    "C = {'b','c','g','y'}; % Cell array of colors.\n",
    "for k = 1:4\n",
    " subplot(2,2,k);\n",
    " bar(iter, A(:,k), 0.3,C{k})\n",
    " ylim([0.95 L{k}])\n",
    " grid on\n",
    " grid minor\n",
    " title(['Tasi zugou ',N{k}])\n",
    "end"
   ]
  },
  {
   "cell_type": "code",
   "execution_count": 22,
   "metadata": {},
   "outputs": [
    {
     "data": {
      "image/png": "[encoded data removed]",
      "text/plain": [
       "<IPython.core.display.Image object>"
      ]
     },
     "execution_count": 22,
     "metadata": {},
     "output_type": "execute_result"
    }
   ],
   "source": [
    "B=flipud(Pgbus);\n",
    "D=flipud(Qgbus);\n",
    "\n",
    "N = {'A','B'};\n",
    "C = {'b','c'};\n",
    "for k = 1:2\n",
    " subplot(1,2,k);\n",
    " bar(iter, B(:,k), 0.3,C{k})\n",
    " %ylim([25 45])\n",
    " grid on\n",
    " grid minor\n",
    " title(['Energos paragogi zugou ',N{k}])\n",
    "end"
   ]
  },
  {
   "cell_type": "code",
   "execution_count": 23,
   "metadata": {},
   "outputs": [
    {
     "data": {
      "image/png": "[encoded data removed]",
      "text/plain": [
       "<IPython.core.display.Image object>"
      ]
     },
     "execution_count": 23,
     "metadata": {},
     "output_type": "execute_result"
    }
   ],
   "source": [
    "N = {'A','B'};\n",
    "C = {'y','m'};\n",
    "for k = 1:2\n",
    " subplot(1,2,k);\n",
    " bar(iter, D(:,k), 0.3,C{k})\n",
    " grid on\n",
    " grid minor\n",
    " title(['Aergos paragogi zugou ',N{k}])\n",
    "end"
   ]
  },
  {
   "cell_type": "code",
   "execution_count": 0,
   "metadata": {},
   "outputs": [],
   "source": []
  }
 ],
 "metadata": {
  "kernelspec": {
   "display_name": "Matlab",
   "language": "matlab",
   "name": "matlab"
  },
  "language_info": {
   "codemirror_mode": "octave",
   "file_extension": ".m",
   "help_links": [
    {
     "text": "MetaKernel Magics",
     "url": "https://github.com/calysto/metakernel/blob/master/metakernel/magics/README.md"
    }
   ],
   "mimetype": "text/x-octave",
   "name": "matlab",
   "version": "0.16.1"
  },
  "latex_envs": {
   "LaTeX_envs_menu_present": true,
   "autoclose": false,
   "autocomplete": true,
   "bibliofile": "biblio.bib",
   "cite_by": "apalike",
   "current_citInitial": 1,
   "eqLabelWithNumbers": true,
   "eqNumInitial": 1,
   "hotkeys": {
    "equation": "Ctrl-E",
    "itemize": "Ctrl-I"
   },
   "labels_anchors": false,
   "latex_user_defs": false,
   "report_style_numbering": false,
   "user_envs_cfg": false
  }
 },
 "nbformat": 4,
 "nbformat_minor": 4
}
